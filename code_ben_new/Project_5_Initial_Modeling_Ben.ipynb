{
 "cells": [
  {
   "cell_type": "markdown",
   "id": "63d0a08c-1085-423c-aad7-0235528bc912",
   "metadata": {},
   "source": [
    "## Import Libaries and Packages"
   ]
  },
  {
   "cell_type": "code",
   "execution_count": 1,
   "id": "507b0264-af29-4392-bde4-e6af34c556d0",
   "metadata": {},
   "outputs": [],
   "source": [
    "import pandas as pd\n",
    "import numpy as np\n",
    "import matplotlib.pyplot as plt\n",
    "from sklearn.model_selection import train_test_split, GridSearchCV, cross_val_score\n",
    "from sklearn.svm import SVR\n",
    "from imblearn.over_sampling import RandomOverSampler\n",
    "from sklearn.ensemble import BaggingRegressor, RandomForestRegressor\n",
    "from sklearn.neighbors import KNeighborsRegressor\n",
    "from sklearn.linear_model import LinearRegression, Ridge, RidgeCV, Lasso, LassoCV, ElasticNet\n",
    "from sklearn.preprocessing import PolynomialFeatures, StandardScaler\n",
    "from sklearn.metrics import mean_absolute_error, mean_squared_error, r2_score\n",
    "from sklearn.ensemble import AdaBoostRegressor\n",
    "from sklearn.tree import DecisionTreeRegressor\n",
    "from sklearn.pipeline import Pipeline, FeatureUnion, make_pipeline\n",
    "from sklearn.multioutput import MultiOutputRegressor\n",
    "from sklearn.feature_selection import SelectKBest, f_regression\n",
    "\n",
    "import warnings\n",
    "warnings.simplefilter(action='ignore', category=FutureWarning);"
   ]
  },
  {
   "cell_type": "markdown",
   "id": "556d594f-a038-4df6-b01e-056719d9a0d1",
   "metadata": {},
   "source": [
    "## Import and Investigate the Data"
   ]
  },
  {
   "cell_type": "code",
   "execution_count": 2,
   "id": "e1a02119-23dc-44d9-b3b1-54a545b34bd3",
   "metadata": {},
   "outputs": [],
   "source": [
    "df_train = pd.read_csv('/Users/ben/Desktop/DSI_GA_Materials/project_5/data/df_2000_to_2017_pollution_renewables.csv')"
   ]
  },
  {
   "cell_type": "code",
   "execution_count": 3,
   "id": "4dd57cef-552c-454f-a85d-88d69ce2e2fc",
   "metadata": {},
   "outputs": [],
   "source": [
    "df_test = pd.read_csv('/Users/ben/Desktop/DSI_GA_Materials/project_5/data/df_2018_to_2020_pollution_renewables.csv')"
   ]
  },
  {
   "cell_type": "code",
   "execution_count": 4,
   "id": "ee96a726-ec02-4b51-acc1-93d0f41ea2b3",
   "metadata": {},
   "outputs": [
    {
     "data": {
      "text/plain": [
       "State                                                                object\n",
       "Year                                                                  int64\n",
       "Month                                                                 int64\n",
       "O3 Mean                                                             float64\n",
       "O3 1st Max Value                                                    float64\n",
       "O3 1st Max Hour                                                     float64\n",
       "O3 AQI                                                              float64\n",
       "CO Mean                                                             float64\n",
       "CO 1st Max Value                                                    float64\n",
       "CO 1st Max Hour                                                     float64\n",
       "CO AQI                                                              float64\n",
       "SO2 Mean                                                            float64\n",
       "SO2 1st Max Value                                                   float64\n",
       "SO2 1st Max Hour                                                    float64\n",
       "SO2 AQI                                                             float64\n",
       "NO2 Mean                                                            float64\n",
       "NO2 1st Max Value                                                   float64\n",
       "NO2 1st Max Hour                                                    float64\n",
       "NO2 AQI                                                             float64\n",
       "Renewable energy share in the total final energy consumption (%)    float64\n",
       "Electricity from fossil fuels (TWh)                                 float64\n",
       "Electricity from nuclear (TWh)                                      float64\n",
       "Electricity from renewables (TWh)                                   float64\n",
       "Low-carbon electricity (% electricity)                              float64\n",
       "Primary energy consumption per capita (kWh/person)                  float64\n",
       "Energy intensity level of primary energy (MJ/$2017 PPP GDP)         float64\n",
       "Renewables (% equivalent primary energy)                            float64\n",
       "dtype: object"
      ]
     },
     "execution_count": 4,
     "metadata": {},
     "output_type": "execute_result"
    }
   ],
   "source": [
    "df_train.dtypes"
   ]
  },
  {
   "cell_type": "code",
   "execution_count": 5,
   "id": "97ba983e-70aa-4b18-8958-7c35dab06176",
   "metadata": {},
   "outputs": [
    {
     "data": {
      "text/plain": [
       "(6063, 27)"
      ]
     },
     "execution_count": 5,
     "metadata": {},
     "output_type": "execute_result"
    }
   ],
   "source": [
    "df_train.shape"
   ]
  },
  {
   "cell_type": "code",
   "execution_count": 6,
   "id": "7d452b1f-70fb-4812-a723-8cccbb0ffc8d",
   "metadata": {},
   "outputs": [
    {
     "data": {
      "text/plain": [
       "(1536, 27)"
      ]
     },
     "execution_count": 6,
     "metadata": {},
     "output_type": "execute_result"
    }
   ],
   "source": [
    "df_test.shape"
   ]
  },
  {
   "cell_type": "code",
   "execution_count": 7,
   "id": "06190ac0-ba96-40f2-9b42-0e53bc909fb6",
   "metadata": {},
   "outputs": [
    {
     "data": {
      "text/plain": [
       "Index(['State', 'Year', 'Month', 'O3 Mean', 'O3 1st Max Value',\n",
       "       'O3 1st Max Hour', 'O3 AQI', 'CO Mean', 'CO 1st Max Value',\n",
       "       'CO 1st Max Hour', 'CO AQI', 'SO2 Mean', 'SO2 1st Max Value',\n",
       "       'SO2 1st Max Hour', 'SO2 AQI', 'NO2 Mean', 'NO2 1st Max Value',\n",
       "       'NO2 1st Max Hour', 'NO2 AQI',\n",
       "       'Renewable energy share in the total final energy consumption (%)',\n",
       "       'Electricity from fossil fuels (TWh)', 'Electricity from nuclear (TWh)',\n",
       "       'Electricity from renewables (TWh)',\n",
       "       'Low-carbon electricity (% electricity)',\n",
       "       'Primary energy consumption per capita (kWh/person)',\n",
       "       'Energy intensity level of primary energy (MJ/$2017 PPP GDP)',\n",
       "       'Renewables (% equivalent primary energy)'],\n",
       "      dtype='object')"
      ]
     },
     "execution_count": 7,
     "metadata": {},
     "output_type": "execute_result"
    }
   ],
   "source": [
    "df_train.columns"
   ]
  },
  {
   "cell_type": "markdown",
   "id": "f256e190-61a8-492f-8857-78de981c55f2",
   "metadata": {},
   "source": [
    "### Renewable energy amounts are by number of pollution observations, these are approximations based on the pollution amounts. Approximations make renewable, fossil fuel, energy usage uniform across states in order to get a rough estimate for totals upon the test set. "
   ]
  },
  {
   "cell_type": "markdown",
   "id": "dfbbdd43-b97a-4707-b495-4a657367337e",
   "metadata": {},
   "source": [
    "## Modeling Section"
   ]
  },
  {
   "cell_type": "markdown",
   "id": "e471d868-faba-494f-9ebc-37cf3efdc9c3",
   "metadata": {},
   "source": [
    "### Define features and perform train-test split"
   ]
  },
  {
   "cell_type": "code",
   "execution_count": 8,
   "id": "0bb407ad-3fd7-4ac9-b459-00d34c62a0cb",
   "metadata": {},
   "outputs": [],
   "source": [
    "df_train = pd.get_dummies(df_train, columns=['State'], prefix='State')"
   ]
  },
  {
   "cell_type": "code",
   "execution_count": 9,
   "id": "3d396b3c-1b4d-44ff-9717-c4db2fc6877e",
   "metadata": {},
   "outputs": [
    {
     "data": {
      "text/html": [
       "<div>\n",
       "<style scoped>\n",
       "    .dataframe tbody tr th:only-of-type {\n",
       "        vertical-align: middle;\n",
       "    }\n",
       "\n",
       "    .dataframe tbody tr th {\n",
       "        vertical-align: top;\n",
       "    }\n",
       "\n",
       "    .dataframe thead th {\n",
       "        text-align: right;\n",
       "    }\n",
       "</style>\n",
       "<table border=\"1\" class=\"dataframe\">\n",
       "  <thead>\n",
       "    <tr style=\"text-align: right;\">\n",
       "      <th></th>\n",
       "      <th>Year</th>\n",
       "      <th>Month</th>\n",
       "      <th>O3 Mean</th>\n",
       "      <th>O3 1st Max Value</th>\n",
       "      <th>O3 1st Max Hour</th>\n",
       "      <th>O3 AQI</th>\n",
       "      <th>CO Mean</th>\n",
       "      <th>CO 1st Max Value</th>\n",
       "      <th>CO 1st Max Hour</th>\n",
       "      <th>CO AQI</th>\n",
       "      <th>...</th>\n",
       "      <th>State_South Carolina</th>\n",
       "      <th>State_South Dakota</th>\n",
       "      <th>State_Tennessee</th>\n",
       "      <th>State_Texas</th>\n",
       "      <th>State_Utah</th>\n",
       "      <th>State_Vermont</th>\n",
       "      <th>State_Virginia</th>\n",
       "      <th>State_Washington</th>\n",
       "      <th>State_Wisconsin</th>\n",
       "      <th>State_Wyoming</th>\n",
       "    </tr>\n",
       "  </thead>\n",
       "  <tbody>\n",
       "    <tr>\n",
       "      <th>0</th>\n",
       "      <td>2000</td>\n",
       "      <td>1</td>\n",
       "      <td>0.018242</td>\n",
       "      <td>0.033239</td>\n",
       "      <td>9.945652</td>\n",
       "      <td>31.891304</td>\n",
       "      <td>1.336178</td>\n",
       "      <td>2.400000</td>\n",
       "      <td>10.130435</td>\n",
       "      <td>27.250000</td>\n",
       "      <td>...</td>\n",
       "      <td>False</td>\n",
       "      <td>False</td>\n",
       "      <td>False</td>\n",
       "      <td>False</td>\n",
       "      <td>False</td>\n",
       "      <td>False</td>\n",
       "      <td>False</td>\n",
       "      <td>False</td>\n",
       "      <td>False</td>\n",
       "      <td>False</td>\n",
       "    </tr>\n",
       "    <tr>\n",
       "      <th>1</th>\n",
       "      <td>2000</td>\n",
       "      <td>2</td>\n",
       "      <td>0.023883</td>\n",
       "      <td>0.042200</td>\n",
       "      <td>10.387500</td>\n",
       "      <td>44.050000</td>\n",
       "      <td>0.985815</td>\n",
       "      <td>1.772500</td>\n",
       "      <td>9.212500</td>\n",
       "      <td>20.162500</td>\n",
       "      <td>...</td>\n",
       "      <td>False</td>\n",
       "      <td>False</td>\n",
       "      <td>False</td>\n",
       "      <td>False</td>\n",
       "      <td>False</td>\n",
       "      <td>False</td>\n",
       "      <td>False</td>\n",
       "      <td>False</td>\n",
       "      <td>False</td>\n",
       "      <td>False</td>\n",
       "    </tr>\n",
       "    <tr>\n",
       "      <th>2</th>\n",
       "      <td>2000</td>\n",
       "      <td>3</td>\n",
       "      <td>0.027969</td>\n",
       "      <td>0.045933</td>\n",
       "      <td>10.483146</td>\n",
       "      <td>44.157303</td>\n",
       "      <td>0.690650</td>\n",
       "      <td>1.179775</td>\n",
       "      <td>7.966292</td>\n",
       "      <td>13.426966</td>\n",
       "      <td>...</td>\n",
       "      <td>False</td>\n",
       "      <td>False</td>\n",
       "      <td>False</td>\n",
       "      <td>False</td>\n",
       "      <td>False</td>\n",
       "      <td>False</td>\n",
       "      <td>False</td>\n",
       "      <td>False</td>\n",
       "      <td>False</td>\n",
       "      <td>False</td>\n",
       "    </tr>\n",
       "    <tr>\n",
       "      <th>3</th>\n",
       "      <td>2000</td>\n",
       "      <td>4</td>\n",
       "      <td>0.034200</td>\n",
       "      <td>0.054920</td>\n",
       "      <td>10.760000</td>\n",
       "      <td>58.040000</td>\n",
       "      <td>0.661423</td>\n",
       "      <td>1.154000</td>\n",
       "      <td>9.160000</td>\n",
       "      <td>13.220000</td>\n",
       "      <td>...</td>\n",
       "      <td>False</td>\n",
       "      <td>False</td>\n",
       "      <td>False</td>\n",
       "      <td>False</td>\n",
       "      <td>False</td>\n",
       "      <td>False</td>\n",
       "      <td>False</td>\n",
       "      <td>False</td>\n",
       "      <td>False</td>\n",
       "      <td>False</td>\n",
       "    </tr>\n",
       "    <tr>\n",
       "      <th>4</th>\n",
       "      <td>2000</td>\n",
       "      <td>5</td>\n",
       "      <td>0.038819</td>\n",
       "      <td>0.059276</td>\n",
       "      <td>10.379310</td>\n",
       "      <td>70.620690</td>\n",
       "      <td>0.539292</td>\n",
       "      <td>0.920690</td>\n",
       "      <td>6.086207</td>\n",
       "      <td>10.568966</td>\n",
       "      <td>...</td>\n",
       "      <td>False</td>\n",
       "      <td>False</td>\n",
       "      <td>False</td>\n",
       "      <td>False</td>\n",
       "      <td>False</td>\n",
       "      <td>False</td>\n",
       "      <td>False</td>\n",
       "      <td>False</td>\n",
       "      <td>False</td>\n",
       "      <td>False</td>\n",
       "    </tr>\n",
       "    <tr>\n",
       "      <th>...</th>\n",
       "      <td>...</td>\n",
       "      <td>...</td>\n",
       "      <td>...</td>\n",
       "      <td>...</td>\n",
       "      <td>...</td>\n",
       "      <td>...</td>\n",
       "      <td>...</td>\n",
       "      <td>...</td>\n",
       "      <td>...</td>\n",
       "      <td>...</td>\n",
       "      <td>...</td>\n",
       "      <td>...</td>\n",
       "      <td>...</td>\n",
       "      <td>...</td>\n",
       "      <td>...</td>\n",
       "      <td>...</td>\n",
       "      <td>...</td>\n",
       "      <td>...</td>\n",
       "      <td>...</td>\n",
       "      <td>...</td>\n",
       "      <td>...</td>\n",
       "    </tr>\n",
       "    <tr>\n",
       "      <th>6058</th>\n",
       "      <td>2017</td>\n",
       "      <td>8</td>\n",
       "      <td>0.043358</td>\n",
       "      <td>0.052194</td>\n",
       "      <td>9.064516</td>\n",
       "      <td>49.709677</td>\n",
       "      <td>0.189534</td>\n",
       "      <td>0.209677</td>\n",
       "      <td>1.161290</td>\n",
       "      <td>2.096774</td>\n",
       "      <td>...</td>\n",
       "      <td>False</td>\n",
       "      <td>False</td>\n",
       "      <td>False</td>\n",
       "      <td>False</td>\n",
       "      <td>False</td>\n",
       "      <td>False</td>\n",
       "      <td>False</td>\n",
       "      <td>False</td>\n",
       "      <td>False</td>\n",
       "      <td>True</td>\n",
       "    </tr>\n",
       "    <tr>\n",
       "      <th>6059</th>\n",
       "      <td>2017</td>\n",
       "      <td>9</td>\n",
       "      <td>0.037946</td>\n",
       "      <td>0.046000</td>\n",
       "      <td>10.350000</td>\n",
       "      <td>45.400000</td>\n",
       "      <td>0.196542</td>\n",
       "      <td>0.255000</td>\n",
       "      <td>5.400000</td>\n",
       "      <td>2.700000</td>\n",
       "      <td>...</td>\n",
       "      <td>False</td>\n",
       "      <td>False</td>\n",
       "      <td>False</td>\n",
       "      <td>False</td>\n",
       "      <td>False</td>\n",
       "      <td>False</td>\n",
       "      <td>False</td>\n",
       "      <td>False</td>\n",
       "      <td>False</td>\n",
       "      <td>True</td>\n",
       "    </tr>\n",
       "    <tr>\n",
       "      <th>6060</th>\n",
       "      <td>2017</td>\n",
       "      <td>10</td>\n",
       "      <td>0.034492</td>\n",
       "      <td>0.041727</td>\n",
       "      <td>9.863636</td>\n",
       "      <td>38.727273</td>\n",
       "      <td>0.121151</td>\n",
       "      <td>0.150000</td>\n",
       "      <td>3.000000</td>\n",
       "      <td>1.500000</td>\n",
       "      <td>...</td>\n",
       "      <td>False</td>\n",
       "      <td>False</td>\n",
       "      <td>False</td>\n",
       "      <td>False</td>\n",
       "      <td>False</td>\n",
       "      <td>False</td>\n",
       "      <td>False</td>\n",
       "      <td>False</td>\n",
       "      <td>False</td>\n",
       "      <td>True</td>\n",
       "    </tr>\n",
       "    <tr>\n",
       "      <th>6061</th>\n",
       "      <td>2017</td>\n",
       "      <td>11</td>\n",
       "      <td>0.028938</td>\n",
       "      <td>0.035960</td>\n",
       "      <td>10.760000</td>\n",
       "      <td>33.320000</td>\n",
       "      <td>0.119833</td>\n",
       "      <td>0.164000</td>\n",
       "      <td>5.520000</td>\n",
       "      <td>1.640000</td>\n",
       "      <td>...</td>\n",
       "      <td>False</td>\n",
       "      <td>False</td>\n",
       "      <td>False</td>\n",
       "      <td>False</td>\n",
       "      <td>False</td>\n",
       "      <td>False</td>\n",
       "      <td>False</td>\n",
       "      <td>False</td>\n",
       "      <td>False</td>\n",
       "      <td>True</td>\n",
       "    </tr>\n",
       "    <tr>\n",
       "      <th>6062</th>\n",
       "      <td>2017</td>\n",
       "      <td>12</td>\n",
       "      <td>0.033213</td>\n",
       "      <td>0.038258</td>\n",
       "      <td>10.612903</td>\n",
       "      <td>35.354839</td>\n",
       "      <td>0.117271</td>\n",
       "      <td>0.177419</td>\n",
       "      <td>6.870968</td>\n",
       "      <td>1.774194</td>\n",
       "      <td>...</td>\n",
       "      <td>False</td>\n",
       "      <td>False</td>\n",
       "      <td>False</td>\n",
       "      <td>False</td>\n",
       "      <td>False</td>\n",
       "      <td>False</td>\n",
       "      <td>False</td>\n",
       "      <td>False</td>\n",
       "      <td>False</td>\n",
       "      <td>True</td>\n",
       "    </tr>\n",
       "  </tbody>\n",
       "</table>\n",
       "<p>6063 rows × 74 columns</p>\n",
       "</div>"
      ],
      "text/plain": [
       "      Year  Month   O3 Mean  O3 1st Max Value  O3 1st Max Hour     O3 AQI  \\\n",
       "0     2000      1  0.018242          0.033239         9.945652  31.891304   \n",
       "1     2000      2  0.023883          0.042200        10.387500  44.050000   \n",
       "2     2000      3  0.027969          0.045933        10.483146  44.157303   \n",
       "3     2000      4  0.034200          0.054920        10.760000  58.040000   \n",
       "4     2000      5  0.038819          0.059276        10.379310  70.620690   \n",
       "...    ...    ...       ...               ...              ...        ...   \n",
       "6058  2017      8  0.043358          0.052194         9.064516  49.709677   \n",
       "6059  2017      9  0.037946          0.046000        10.350000  45.400000   \n",
       "6060  2017     10  0.034492          0.041727         9.863636  38.727273   \n",
       "6061  2017     11  0.028938          0.035960        10.760000  33.320000   \n",
       "6062  2017     12  0.033213          0.038258        10.612903  35.354839   \n",
       "\n",
       "       CO Mean  CO 1st Max Value  CO 1st Max Hour     CO AQI  ...  \\\n",
       "0     1.336178          2.400000        10.130435  27.250000  ...   \n",
       "1     0.985815          1.772500         9.212500  20.162500  ...   \n",
       "2     0.690650          1.179775         7.966292  13.426966  ...   \n",
       "3     0.661423          1.154000         9.160000  13.220000  ...   \n",
       "4     0.539292          0.920690         6.086207  10.568966  ...   \n",
       "...        ...               ...              ...        ...  ...   \n",
       "6058  0.189534          0.209677         1.161290   2.096774  ...   \n",
       "6059  0.196542          0.255000         5.400000   2.700000  ...   \n",
       "6060  0.121151          0.150000         3.000000   1.500000  ...   \n",
       "6061  0.119833          0.164000         5.520000   1.640000  ...   \n",
       "6062  0.117271          0.177419         6.870968   1.774194  ...   \n",
       "\n",
       "      State_South Carolina  State_South Dakota  State_Tennessee  State_Texas  \\\n",
       "0                    False               False            False        False   \n",
       "1                    False               False            False        False   \n",
       "2                    False               False            False        False   \n",
       "3                    False               False            False        False   \n",
       "4                    False               False            False        False   \n",
       "...                    ...                 ...              ...          ...   \n",
       "6058                 False               False            False        False   \n",
       "6059                 False               False            False        False   \n",
       "6060                 False               False            False        False   \n",
       "6061                 False               False            False        False   \n",
       "6062                 False               False            False        False   \n",
       "\n",
       "      State_Utah  State_Vermont  State_Virginia  State_Washington  \\\n",
       "0          False          False           False             False   \n",
       "1          False          False           False             False   \n",
       "2          False          False           False             False   \n",
       "3          False          False           False             False   \n",
       "4          False          False           False             False   \n",
       "...          ...            ...             ...               ...   \n",
       "6058       False          False           False             False   \n",
       "6059       False          False           False             False   \n",
       "6060       False          False           False             False   \n",
       "6061       False          False           False             False   \n",
       "6062       False          False           False             False   \n",
       "\n",
       "      State_Wisconsin  State_Wyoming  \n",
       "0               False          False  \n",
       "1               False          False  \n",
       "2               False          False  \n",
       "3               False          False  \n",
       "4               False          False  \n",
       "...               ...            ...  \n",
       "6058            False           True  \n",
       "6059            False           True  \n",
       "6060            False           True  \n",
       "6061            False           True  \n",
       "6062            False           True  \n",
       "\n",
       "[6063 rows x 74 columns]"
      ]
     },
     "execution_count": 9,
     "metadata": {},
     "output_type": "execute_result"
    }
   ],
   "source": [
    "df_train"
   ]
  },
  {
   "cell_type": "code",
   "execution_count": 10,
   "id": "4964be99-cc3f-4d9c-a4bf-c1163c433801",
   "metadata": {},
   "outputs": [],
   "source": [
    "df_test = pd.get_dummies(df_test, columns=['State'], prefix='State')"
   ]
  },
  {
   "cell_type": "code",
   "execution_count": 11,
   "id": "14367994-0daa-438c-9121-c62d68043250",
   "metadata": {},
   "outputs": [
    {
     "data": {
      "text/html": [
       "<div>\n",
       "<style scoped>\n",
       "    .dataframe tbody tr th:only-of-type {\n",
       "        vertical-align: middle;\n",
       "    }\n",
       "\n",
       "    .dataframe tbody tr th {\n",
       "        vertical-align: top;\n",
       "    }\n",
       "\n",
       "    .dataframe thead th {\n",
       "        text-align: right;\n",
       "    }\n",
       "</style>\n",
       "<table border=\"1\" class=\"dataframe\">\n",
       "  <thead>\n",
       "    <tr style=\"text-align: right;\">\n",
       "      <th></th>\n",
       "      <th>Year</th>\n",
       "      <th>Month</th>\n",
       "      <th>O3 Mean</th>\n",
       "      <th>O3 1st Max Value</th>\n",
       "      <th>O3 1st Max Hour</th>\n",
       "      <th>O3 AQI</th>\n",
       "      <th>CO Mean</th>\n",
       "      <th>CO 1st Max Value</th>\n",
       "      <th>CO 1st Max Hour</th>\n",
       "      <th>CO AQI</th>\n",
       "      <th>...</th>\n",
       "      <th>State_Pennsylvania</th>\n",
       "      <th>State_Rhode Island</th>\n",
       "      <th>State_South Dakota</th>\n",
       "      <th>State_Tennessee</th>\n",
       "      <th>State_Texas</th>\n",
       "      <th>State_Utah</th>\n",
       "      <th>State_Vermont</th>\n",
       "      <th>State_Virginia</th>\n",
       "      <th>State_Washington</th>\n",
       "      <th>State_Wyoming</th>\n",
       "    </tr>\n",
       "  </thead>\n",
       "  <tbody>\n",
       "    <tr>\n",
       "      <th>0</th>\n",
       "      <td>2018</td>\n",
       "      <td>3</td>\n",
       "      <td>0.032459</td>\n",
       "      <td>0.046000</td>\n",
       "      <td>9.400000</td>\n",
       "      <td>42.600000</td>\n",
       "      <td>0.193611</td>\n",
       "      <td>0.260000</td>\n",
       "      <td>11.400000</td>\n",
       "      <td>2.800000</td>\n",
       "      <td>...</td>\n",
       "      <td>False</td>\n",
       "      <td>False</td>\n",
       "      <td>False</td>\n",
       "      <td>False</td>\n",
       "      <td>False</td>\n",
       "      <td>False</td>\n",
       "      <td>False</td>\n",
       "      <td>False</td>\n",
       "      <td>False</td>\n",
       "      <td>False</td>\n",
       "    </tr>\n",
       "    <tr>\n",
       "      <th>1</th>\n",
       "      <td>2018</td>\n",
       "      <td>4</td>\n",
       "      <td>0.038665</td>\n",
       "      <td>0.049333</td>\n",
       "      <td>10.700000</td>\n",
       "      <td>48.466667</td>\n",
       "      <td>0.194547</td>\n",
       "      <td>0.296667</td>\n",
       "      <td>6.000000</td>\n",
       "      <td>3.233333</td>\n",
       "      <td>...</td>\n",
       "      <td>False</td>\n",
       "      <td>False</td>\n",
       "      <td>False</td>\n",
       "      <td>False</td>\n",
       "      <td>False</td>\n",
       "      <td>False</td>\n",
       "      <td>False</td>\n",
       "      <td>False</td>\n",
       "      <td>False</td>\n",
       "      <td>False</td>\n",
       "    </tr>\n",
       "    <tr>\n",
       "      <th>2</th>\n",
       "      <td>2018</td>\n",
       "      <td>5</td>\n",
       "      <td>0.031921</td>\n",
       "      <td>0.048613</td>\n",
       "      <td>9.806452</td>\n",
       "      <td>49.967742</td>\n",
       "      <td>0.237279</td>\n",
       "      <td>0.341935</td>\n",
       "      <td>4.419355</td>\n",
       "      <td>3.806452</td>\n",
       "      <td>...</td>\n",
       "      <td>False</td>\n",
       "      <td>False</td>\n",
       "      <td>False</td>\n",
       "      <td>False</td>\n",
       "      <td>False</td>\n",
       "      <td>False</td>\n",
       "      <td>False</td>\n",
       "      <td>False</td>\n",
       "      <td>False</td>\n",
       "      <td>False</td>\n",
       "    </tr>\n",
       "    <tr>\n",
       "      <th>3</th>\n",
       "      <td>2018</td>\n",
       "      <td>6</td>\n",
       "      <td>0.026653</td>\n",
       "      <td>0.042759</td>\n",
       "      <td>9.448276</td>\n",
       "      <td>45.931034</td>\n",
       "      <td>0.205339</td>\n",
       "      <td>0.272414</td>\n",
       "      <td>3.344828</td>\n",
       "      <td>2.827586</td>\n",
       "      <td>...</td>\n",
       "      <td>False</td>\n",
       "      <td>False</td>\n",
       "      <td>False</td>\n",
       "      <td>False</td>\n",
       "      <td>False</td>\n",
       "      <td>False</td>\n",
       "      <td>False</td>\n",
       "      <td>False</td>\n",
       "      <td>False</td>\n",
       "      <td>False</td>\n",
       "    </tr>\n",
       "    <tr>\n",
       "      <th>4</th>\n",
       "      <td>2018</td>\n",
       "      <td>7</td>\n",
       "      <td>0.031020</td>\n",
       "      <td>0.047452</td>\n",
       "      <td>9.419355</td>\n",
       "      <td>46.258065</td>\n",
       "      <td>0.201449</td>\n",
       "      <td>0.261290</td>\n",
       "      <td>4.000000</td>\n",
       "      <td>2.774194</td>\n",
       "      <td>...</td>\n",
       "      <td>False</td>\n",
       "      <td>False</td>\n",
       "      <td>False</td>\n",
       "      <td>False</td>\n",
       "      <td>False</td>\n",
       "      <td>False</td>\n",
       "      <td>False</td>\n",
       "      <td>False</td>\n",
       "      <td>False</td>\n",
       "      <td>False</td>\n",
       "    </tr>\n",
       "    <tr>\n",
       "      <th>...</th>\n",
       "      <td>...</td>\n",
       "      <td>...</td>\n",
       "      <td>...</td>\n",
       "      <td>...</td>\n",
       "      <td>...</td>\n",
       "      <td>...</td>\n",
       "      <td>...</td>\n",
       "      <td>...</td>\n",
       "      <td>...</td>\n",
       "      <td>...</td>\n",
       "      <td>...</td>\n",
       "      <td>...</td>\n",
       "      <td>...</td>\n",
       "      <td>...</td>\n",
       "      <td>...</td>\n",
       "      <td>...</td>\n",
       "      <td>...</td>\n",
       "      <td>...</td>\n",
       "      <td>...</td>\n",
       "      <td>...</td>\n",
       "      <td>...</td>\n",
       "    </tr>\n",
       "    <tr>\n",
       "      <th>1531</th>\n",
       "      <td>2020</td>\n",
       "      <td>8</td>\n",
       "      <td>0.043341</td>\n",
       "      <td>0.049600</td>\n",
       "      <td>11.200000</td>\n",
       "      <td>47.200000</td>\n",
       "      <td>0.134654</td>\n",
       "      <td>0.160000</td>\n",
       "      <td>1.000000</td>\n",
       "      <td>1.600000</td>\n",
       "      <td>...</td>\n",
       "      <td>False</td>\n",
       "      <td>False</td>\n",
       "      <td>False</td>\n",
       "      <td>False</td>\n",
       "      <td>False</td>\n",
       "      <td>False</td>\n",
       "      <td>False</td>\n",
       "      <td>False</td>\n",
       "      <td>False</td>\n",
       "      <td>True</td>\n",
       "    </tr>\n",
       "    <tr>\n",
       "      <th>1532</th>\n",
       "      <td>2020</td>\n",
       "      <td>9</td>\n",
       "      <td>0.042220</td>\n",
       "      <td>0.049000</td>\n",
       "      <td>8.925926</td>\n",
       "      <td>47.629630</td>\n",
       "      <td>0.153333</td>\n",
       "      <td>0.200000</td>\n",
       "      <td>2.148148</td>\n",
       "      <td>2.111111</td>\n",
       "      <td>...</td>\n",
       "      <td>False</td>\n",
       "      <td>False</td>\n",
       "      <td>False</td>\n",
       "      <td>False</td>\n",
       "      <td>False</td>\n",
       "      <td>False</td>\n",
       "      <td>False</td>\n",
       "      <td>False</td>\n",
       "      <td>False</td>\n",
       "      <td>True</td>\n",
       "    </tr>\n",
       "    <tr>\n",
       "      <th>1533</th>\n",
       "      <td>2020</td>\n",
       "      <td>10</td>\n",
       "      <td>0.036024</td>\n",
       "      <td>0.042517</td>\n",
       "      <td>9.896552</td>\n",
       "      <td>39.724138</td>\n",
       "      <td>0.121264</td>\n",
       "      <td>0.193103</td>\n",
       "      <td>3.551724</td>\n",
       "      <td>2.068966</td>\n",
       "      <td>...</td>\n",
       "      <td>False</td>\n",
       "      <td>False</td>\n",
       "      <td>False</td>\n",
       "      <td>False</td>\n",
       "      <td>False</td>\n",
       "      <td>False</td>\n",
       "      <td>False</td>\n",
       "      <td>False</td>\n",
       "      <td>False</td>\n",
       "      <td>True</td>\n",
       "    </tr>\n",
       "    <tr>\n",
       "      <th>1534</th>\n",
       "      <td>2020</td>\n",
       "      <td>11</td>\n",
       "      <td>0.033542</td>\n",
       "      <td>0.039200</td>\n",
       "      <td>9.566667</td>\n",
       "      <td>36.233333</td>\n",
       "      <td>0.096906</td>\n",
       "      <td>0.123333</td>\n",
       "      <td>3.333333</td>\n",
       "      <td>1.233333</td>\n",
       "      <td>...</td>\n",
       "      <td>False</td>\n",
       "      <td>False</td>\n",
       "      <td>False</td>\n",
       "      <td>False</td>\n",
       "      <td>False</td>\n",
       "      <td>False</td>\n",
       "      <td>False</td>\n",
       "      <td>False</td>\n",
       "      <td>False</td>\n",
       "      <td>True</td>\n",
       "    </tr>\n",
       "    <tr>\n",
       "      <th>1535</th>\n",
       "      <td>2020</td>\n",
       "      <td>12</td>\n",
       "      <td>0.036069</td>\n",
       "      <td>0.039806</td>\n",
       "      <td>9.709677</td>\n",
       "      <td>36.838710</td>\n",
       "      <td>0.079032</td>\n",
       "      <td>0.100000</td>\n",
       "      <td>2.161290</td>\n",
       "      <td>1.000000</td>\n",
       "      <td>...</td>\n",
       "      <td>False</td>\n",
       "      <td>False</td>\n",
       "      <td>False</td>\n",
       "      <td>False</td>\n",
       "      <td>False</td>\n",
       "      <td>False</td>\n",
       "      <td>False</td>\n",
       "      <td>False</td>\n",
       "      <td>False</td>\n",
       "      <td>True</td>\n",
       "    </tr>\n",
       "  </tbody>\n",
       "</table>\n",
       "<p>1536 rows × 71 columns</p>\n",
       "</div>"
      ],
      "text/plain": [
       "      Year  Month   O3 Mean  O3 1st Max Value  O3 1st Max Hour     O3 AQI  \\\n",
       "0     2018      3  0.032459          0.046000         9.400000  42.600000   \n",
       "1     2018      4  0.038665          0.049333        10.700000  48.466667   \n",
       "2     2018      5  0.031921          0.048613         9.806452  49.967742   \n",
       "3     2018      6  0.026653          0.042759         9.448276  45.931034   \n",
       "4     2018      7  0.031020          0.047452         9.419355  46.258065   \n",
       "...    ...    ...       ...               ...              ...        ...   \n",
       "1531  2020      8  0.043341          0.049600        11.200000  47.200000   \n",
       "1532  2020      9  0.042220          0.049000         8.925926  47.629630   \n",
       "1533  2020     10  0.036024          0.042517         9.896552  39.724138   \n",
       "1534  2020     11  0.033542          0.039200         9.566667  36.233333   \n",
       "1535  2020     12  0.036069          0.039806         9.709677  36.838710   \n",
       "\n",
       "       CO Mean  CO 1st Max Value  CO 1st Max Hour    CO AQI  ...  \\\n",
       "0     0.193611          0.260000        11.400000  2.800000  ...   \n",
       "1     0.194547          0.296667         6.000000  3.233333  ...   \n",
       "2     0.237279          0.341935         4.419355  3.806452  ...   \n",
       "3     0.205339          0.272414         3.344828  2.827586  ...   \n",
       "4     0.201449          0.261290         4.000000  2.774194  ...   \n",
       "...        ...               ...              ...       ...  ...   \n",
       "1531  0.134654          0.160000         1.000000  1.600000  ...   \n",
       "1532  0.153333          0.200000         2.148148  2.111111  ...   \n",
       "1533  0.121264          0.193103         3.551724  2.068966  ...   \n",
       "1534  0.096906          0.123333         3.333333  1.233333  ...   \n",
       "1535  0.079032          0.100000         2.161290  1.000000  ...   \n",
       "\n",
       "      State_Pennsylvania  State_Rhode Island  State_South Dakota  \\\n",
       "0                  False               False               False   \n",
       "1                  False               False               False   \n",
       "2                  False               False               False   \n",
       "3                  False               False               False   \n",
       "4                  False               False               False   \n",
       "...                  ...                 ...                 ...   \n",
       "1531               False               False               False   \n",
       "1532               False               False               False   \n",
       "1533               False               False               False   \n",
       "1534               False               False               False   \n",
       "1535               False               False               False   \n",
       "\n",
       "      State_Tennessee  State_Texas  State_Utah  State_Vermont  State_Virginia  \\\n",
       "0               False        False       False          False           False   \n",
       "1               False        False       False          False           False   \n",
       "2               False        False       False          False           False   \n",
       "3               False        False       False          False           False   \n",
       "4               False        False       False          False           False   \n",
       "...               ...          ...         ...            ...             ...   \n",
       "1531            False        False       False          False           False   \n",
       "1532            False        False       False          False           False   \n",
       "1533            False        False       False          False           False   \n",
       "1534            False        False       False          False           False   \n",
       "1535            False        False       False          False           False   \n",
       "\n",
       "      State_Washington  State_Wyoming  \n",
       "0                False          False  \n",
       "1                False          False  \n",
       "2                False          False  \n",
       "3                False          False  \n",
       "4                False          False  \n",
       "...                ...            ...  \n",
       "1531             False           True  \n",
       "1532             False           True  \n",
       "1533             False           True  \n",
       "1534             False           True  \n",
       "1535             False           True  \n",
       "\n",
       "[1536 rows x 71 columns]"
      ]
     },
     "execution_count": 11,
     "metadata": {},
     "output_type": "execute_result"
    }
   ],
   "source": [
    "df_test"
   ]
  },
  {
   "cell_type": "code",
   "execution_count": 22,
   "id": "1393fb89-e4e3-4558-bc99-476e3f2a2f2c",
   "metadata": {},
   "outputs": [
    {
     "data": {
      "text/plain": [
       "'Electricity from fossil fuels (TWh)'"
      ]
     },
     "execution_count": 22,
     "metadata": {},
     "output_type": "execute_result"
    }
   ],
   "source": [
    "X_features = ['Year', 'Month', 'O3 Mean', 'O3 1st Max Value', 'O3 1st Max Hour',\n",
    "               'O3 AQI', 'CO Mean', 'CO 1st Max Value', 'CO 1st Max Hour', 'CO AQI',\n",
    "               'SO2 Mean', 'SO2 1st Max Value', 'SO2 1st Max Hour', 'SO2 AQI',\n",
    "               'NO2 Mean', 'NO2 1st Max Value', 'NO2 1st Max Hour', 'NO2 AQI'] + list(df_train.columns[df_train.columns.str.startswith('State_')])\n",
    "\n",
    "y_features = ['Electricity from fossil fuels (TWh)', 'Electricity from nuclear (TWh)',\n",
    "              'Electricity from renewables (TWh)', 'Low-carbon electricity (% electricity)']\n",
    "\n",
    "y_0 = y_features[0]\n",
    "\n",
    "y_0\n"
   ]
  },
  {
   "cell_type": "code",
   "execution_count": 23,
   "id": "dce29d35-659b-4e64-ba18-b4ad41faf4d7",
   "metadata": {},
   "outputs": [],
   "source": [
    "X = df_train[X_features]\n",
    "y = df_train[y_features]\n",
    "y0 = df_train[y_0]"
   ]
  },
  {
   "cell_type": "code",
   "execution_count": 15,
   "id": "47834a7d-c260-43d7-8eeb-268ffb43e306",
   "metadata": {},
   "outputs": [],
   "source": [
    "X_train, X_test, y_train, y_test = train_test_split(X, y, train_size=0.8, random_state=42)"
   ]
  },
  {
   "cell_type": "code",
   "execution_count": 24,
   "id": "ced518a5-6fe3-4e22-aede-daa6de7a30d8",
   "metadata": {},
   "outputs": [],
   "source": [
    "X_train0, X_test0, y_train0, y_test0 = train_test_split(X, y0, train_size=0.8, random_state=42)"
   ]
  },
  {
   "cell_type": "markdown",
   "id": "7bee887a-6882-4b79-ab80-9ec5b0b9c66b",
   "metadata": {},
   "source": [
    "### Scale Data"
   ]
  },
  {
   "cell_type": "code",
   "execution_count": 16,
   "id": "1ddaada7-d900-469c-a1c0-ecc6a1bce9aa",
   "metadata": {},
   "outputs": [],
   "source": [
    "ss = StandardScaler()\n",
    "X_train_sc = ss.fit_transform(X_train)\n",
    "X_test_sc = ss.transform(X_test)"
   ]
  },
  {
   "cell_type": "code",
   "execution_count": 25,
   "id": "bfb8b28a-46d4-4788-a16d-002fe64d60bf",
   "metadata": {},
   "outputs": [],
   "source": [
    "ss0 = StandardScaler()\n",
    "X_train_sc0 = ss.fit_transform(X_train0)\n",
    "X_test_sc0 = ss.transform(X_test0)"
   ]
  },
  {
   "cell_type": "markdown",
   "id": "772a986a-d569-4da5-b2c4-8dd9cc0b1395",
   "metadata": {},
   "source": [
    "### Start with Linear, Lasso, Ridge, Regressions"
   ]
  },
  {
   "cell_type": "code",
   "execution_count": 17,
   "id": "6d852172-17d6-4d60-bb8a-6071ab685c00",
   "metadata": {},
   "outputs": [],
   "source": [
    "lin = MultiOutputRegressor(LinearRegression())"
   ]
  },
  {
   "cell_type": "code",
   "execution_count": 18,
   "id": "3986da80-484c-4f83-862b-26b8708edd90",
   "metadata": {},
   "outputs": [
    {
     "data": {
      "text/html": [
       "<style>#sk-container-id-1 {color: black;}#sk-container-id-1 pre{padding: 0;}#sk-container-id-1 div.sk-toggleable {background-color: white;}#sk-container-id-1 label.sk-toggleable__label {cursor: pointer;display: block;width: 100%;margin-bottom: 0;padding: 0.3em;box-sizing: border-box;text-align: center;}#sk-container-id-1 label.sk-toggleable__label-arrow:before {content: \"▸\";float: left;margin-right: 0.25em;color: #696969;}#sk-container-id-1 label.sk-toggleable__label-arrow:hover:before {color: black;}#sk-container-id-1 div.sk-estimator:hover label.sk-toggleable__label-arrow:before {color: black;}#sk-container-id-1 div.sk-toggleable__content {max-height: 0;max-width: 0;overflow: hidden;text-align: left;background-color: #f0f8ff;}#sk-container-id-1 div.sk-toggleable__content pre {margin: 0.2em;color: black;border-radius: 0.25em;background-color: #f0f8ff;}#sk-container-id-1 input.sk-toggleable__control:checked~div.sk-toggleable__content {max-height: 200px;max-width: 100%;overflow: auto;}#sk-container-id-1 input.sk-toggleable__control:checked~label.sk-toggleable__label-arrow:before {content: \"▾\";}#sk-container-id-1 div.sk-estimator input.sk-toggleable__control:checked~label.sk-toggleable__label {background-color: #d4ebff;}#sk-container-id-1 div.sk-label input.sk-toggleable__control:checked~label.sk-toggleable__label {background-color: #d4ebff;}#sk-container-id-1 input.sk-hidden--visually {border: 0;clip: rect(1px 1px 1px 1px);clip: rect(1px, 1px, 1px, 1px);height: 1px;margin: -1px;overflow: hidden;padding: 0;position: absolute;width: 1px;}#sk-container-id-1 div.sk-estimator {font-family: monospace;background-color: #f0f8ff;border: 1px dotted black;border-radius: 0.25em;box-sizing: border-box;margin-bottom: 0.5em;}#sk-container-id-1 div.sk-estimator:hover {background-color: #d4ebff;}#sk-container-id-1 div.sk-parallel-item::after {content: \"\";width: 100%;border-bottom: 1px solid gray;flex-grow: 1;}#sk-container-id-1 div.sk-label:hover label.sk-toggleable__label {background-color: #d4ebff;}#sk-container-id-1 div.sk-serial::before {content: \"\";position: absolute;border-left: 1px solid gray;box-sizing: border-box;top: 0;bottom: 0;left: 50%;z-index: 0;}#sk-container-id-1 div.sk-serial {display: flex;flex-direction: column;align-items: center;background-color: white;padding-right: 0.2em;padding-left: 0.2em;position: relative;}#sk-container-id-1 div.sk-item {position: relative;z-index: 1;}#sk-container-id-1 div.sk-parallel {display: flex;align-items: stretch;justify-content: center;background-color: white;position: relative;}#sk-container-id-1 div.sk-item::before, #sk-container-id-1 div.sk-parallel-item::before {content: \"\";position: absolute;border-left: 1px solid gray;box-sizing: border-box;top: 0;bottom: 0;left: 50%;z-index: -1;}#sk-container-id-1 div.sk-parallel-item {display: flex;flex-direction: column;z-index: 1;position: relative;background-color: white;}#sk-container-id-1 div.sk-parallel-item:first-child::after {align-self: flex-end;width: 50%;}#sk-container-id-1 div.sk-parallel-item:last-child::after {align-self: flex-start;width: 50%;}#sk-container-id-1 div.sk-parallel-item:only-child::after {width: 0;}#sk-container-id-1 div.sk-dashed-wrapped {border: 1px dashed gray;margin: 0 0.4em 0.5em 0.4em;box-sizing: border-box;padding-bottom: 0.4em;background-color: white;}#sk-container-id-1 div.sk-label label {font-family: monospace;font-weight: bold;display: inline-block;line-height: 1.2em;}#sk-container-id-1 div.sk-label-container {text-align: center;}#sk-container-id-1 div.sk-container {/* jupyter's `normalize.less` sets `[hidden] { display: none; }` but bootstrap.min.css set `[hidden] { display: none !important; }` so we also need the `!important` here to be able to override the default hidden behavior on the sphinx rendered scikit-learn.org. See: https://github.com/scikit-learn/scikit-learn/issues/21755 */display: inline-block !important;position: relative;}#sk-container-id-1 div.sk-text-repr-fallback {display: none;}</style><div id=\"sk-container-id-1\" class=\"sk-top-container\"><div class=\"sk-text-repr-fallback\"><pre>MultiOutputRegressor(estimator=LinearRegression())</pre><b>In a Jupyter environment, please rerun this cell to show the HTML representation or trust the notebook. <br />On GitHub, the HTML representation is unable to render, please try loading this page with nbviewer.org.</b></div><div class=\"sk-container\" hidden><div class=\"sk-item sk-dashed-wrapped\"><div class=\"sk-label-container\"><div class=\"sk-label sk-toggleable\"><input class=\"sk-toggleable__control sk-hidden--visually\" id=\"sk-estimator-id-1\" type=\"checkbox\" ><label for=\"sk-estimator-id-1\" class=\"sk-toggleable__label sk-toggleable__label-arrow\">MultiOutputRegressor</label><div class=\"sk-toggleable__content\"><pre>MultiOutputRegressor(estimator=LinearRegression())</pre></div></div></div><div class=\"sk-parallel\"><div class=\"sk-parallel-item\"><div class=\"sk-item\"><div class=\"sk-label-container\"><div class=\"sk-label sk-toggleable\"><input class=\"sk-toggleable__control sk-hidden--visually\" id=\"sk-estimator-id-2\" type=\"checkbox\" ><label for=\"sk-estimator-id-2\" class=\"sk-toggleable__label sk-toggleable__label-arrow\">estimator: LinearRegression</label><div class=\"sk-toggleable__content\"><pre>LinearRegression()</pre></div></div></div><div class=\"sk-serial\"><div class=\"sk-item\"><div class=\"sk-estimator sk-toggleable\"><input class=\"sk-toggleable__control sk-hidden--visually\" id=\"sk-estimator-id-3\" type=\"checkbox\" ><label for=\"sk-estimator-id-3\" class=\"sk-toggleable__label sk-toggleable__label-arrow\">LinearRegression</label><div class=\"sk-toggleable__content\"><pre>LinearRegression()</pre></div></div></div></div></div></div></div></div></div></div>"
      ],
      "text/plain": [
       "MultiOutputRegressor(estimator=LinearRegression())"
      ]
     },
     "execution_count": 18,
     "metadata": {},
     "output_type": "execute_result"
    }
   ],
   "source": [
    "lin.fit(X_train_sc, y_train)"
   ]
  },
  {
   "cell_type": "code",
   "execution_count": 27,
   "id": "d93cd6aa-3570-4e65-a8a9-80fdb65577c8",
   "metadata": {},
   "outputs": [],
   "source": [
    "lin0 = (LinearRegression())"
   ]
  },
  {
   "cell_type": "code",
   "execution_count": 28,
   "id": "7cdb082c-3d28-4e65-815f-2d30c18d1334",
   "metadata": {},
   "outputs": [
    {
     "data": {
      "text/html": [
       "<style>#sk-container-id-2 {color: black;}#sk-container-id-2 pre{padding: 0;}#sk-container-id-2 div.sk-toggleable {background-color: white;}#sk-container-id-2 label.sk-toggleable__label {cursor: pointer;display: block;width: 100%;margin-bottom: 0;padding: 0.3em;box-sizing: border-box;text-align: center;}#sk-container-id-2 label.sk-toggleable__label-arrow:before {content: \"▸\";float: left;margin-right: 0.25em;color: #696969;}#sk-container-id-2 label.sk-toggleable__label-arrow:hover:before {color: black;}#sk-container-id-2 div.sk-estimator:hover label.sk-toggleable__label-arrow:before {color: black;}#sk-container-id-2 div.sk-toggleable__content {max-height: 0;max-width: 0;overflow: hidden;text-align: left;background-color: #f0f8ff;}#sk-container-id-2 div.sk-toggleable__content pre {margin: 0.2em;color: black;border-radius: 0.25em;background-color: #f0f8ff;}#sk-container-id-2 input.sk-toggleable__control:checked~div.sk-toggleable__content {max-height: 200px;max-width: 100%;overflow: auto;}#sk-container-id-2 input.sk-toggleable__control:checked~label.sk-toggleable__label-arrow:before {content: \"▾\";}#sk-container-id-2 div.sk-estimator input.sk-toggleable__control:checked~label.sk-toggleable__label {background-color: #d4ebff;}#sk-container-id-2 div.sk-label input.sk-toggleable__control:checked~label.sk-toggleable__label {background-color: #d4ebff;}#sk-container-id-2 input.sk-hidden--visually {border: 0;clip: rect(1px 1px 1px 1px);clip: rect(1px, 1px, 1px, 1px);height: 1px;margin: -1px;overflow: hidden;padding: 0;position: absolute;width: 1px;}#sk-container-id-2 div.sk-estimator {font-family: monospace;background-color: #f0f8ff;border: 1px dotted black;border-radius: 0.25em;box-sizing: border-box;margin-bottom: 0.5em;}#sk-container-id-2 div.sk-estimator:hover {background-color: #d4ebff;}#sk-container-id-2 div.sk-parallel-item::after {content: \"\";width: 100%;border-bottom: 1px solid gray;flex-grow: 1;}#sk-container-id-2 div.sk-label:hover label.sk-toggleable__label {background-color: #d4ebff;}#sk-container-id-2 div.sk-serial::before {content: \"\";position: absolute;border-left: 1px solid gray;box-sizing: border-box;top: 0;bottom: 0;left: 50%;z-index: 0;}#sk-container-id-2 div.sk-serial {display: flex;flex-direction: column;align-items: center;background-color: white;padding-right: 0.2em;padding-left: 0.2em;position: relative;}#sk-container-id-2 div.sk-item {position: relative;z-index: 1;}#sk-container-id-2 div.sk-parallel {display: flex;align-items: stretch;justify-content: center;background-color: white;position: relative;}#sk-container-id-2 div.sk-item::before, #sk-container-id-2 div.sk-parallel-item::before {content: \"\";position: absolute;border-left: 1px solid gray;box-sizing: border-box;top: 0;bottom: 0;left: 50%;z-index: -1;}#sk-container-id-2 div.sk-parallel-item {display: flex;flex-direction: column;z-index: 1;position: relative;background-color: white;}#sk-container-id-2 div.sk-parallel-item:first-child::after {align-self: flex-end;width: 50%;}#sk-container-id-2 div.sk-parallel-item:last-child::after {align-self: flex-start;width: 50%;}#sk-container-id-2 div.sk-parallel-item:only-child::after {width: 0;}#sk-container-id-2 div.sk-dashed-wrapped {border: 1px dashed gray;margin: 0 0.4em 0.5em 0.4em;box-sizing: border-box;padding-bottom: 0.4em;background-color: white;}#sk-container-id-2 div.sk-label label {font-family: monospace;font-weight: bold;display: inline-block;line-height: 1.2em;}#sk-container-id-2 div.sk-label-container {text-align: center;}#sk-container-id-2 div.sk-container {/* jupyter's `normalize.less` sets `[hidden] { display: none; }` but bootstrap.min.css set `[hidden] { display: none !important; }` so we also need the `!important` here to be able to override the default hidden behavior on the sphinx rendered scikit-learn.org. See: https://github.com/scikit-learn/scikit-learn/issues/21755 */display: inline-block !important;position: relative;}#sk-container-id-2 div.sk-text-repr-fallback {display: none;}</style><div id=\"sk-container-id-2\" class=\"sk-top-container\"><div class=\"sk-text-repr-fallback\"><pre>LinearRegression()</pre><b>In a Jupyter environment, please rerun this cell to show the HTML representation or trust the notebook. <br />On GitHub, the HTML representation is unable to render, please try loading this page with nbviewer.org.</b></div><div class=\"sk-container\" hidden><div class=\"sk-item\"><div class=\"sk-estimator sk-toggleable\"><input class=\"sk-toggleable__control sk-hidden--visually\" id=\"sk-estimator-id-4\" type=\"checkbox\" checked><label for=\"sk-estimator-id-4\" class=\"sk-toggleable__label sk-toggleable__label-arrow\">LinearRegression</label><div class=\"sk-toggleable__content\"><pre>LinearRegression()</pre></div></div></div></div></div>"
      ],
      "text/plain": [
       "LinearRegression()"
      ]
     },
     "execution_count": 28,
     "metadata": {},
     "output_type": "execute_result"
    }
   ],
   "source": [
    "lin0.fit(X_train_sc0, y_train0)"
   ]
  },
  {
   "cell_type": "code",
   "execution_count": 31,
   "id": "b7df6cc6-d6da-4989-aa33-8a3f6ed15740",
   "metadata": {},
   "outputs": [],
   "source": [
    "predictions_lin0 = lin0.predict(X_test_sc0)"
   ]
  },
  {
   "cell_type": "code",
   "execution_count": 32,
   "id": "26f3b76e-d03d-4c4c-b91d-2b19b45168f8",
   "metadata": {},
   "outputs": [
    {
     "name": "stdout",
     "output_type": "stream",
     "text": [
      "The train score for Linear model is 0.9524479367223412\n",
      "The test score for Linear model is 0.9486094558442932\n"
     ]
    }
   ],
   "source": [
    "train_score_lin0 = lin0.score(X_train_sc0, y_train0)\n",
    "test_score_lin0 = lin0.score(X_test_sc0, y_test0)\n",
    "print(\"The train score for Linear model is {}\".format(train_score_lin0))\n",
    "print(\"The test score for Linear model is {}\".format(test_score_lin0))"
   ]
  },
  {
   "cell_type": "code",
   "execution_count": 19,
   "id": "9e400d02-c032-4a75-a8cc-231b62256500",
   "metadata": {},
   "outputs": [
    {
     "name": "stdout",
     "output_type": "stream",
     "text": [
      "R-squared score for Electricity from fossil fuels (TWh): 0.9486094558442932 \n",
      "\n",
      "Mean Squared Error for Electricity from fossil fuels (TWh): 0.35870255256117883\n",
      " \n",
      "R-squared score for Electricity from nuclear (TWh): 0.9554628818822537 \n",
      "\n",
      "Mean Squared Error for Electricity from nuclear (TWh): 0.021236781844367402\n",
      " \n",
      "R-squared score for Electricity from renewables (TWh): 0.3362923264629818 \n",
      "\n",
      "Mean Squared Error for Electricity from renewables (TWh): 0.01022581778219098\n",
      " \n",
      "R-squared score for Low-carbon electricity (% electricity): 0.9335092880274302 \n",
      "\n",
      "Mean Squared Error for Low-carbon electricity (% electricity): 3.0509427206394343e-05\n",
      " \n",
      "The train score for Linear model is 0.7977409153103013\n",
      "The test score for Linear model is 0.7934684880542398\n"
     ]
    }
   ],
   "source": [
    "#predict\n",
    "predictions_lin = lin.predict(X_test_sc)\n",
    "\n",
    "# Calculate scores for each variable\n",
    "scores_r2 = [r2_score(y_test.iloc[:, i], predictions_lin[:, i]) for i in range(len(y_features))]\n",
    "scores_mse = [mean_squared_error(y_test.iloc[:, i], predictions_lin[:, i]) for i in range(len(y_features))]\n",
    "\n",
    "# Display scores for each variable\n",
    "for i, feature in enumerate(y_features):\n",
    "    print(f\"R-squared score for {feature}: {scores_r2[i]} \\n\")\n",
    "    print(f\"Mean Squared Error for {feature}: {scores_mse[i]}\\n \")\n",
    "\n",
    "# Display overall scores\n",
    "train_score_lin = lin.score(X_train_sc, y_train)\n",
    "test_score_lin = lin.score(X_test_sc, y_test)\n",
    "print(\"The train score for Linear model is {}\".format(train_score_lin))\n",
    "print(\"The test score for Linear model is {}\".format(test_score_lin))"
   ]
  },
  {
   "cell_type": "markdown",
   "id": "83779402-ac14-4151-8893-b2b1e86beb49",
   "metadata": {},
   "source": [
    "#### Demonstrates that a single regression is performed per variable and `MultiOutputRegressor` will be "
   ]
  },
  {
   "cell_type": "code",
   "execution_count": 71,
   "id": "02d59a4a-6b58-4ef1-a63c-150250e2c70b",
   "metadata": {},
   "outputs": [
    {
     "data": {
      "text/html": [
       "<style>#sk-container-id-9 {color: black;}#sk-container-id-9 pre{padding: 0;}#sk-container-id-9 div.sk-toggleable {background-color: white;}#sk-container-id-9 label.sk-toggleable__label {cursor: pointer;display: block;width: 100%;margin-bottom: 0;padding: 0.3em;box-sizing: border-box;text-align: center;}#sk-container-id-9 label.sk-toggleable__label-arrow:before {content: \"▸\";float: left;margin-right: 0.25em;color: #696969;}#sk-container-id-9 label.sk-toggleable__label-arrow:hover:before {color: black;}#sk-container-id-9 div.sk-estimator:hover label.sk-toggleable__label-arrow:before {color: black;}#sk-container-id-9 div.sk-toggleable__content {max-height: 0;max-width: 0;overflow: hidden;text-align: left;background-color: #f0f8ff;}#sk-container-id-9 div.sk-toggleable__content pre {margin: 0.2em;color: black;border-radius: 0.25em;background-color: #f0f8ff;}#sk-container-id-9 input.sk-toggleable__control:checked~div.sk-toggleable__content {max-height: 200px;max-width: 100%;overflow: auto;}#sk-container-id-9 input.sk-toggleable__control:checked~label.sk-toggleable__label-arrow:before {content: \"▾\";}#sk-container-id-9 div.sk-estimator input.sk-toggleable__control:checked~label.sk-toggleable__label {background-color: #d4ebff;}#sk-container-id-9 div.sk-label input.sk-toggleable__control:checked~label.sk-toggleable__label {background-color: #d4ebff;}#sk-container-id-9 input.sk-hidden--visually {border: 0;clip: rect(1px 1px 1px 1px);clip: rect(1px, 1px, 1px, 1px);height: 1px;margin: -1px;overflow: hidden;padding: 0;position: absolute;width: 1px;}#sk-container-id-9 div.sk-estimator {font-family: monospace;background-color: #f0f8ff;border: 1px dotted black;border-radius: 0.25em;box-sizing: border-box;margin-bottom: 0.5em;}#sk-container-id-9 div.sk-estimator:hover {background-color: #d4ebff;}#sk-container-id-9 div.sk-parallel-item::after {content: \"\";width: 100%;border-bottom: 1px solid gray;flex-grow: 1;}#sk-container-id-9 div.sk-label:hover label.sk-toggleable__label {background-color: #d4ebff;}#sk-container-id-9 div.sk-serial::before {content: \"\";position: absolute;border-left: 1px solid gray;box-sizing: border-box;top: 0;bottom: 0;left: 50%;z-index: 0;}#sk-container-id-9 div.sk-serial {display: flex;flex-direction: column;align-items: center;background-color: white;padding-right: 0.2em;padding-left: 0.2em;position: relative;}#sk-container-id-9 div.sk-item {position: relative;z-index: 1;}#sk-container-id-9 div.sk-parallel {display: flex;align-items: stretch;justify-content: center;background-color: white;position: relative;}#sk-container-id-9 div.sk-item::before, #sk-container-id-9 div.sk-parallel-item::before {content: \"\";position: absolute;border-left: 1px solid gray;box-sizing: border-box;top: 0;bottom: 0;left: 50%;z-index: -1;}#sk-container-id-9 div.sk-parallel-item {display: flex;flex-direction: column;z-index: 1;position: relative;background-color: white;}#sk-container-id-9 div.sk-parallel-item:first-child::after {align-self: flex-end;width: 50%;}#sk-container-id-9 div.sk-parallel-item:last-child::after {align-self: flex-start;width: 50%;}#sk-container-id-9 div.sk-parallel-item:only-child::after {width: 0;}#sk-container-id-9 div.sk-dashed-wrapped {border: 1px dashed gray;margin: 0 0.4em 0.5em 0.4em;box-sizing: border-box;padding-bottom: 0.4em;background-color: white;}#sk-container-id-9 div.sk-label label {font-family: monospace;font-weight: bold;display: inline-block;line-height: 1.2em;}#sk-container-id-9 div.sk-label-container {text-align: center;}#sk-container-id-9 div.sk-container {/* jupyter's `normalize.less` sets `[hidden] { display: none; }` but bootstrap.min.css set `[hidden] { display: none !important; }` so we also need the `!important` here to be able to override the default hidden behavior on the sphinx rendered scikit-learn.org. See: https://github.com/scikit-learn/scikit-learn/issues/21755 */display: inline-block !important;position: relative;}#sk-container-id-9 div.sk-text-repr-fallback {display: none;}</style><div id=\"sk-container-id-9\" class=\"sk-top-container\"><div class=\"sk-text-repr-fallback\"><pre>MultiOutputRegressor(estimator=Lasso())</pre><b>In a Jupyter environment, please rerun this cell to show the HTML representation or trust the notebook. <br />On GitHub, the HTML representation is unable to render, please try loading this page with nbviewer.org.</b></div><div class=\"sk-container\" hidden><div class=\"sk-item sk-dashed-wrapped\"><div class=\"sk-label-container\"><div class=\"sk-label sk-toggleable\"><input class=\"sk-toggleable__control sk-hidden--visually\" id=\"sk-estimator-id-25\" type=\"checkbox\" ><label for=\"sk-estimator-id-25\" class=\"sk-toggleable__label sk-toggleable__label-arrow\">MultiOutputRegressor</label><div class=\"sk-toggleable__content\"><pre>MultiOutputRegressor(estimator=Lasso())</pre></div></div></div><div class=\"sk-parallel\"><div class=\"sk-parallel-item\"><div class=\"sk-item\"><div class=\"sk-label-container\"><div class=\"sk-label sk-toggleable\"><input class=\"sk-toggleable__control sk-hidden--visually\" id=\"sk-estimator-id-26\" type=\"checkbox\" ><label for=\"sk-estimator-id-26\" class=\"sk-toggleable__label sk-toggleable__label-arrow\">estimator: Lasso</label><div class=\"sk-toggleable__content\"><pre>Lasso()</pre></div></div></div><div class=\"sk-serial\"><div class=\"sk-item\"><div class=\"sk-estimator sk-toggleable\"><input class=\"sk-toggleable__control sk-hidden--visually\" id=\"sk-estimator-id-27\" type=\"checkbox\" ><label for=\"sk-estimator-id-27\" class=\"sk-toggleable__label sk-toggleable__label-arrow\">Lasso</label><div class=\"sk-toggleable__content\"><pre>Lasso()</pre></div></div></div></div></div></div></div></div></div></div>"
      ],
      "text/plain": [
       "MultiOutputRegressor(estimator=Lasso())"
      ]
     },
     "execution_count": 71,
     "metadata": {},
     "output_type": "execute_result"
    }
   ],
   "source": [
    "# Lasso\n",
    "lasso = MultiOutputRegressor(Lasso())\n",
    "\n",
    "lasso.fit(X_train_sc,y_train)"
   ]
  },
  {
   "cell_type": "code",
   "execution_count": 72,
   "id": "46de1554-dde2-40f4-a676-9e63ee94e18b",
   "metadata": {},
   "outputs": [
    {
     "name": "stdout",
     "output_type": "stream",
     "text": [
      "R-squared score for Electricity from fossil fuels (TWh) (Lasso): 0.7965041484660975 \n",
      "\n",
      "Mean Squared Error for Electricity from fossil fuels (TWh) (Lasso): 1.4203873996674883 \n",
      " \n",
      "R-squared score for Electricity from nuclear (TWh) (Lasso): -0.0048639747771392905 \n",
      "\n",
      "Mean Squared Error for Electricity from nuclear (TWh) (Lasso): 0.4791526240918315 \n",
      " \n",
      "R-squared score for Electricity from renewables (TWh) (Lasso): -0.0017352130477865657 \n",
      "\n",
      "Mean Squared Error for Electricity from renewables (TWh) (Lasso): 0.015433845596572859 \n",
      " \n",
      "R-squared score for Low-carbon electricity (% electricity) (Lasso): -0.0050124687070458585 \n",
      "\n",
      "Mean Squared Error for Low-carbon electricity (% electricity) (Lasso): 0.0004611524504081981 \n",
      " \n",
      "The train score for Lasso model is 0.1993848610661758\n",
      "The test score for Lasso model is 0.19622312298353145\n"
     ]
    }
   ],
   "source": [
    "predictions_lasso = lasso.predict(X_test_sc)\n",
    "\n",
    "\n",
    "# Calculate scores for each variable\n",
    "scores_r2_lasso = [r2_score(y_test.iloc[:, i], predictions_lasso[:, i]) for i in range(len(y_features))]\n",
    "scores_mse_lasso = [mean_squared_error(y_test.iloc[:, i], predictions_lasso[:, i]) for i in range(len(y_features))]\n",
    "\n",
    "# Display scores for each variable\n",
    "for i, feature in enumerate(y_features):\n",
    "    print(f\"R-squared score for {feature} (Lasso): {scores_r2_lasso[i]} \\n\")\n",
    "    print(f\"Mean Squared Error for {feature} (Lasso): {scores_mse_lasso[i]} \\n \")\n",
    "\n",
    "# Display overall scores\n",
    "train_score_lasso = lasso.score(X_train_sc, y_train)\n",
    "test_score_lasso = lasso.score(X_test_sc, y_test)\n",
    "print(\"The train score for Lasso model is {}\".format(train_score_lasso))\n",
    "print(\"The test score for Lasso model is {}\".format(test_score_lasso))"
   ]
  },
  {
   "cell_type": "markdown",
   "id": "34f5cf6d-c875-4a85-9d80-bfaf9e71d6c9",
   "metadata": {},
   "source": [
    "#### Lasso will not be of any help here"
   ]
  },
  {
   "cell_type": "code",
   "execution_count": 73,
   "id": "7d21bda2-7d83-4e2c-82a5-978ce2dddd76",
   "metadata": {},
   "outputs": [
    {
     "data": {
      "text/html": [
       "<style>#sk-container-id-10 {color: black;}#sk-container-id-10 pre{padding: 0;}#sk-container-id-10 div.sk-toggleable {background-color: white;}#sk-container-id-10 label.sk-toggleable__label {cursor: pointer;display: block;width: 100%;margin-bottom: 0;padding: 0.3em;box-sizing: border-box;text-align: center;}#sk-container-id-10 label.sk-toggleable__label-arrow:before {content: \"▸\";float: left;margin-right: 0.25em;color: #696969;}#sk-container-id-10 label.sk-toggleable__label-arrow:hover:before {color: black;}#sk-container-id-10 div.sk-estimator:hover label.sk-toggleable__label-arrow:before {color: black;}#sk-container-id-10 div.sk-toggleable__content {max-height: 0;max-width: 0;overflow: hidden;text-align: left;background-color: #f0f8ff;}#sk-container-id-10 div.sk-toggleable__content pre {margin: 0.2em;color: black;border-radius: 0.25em;background-color: #f0f8ff;}#sk-container-id-10 input.sk-toggleable__control:checked~div.sk-toggleable__content {max-height: 200px;max-width: 100%;overflow: auto;}#sk-container-id-10 input.sk-toggleable__control:checked~label.sk-toggleable__label-arrow:before {content: \"▾\";}#sk-container-id-10 div.sk-estimator input.sk-toggleable__control:checked~label.sk-toggleable__label {background-color: #d4ebff;}#sk-container-id-10 div.sk-label input.sk-toggleable__control:checked~label.sk-toggleable__label {background-color: #d4ebff;}#sk-container-id-10 input.sk-hidden--visually {border: 0;clip: rect(1px 1px 1px 1px);clip: rect(1px, 1px, 1px, 1px);height: 1px;margin: -1px;overflow: hidden;padding: 0;position: absolute;width: 1px;}#sk-container-id-10 div.sk-estimator {font-family: monospace;background-color: #f0f8ff;border: 1px dotted black;border-radius: 0.25em;box-sizing: border-box;margin-bottom: 0.5em;}#sk-container-id-10 div.sk-estimator:hover {background-color: #d4ebff;}#sk-container-id-10 div.sk-parallel-item::after {content: \"\";width: 100%;border-bottom: 1px solid gray;flex-grow: 1;}#sk-container-id-10 div.sk-label:hover label.sk-toggleable__label {background-color: #d4ebff;}#sk-container-id-10 div.sk-serial::before {content: \"\";position: absolute;border-left: 1px solid gray;box-sizing: border-box;top: 0;bottom: 0;left: 50%;z-index: 0;}#sk-container-id-10 div.sk-serial {display: flex;flex-direction: column;align-items: center;background-color: white;padding-right: 0.2em;padding-left: 0.2em;position: relative;}#sk-container-id-10 div.sk-item {position: relative;z-index: 1;}#sk-container-id-10 div.sk-parallel {display: flex;align-items: stretch;justify-content: center;background-color: white;position: relative;}#sk-container-id-10 div.sk-item::before, #sk-container-id-10 div.sk-parallel-item::before {content: \"\";position: absolute;border-left: 1px solid gray;box-sizing: border-box;top: 0;bottom: 0;left: 50%;z-index: -1;}#sk-container-id-10 div.sk-parallel-item {display: flex;flex-direction: column;z-index: 1;position: relative;background-color: white;}#sk-container-id-10 div.sk-parallel-item:first-child::after {align-self: flex-end;width: 50%;}#sk-container-id-10 div.sk-parallel-item:last-child::after {align-self: flex-start;width: 50%;}#sk-container-id-10 div.sk-parallel-item:only-child::after {width: 0;}#sk-container-id-10 div.sk-dashed-wrapped {border: 1px dashed gray;margin: 0 0.4em 0.5em 0.4em;box-sizing: border-box;padding-bottom: 0.4em;background-color: white;}#sk-container-id-10 div.sk-label label {font-family: monospace;font-weight: bold;display: inline-block;line-height: 1.2em;}#sk-container-id-10 div.sk-label-container {text-align: center;}#sk-container-id-10 div.sk-container {/* jupyter's `normalize.less` sets `[hidden] { display: none; }` but bootstrap.min.css set `[hidden] { display: none !important; }` so we also need the `!important` here to be able to override the default hidden behavior on the sphinx rendered scikit-learn.org. See: https://github.com/scikit-learn/scikit-learn/issues/21755 */display: inline-block !important;position: relative;}#sk-container-id-10 div.sk-text-repr-fallback {display: none;}</style><div id=\"sk-container-id-10\" class=\"sk-top-container\"><div class=\"sk-text-repr-fallback\"><pre>MultiOutputRegressor(estimator=Ridge())</pre><b>In a Jupyter environment, please rerun this cell to show the HTML representation or trust the notebook. <br />On GitHub, the HTML representation is unable to render, please try loading this page with nbviewer.org.</b></div><div class=\"sk-container\" hidden><div class=\"sk-item sk-dashed-wrapped\"><div class=\"sk-label-container\"><div class=\"sk-label sk-toggleable\"><input class=\"sk-toggleable__control sk-hidden--visually\" id=\"sk-estimator-id-28\" type=\"checkbox\" ><label for=\"sk-estimator-id-28\" class=\"sk-toggleable__label sk-toggleable__label-arrow\">MultiOutputRegressor</label><div class=\"sk-toggleable__content\"><pre>MultiOutputRegressor(estimator=Ridge())</pre></div></div></div><div class=\"sk-parallel\"><div class=\"sk-parallel-item\"><div class=\"sk-item\"><div class=\"sk-label-container\"><div class=\"sk-label sk-toggleable\"><input class=\"sk-toggleable__control sk-hidden--visually\" id=\"sk-estimator-id-29\" type=\"checkbox\" ><label for=\"sk-estimator-id-29\" class=\"sk-toggleable__label sk-toggleable__label-arrow\">estimator: Ridge</label><div class=\"sk-toggleable__content\"><pre>Ridge()</pre></div></div></div><div class=\"sk-serial\"><div class=\"sk-item\"><div class=\"sk-estimator sk-toggleable\"><input class=\"sk-toggleable__control sk-hidden--visually\" id=\"sk-estimator-id-30\" type=\"checkbox\" ><label for=\"sk-estimator-id-30\" class=\"sk-toggleable__label sk-toggleable__label-arrow\">Ridge</label><div class=\"sk-toggleable__content\"><pre>Ridge()</pre></div></div></div></div></div></div></div></div></div></div>"
      ],
      "text/plain": [
       "MultiOutputRegressor(estimator=Ridge())"
      ]
     },
     "execution_count": 73,
     "metadata": {},
     "output_type": "execute_result"
    }
   ],
   "source": [
    "# Ridge\n",
    "ridge = MultiOutputRegressor(Ridge())\n",
    "\n",
    "ridge.fit(X_train_sc,y_train)"
   ]
  },
  {
   "cell_type": "code",
   "execution_count": 74,
   "id": "85b08a8c-5718-4606-93e4-5ea8fcac1d6c",
   "metadata": {},
   "outputs": [
    {
     "name": "stdout",
     "output_type": "stream",
     "text": [
      "R-squared score for Electricity from fossil fuels (TWh) (Ridge): 0.9463575216647688 \n",
      "\n",
      "Mean Squared Error for Electricity from fossil fuels (TWh) (Ridge): 0.3744209021460309 \n",
      "\n",
      "R-squared score for Electricity from nuclear (TWh) (Ridge): 0.9536025739595679 \n",
      "\n",
      "Mean Squared Error for Electricity from nuclear (TWh) (Ridge): 0.022123838645235764 \n",
      "\n",
      "R-squared score for Electricity from renewables (TWh) (Ridge): 0.32217787459592884 \n",
      "\n",
      "Mean Squared Error for Electricity from renewables (TWh) (Ridge): 0.010443280708480229 \n",
      "\n",
      "R-squared score for Low-carbon electricity (% electricity) (Ridge): 0.9316527121495083 \n",
      "\n",
      "Mean Squared Error for Low-carbon electricity (% electricity) (Ridge): 3.136132162773805e-05 \n",
      "\n",
      "The train score for Ridge model is 0.7903468010451873\n",
      "The test score for Ridge model is 0.7884476705924435\n"
     ]
    }
   ],
   "source": [
    "# Predictions\n",
    "predictions_ridge = ridge.predict(X_test_sc)\n",
    "\n",
    "# Calculate scores for each variable\n",
    "scores_r2_ridge = [r2_score(y_test.iloc[:, i], predictions_ridge[:, i]) for i in range(len(y_features))]\n",
    "scores_mse_ridge = [mean_squared_error(y_test.iloc[:, i], predictions_ridge[:, i]) for i in range(len(y_features))]\n",
    "\n",
    "# Display scores for each variable\n",
    "for i, feature in enumerate(y_features):\n",
    "    print(f\"R-squared score for {feature} (Ridge): {scores_r2_ridge[i]} \\n\")\n",
    "    print(f\"Mean Squared Error for {feature} (Ridge): {scores_mse_ridge[i]} \\n\")\n",
    "\n",
    "# Display overall scores\n",
    "train_score_ridge = ridge.score(X_train_sc, y_train)\n",
    "test_score_ridge = ridge.score(X_test_sc, y_test)\n",
    "print(\"The train score for Ridge model is {}\".format(train_score_ridge))\n",
    "print(\"The test score for Ridge model is {}\".format(test_score_ridge))"
   ]
  },
  {
   "cell_type": "markdown",
   "id": "180df5b6-5ee9-4558-846e-8c21c0de04f6",
   "metadata": {},
   "source": [
    "## Polynomial Features"
   ]
  },
  {
   "cell_type": "code",
   "execution_count": 75,
   "id": "c78e03c2-73c8-45df-9089-b145644fab6f",
   "metadata": {},
   "outputs": [],
   "source": [
    "poly = PolynomialFeatures(degree=2,include_bias=False)"
   ]
  },
  {
   "cell_type": "code",
   "execution_count": 76,
   "id": "0f57a1e1-2c8c-4af8-8555-82fbe46c0499",
   "metadata": {},
   "outputs": [],
   "source": [
    "X_train_sc = poly.fit_transform(X_train_sc)\n",
    "\n",
    "X_test_sc = poly.transform(X_test_sc)"
   ]
  },
  {
   "cell_type": "code",
   "execution_count": 77,
   "id": "87958402-7986-4546-b990-e16db8c6de12",
   "metadata": {},
   "outputs": [
    {
     "data": {
      "text/html": [
       "<style>#sk-container-id-11 {color: black;}#sk-container-id-11 pre{padding: 0;}#sk-container-id-11 div.sk-toggleable {background-color: white;}#sk-container-id-11 label.sk-toggleable__label {cursor: pointer;display: block;width: 100%;margin-bottom: 0;padding: 0.3em;box-sizing: border-box;text-align: center;}#sk-container-id-11 label.sk-toggleable__label-arrow:before {content: \"▸\";float: left;margin-right: 0.25em;color: #696969;}#sk-container-id-11 label.sk-toggleable__label-arrow:hover:before {color: black;}#sk-container-id-11 div.sk-estimator:hover label.sk-toggleable__label-arrow:before {color: black;}#sk-container-id-11 div.sk-toggleable__content {max-height: 0;max-width: 0;overflow: hidden;text-align: left;background-color: #f0f8ff;}#sk-container-id-11 div.sk-toggleable__content pre {margin: 0.2em;color: black;border-radius: 0.25em;background-color: #f0f8ff;}#sk-container-id-11 input.sk-toggleable__control:checked~div.sk-toggleable__content {max-height: 200px;max-width: 100%;overflow: auto;}#sk-container-id-11 input.sk-toggleable__control:checked~label.sk-toggleable__label-arrow:before {content: \"▾\";}#sk-container-id-11 div.sk-estimator input.sk-toggleable__control:checked~label.sk-toggleable__label {background-color: #d4ebff;}#sk-container-id-11 div.sk-label input.sk-toggleable__control:checked~label.sk-toggleable__label {background-color: #d4ebff;}#sk-container-id-11 input.sk-hidden--visually {border: 0;clip: rect(1px 1px 1px 1px);clip: rect(1px, 1px, 1px, 1px);height: 1px;margin: -1px;overflow: hidden;padding: 0;position: absolute;width: 1px;}#sk-container-id-11 div.sk-estimator {font-family: monospace;background-color: #f0f8ff;border: 1px dotted black;border-radius: 0.25em;box-sizing: border-box;margin-bottom: 0.5em;}#sk-container-id-11 div.sk-estimator:hover {background-color: #d4ebff;}#sk-container-id-11 div.sk-parallel-item::after {content: \"\";width: 100%;border-bottom: 1px solid gray;flex-grow: 1;}#sk-container-id-11 div.sk-label:hover label.sk-toggleable__label {background-color: #d4ebff;}#sk-container-id-11 div.sk-serial::before {content: \"\";position: absolute;border-left: 1px solid gray;box-sizing: border-box;top: 0;bottom: 0;left: 50%;z-index: 0;}#sk-container-id-11 div.sk-serial {display: flex;flex-direction: column;align-items: center;background-color: white;padding-right: 0.2em;padding-left: 0.2em;position: relative;}#sk-container-id-11 div.sk-item {position: relative;z-index: 1;}#sk-container-id-11 div.sk-parallel {display: flex;align-items: stretch;justify-content: center;background-color: white;position: relative;}#sk-container-id-11 div.sk-item::before, #sk-container-id-11 div.sk-parallel-item::before {content: \"\";position: absolute;border-left: 1px solid gray;box-sizing: border-box;top: 0;bottom: 0;left: 50%;z-index: -1;}#sk-container-id-11 div.sk-parallel-item {display: flex;flex-direction: column;z-index: 1;position: relative;background-color: white;}#sk-container-id-11 div.sk-parallel-item:first-child::after {align-self: flex-end;width: 50%;}#sk-container-id-11 div.sk-parallel-item:last-child::after {align-self: flex-start;width: 50%;}#sk-container-id-11 div.sk-parallel-item:only-child::after {width: 0;}#sk-container-id-11 div.sk-dashed-wrapped {border: 1px dashed gray;margin: 0 0.4em 0.5em 0.4em;box-sizing: border-box;padding-bottom: 0.4em;background-color: white;}#sk-container-id-11 div.sk-label label {font-family: monospace;font-weight: bold;display: inline-block;line-height: 1.2em;}#sk-container-id-11 div.sk-label-container {text-align: center;}#sk-container-id-11 div.sk-container {/* jupyter's `normalize.less` sets `[hidden] { display: none; }` but bootstrap.min.css set `[hidden] { display: none !important; }` so we also need the `!important` here to be able to override the default hidden behavior on the sphinx rendered scikit-learn.org. See: https://github.com/scikit-learn/scikit-learn/issues/21755 */display: inline-block !important;position: relative;}#sk-container-id-11 div.sk-text-repr-fallback {display: none;}</style><div id=\"sk-container-id-11\" class=\"sk-top-container\"><div class=\"sk-text-repr-fallback\"><pre>MultiOutputRegressor(estimator=LinearRegression())</pre><b>In a Jupyter environment, please rerun this cell to show the HTML representation or trust the notebook. <br />On GitHub, the HTML representation is unable to render, please try loading this page with nbviewer.org.</b></div><div class=\"sk-container\" hidden><div class=\"sk-item sk-dashed-wrapped\"><div class=\"sk-label-container\"><div class=\"sk-label sk-toggleable\"><input class=\"sk-toggleable__control sk-hidden--visually\" id=\"sk-estimator-id-31\" type=\"checkbox\" ><label for=\"sk-estimator-id-31\" class=\"sk-toggleable__label sk-toggleable__label-arrow\">MultiOutputRegressor</label><div class=\"sk-toggleable__content\"><pre>MultiOutputRegressor(estimator=LinearRegression())</pre></div></div></div><div class=\"sk-parallel\"><div class=\"sk-parallel-item\"><div class=\"sk-item\"><div class=\"sk-label-container\"><div class=\"sk-label sk-toggleable\"><input class=\"sk-toggleable__control sk-hidden--visually\" id=\"sk-estimator-id-32\" type=\"checkbox\" ><label for=\"sk-estimator-id-32\" class=\"sk-toggleable__label sk-toggleable__label-arrow\">estimator: LinearRegression</label><div class=\"sk-toggleable__content\"><pre>LinearRegression()</pre></div></div></div><div class=\"sk-serial\"><div class=\"sk-item\"><div class=\"sk-estimator sk-toggleable\"><input class=\"sk-toggleable__control sk-hidden--visually\" id=\"sk-estimator-id-33\" type=\"checkbox\" ><label for=\"sk-estimator-id-33\" class=\"sk-toggleable__label sk-toggleable__label-arrow\">LinearRegression</label><div class=\"sk-toggleable__content\"><pre>LinearRegression()</pre></div></div></div></div></div></div></div></div></div></div>"
      ],
      "text/plain": [
       "MultiOutputRegressor(estimator=LinearRegression())"
      ]
     },
     "execution_count": 77,
     "metadata": {},
     "output_type": "execute_result"
    }
   ],
   "source": [
    "lin.fit(X_train_sc, y_train)"
   ]
  },
  {
   "cell_type": "code",
   "execution_count": 78,
   "id": "14c3f324-abac-4ee0-a7d5-0ceac0bbadec",
   "metadata": {},
   "outputs": [
    {
     "data": {
      "text/html": [
       "<style>#sk-container-id-12 {color: black;}#sk-container-id-12 pre{padding: 0;}#sk-container-id-12 div.sk-toggleable {background-color: white;}#sk-container-id-12 label.sk-toggleable__label {cursor: pointer;display: block;width: 100%;margin-bottom: 0;padding: 0.3em;box-sizing: border-box;text-align: center;}#sk-container-id-12 label.sk-toggleable__label-arrow:before {content: \"▸\";float: left;margin-right: 0.25em;color: #696969;}#sk-container-id-12 label.sk-toggleable__label-arrow:hover:before {color: black;}#sk-container-id-12 div.sk-estimator:hover label.sk-toggleable__label-arrow:before {color: black;}#sk-container-id-12 div.sk-toggleable__content {max-height: 0;max-width: 0;overflow: hidden;text-align: left;background-color: #f0f8ff;}#sk-container-id-12 div.sk-toggleable__content pre {margin: 0.2em;color: black;border-radius: 0.25em;background-color: #f0f8ff;}#sk-container-id-12 input.sk-toggleable__control:checked~div.sk-toggleable__content {max-height: 200px;max-width: 100%;overflow: auto;}#sk-container-id-12 input.sk-toggleable__control:checked~label.sk-toggleable__label-arrow:before {content: \"▾\";}#sk-container-id-12 div.sk-estimator input.sk-toggleable__control:checked~label.sk-toggleable__label {background-color: #d4ebff;}#sk-container-id-12 div.sk-label input.sk-toggleable__control:checked~label.sk-toggleable__label {background-color: #d4ebff;}#sk-container-id-12 input.sk-hidden--visually {border: 0;clip: rect(1px 1px 1px 1px);clip: rect(1px, 1px, 1px, 1px);height: 1px;margin: -1px;overflow: hidden;padding: 0;position: absolute;width: 1px;}#sk-container-id-12 div.sk-estimator {font-family: monospace;background-color: #f0f8ff;border: 1px dotted black;border-radius: 0.25em;box-sizing: border-box;margin-bottom: 0.5em;}#sk-container-id-12 div.sk-estimator:hover {background-color: #d4ebff;}#sk-container-id-12 div.sk-parallel-item::after {content: \"\";width: 100%;border-bottom: 1px solid gray;flex-grow: 1;}#sk-container-id-12 div.sk-label:hover label.sk-toggleable__label {background-color: #d4ebff;}#sk-container-id-12 div.sk-serial::before {content: \"\";position: absolute;border-left: 1px solid gray;box-sizing: border-box;top: 0;bottom: 0;left: 50%;z-index: 0;}#sk-container-id-12 div.sk-serial {display: flex;flex-direction: column;align-items: center;background-color: white;padding-right: 0.2em;padding-left: 0.2em;position: relative;}#sk-container-id-12 div.sk-item {position: relative;z-index: 1;}#sk-container-id-12 div.sk-parallel {display: flex;align-items: stretch;justify-content: center;background-color: white;position: relative;}#sk-container-id-12 div.sk-item::before, #sk-container-id-12 div.sk-parallel-item::before {content: \"\";position: absolute;border-left: 1px solid gray;box-sizing: border-box;top: 0;bottom: 0;left: 50%;z-index: -1;}#sk-container-id-12 div.sk-parallel-item {display: flex;flex-direction: column;z-index: 1;position: relative;background-color: white;}#sk-container-id-12 div.sk-parallel-item:first-child::after {align-self: flex-end;width: 50%;}#sk-container-id-12 div.sk-parallel-item:last-child::after {align-self: flex-start;width: 50%;}#sk-container-id-12 div.sk-parallel-item:only-child::after {width: 0;}#sk-container-id-12 div.sk-dashed-wrapped {border: 1px dashed gray;margin: 0 0.4em 0.5em 0.4em;box-sizing: border-box;padding-bottom: 0.4em;background-color: white;}#sk-container-id-12 div.sk-label label {font-family: monospace;font-weight: bold;display: inline-block;line-height: 1.2em;}#sk-container-id-12 div.sk-label-container {text-align: center;}#sk-container-id-12 div.sk-container {/* jupyter's `normalize.less` sets `[hidden] { display: none; }` but bootstrap.min.css set `[hidden] { display: none !important; }` so we also need the `!important` here to be able to override the default hidden behavior on the sphinx rendered scikit-learn.org. See: https://github.com/scikit-learn/scikit-learn/issues/21755 */display: inline-block !important;position: relative;}#sk-container-id-12 div.sk-text-repr-fallback {display: none;}</style><div id=\"sk-container-id-12\" class=\"sk-top-container\"><div class=\"sk-text-repr-fallback\"><pre>MultiOutputRegressor(estimator=Ridge())</pre><b>In a Jupyter environment, please rerun this cell to show the HTML representation or trust the notebook. <br />On GitHub, the HTML representation is unable to render, please try loading this page with nbviewer.org.</b></div><div class=\"sk-container\" hidden><div class=\"sk-item sk-dashed-wrapped\"><div class=\"sk-label-container\"><div class=\"sk-label sk-toggleable\"><input class=\"sk-toggleable__control sk-hidden--visually\" id=\"sk-estimator-id-34\" type=\"checkbox\" ><label for=\"sk-estimator-id-34\" class=\"sk-toggleable__label sk-toggleable__label-arrow\">MultiOutputRegressor</label><div class=\"sk-toggleable__content\"><pre>MultiOutputRegressor(estimator=Ridge())</pre></div></div></div><div class=\"sk-parallel\"><div class=\"sk-parallel-item\"><div class=\"sk-item\"><div class=\"sk-label-container\"><div class=\"sk-label sk-toggleable\"><input class=\"sk-toggleable__control sk-hidden--visually\" id=\"sk-estimator-id-35\" type=\"checkbox\" ><label for=\"sk-estimator-id-35\" class=\"sk-toggleable__label sk-toggleable__label-arrow\">estimator: Ridge</label><div class=\"sk-toggleable__content\"><pre>Ridge()</pre></div></div></div><div class=\"sk-serial\"><div class=\"sk-item\"><div class=\"sk-estimator sk-toggleable\"><input class=\"sk-toggleable__control sk-hidden--visually\" id=\"sk-estimator-id-36\" type=\"checkbox\" ><label for=\"sk-estimator-id-36\" class=\"sk-toggleable__label sk-toggleable__label-arrow\">Ridge</label><div class=\"sk-toggleable__content\"><pre>Ridge()</pre></div></div></div></div></div></div></div></div></div></div>"
      ],
      "text/plain": [
       "MultiOutputRegressor(estimator=Ridge())"
      ]
     },
     "execution_count": 78,
     "metadata": {},
     "output_type": "execute_result"
    }
   ],
   "source": [
    "ridge.fit(X_train_sc,y_train)"
   ]
  },
  {
   "cell_type": "code",
   "execution_count": 79,
   "id": "569f8448-c2d2-4ce0-a796-a491cf58449b",
   "metadata": {},
   "outputs": [
    {
     "name": "stdout",
     "output_type": "stream",
     "text": [
      "R-squared score for Electricity from fossil fuels (TWh): 0.9496173662767988 \n",
      "\n",
      "Mean Squared Error for Electricity from fossil fuels (TWh): 0.3516674053209133\n",
      " \n",
      "R-squared score for Electricity from nuclear (TWh): 0.9506363799260442 \n",
      "\n",
      "Mean Squared Error for Electricity from nuclear (TWh): 0.02353821879061183\n",
      " \n",
      "R-squared score for Electricity from renewables (TWh): 0.3702513606467138 \n",
      "\n",
      "Mean Squared Error for Electricity from renewables (TWh): 0.009702607173864829\n",
      " \n",
      "R-squared score for Low-carbon electricity (% electricity): 0.9384851945380743 \n",
      "\n",
      "Mean Squared Error for Low-carbon electricity (% electricity): 2.8226220229531897e-05\n",
      " \n",
      "The train score for Lin model is 0.8315635519623237\n",
      "The test score for Lin model is 0.8022475753469078\n"
     ]
    }
   ],
   "source": [
    "#predict\n",
    "predictions_lin = lin.predict(X_test_sc)\n",
    "\n",
    "# Calculate scores for each variable\n",
    "scores_r2 = [r2_score(y_test.iloc[:, i], predictions_lin[:, i]) for i in range(len(y_features))]\n",
    "scores_mse = [mean_squared_error(y_test.iloc[:, i], predictions_lin[:, i]) for i in range(len(y_features))]\n",
    "\n",
    "# Display scores for each variable\n",
    "for i, feature in enumerate(y_features):\n",
    "    print(f\"R-squared score for {feature}: {scores_r2[i]} \\n\")\n",
    "    print(f\"Mean Squared Error for {feature}: {scores_mse[i]}\\n \")\n",
    "\n",
    "# Display overall scores\n",
    "train_score_lin = lin.score(X_train_sc, y_train)\n",
    "test_score_lin = lin.score(X_test_sc, y_test)\n",
    "print(\"The train score for Lin model is {}\".format(train_score_lin))\n",
    "print(\"The test score for Lin model is {}\".format(test_score_lin))"
   ]
  },
  {
   "cell_type": "markdown",
   "id": "924f0e01-5ed3-4f23-a3cf-e0717619ae59",
   "metadata": {},
   "source": [
    "#### Lasso will not be of any help here"
   ]
  },
  {
   "cell_type": "code",
   "execution_count": 80,
   "id": "370a1c5f-a731-4dd6-a368-f49aef051171",
   "metadata": {},
   "outputs": [
    {
     "name": "stdout",
     "output_type": "stream",
     "text": [
      "R-squared score for Electricity from fossil fuels (TWh) (Ridge): 0.9506618565537822 \n",
      "\n",
      "Mean Squared Error for Electricity from fossil fuels (TWh) (Ridge): 0.34437693321880575 \n",
      "\n",
      "R-squared score for Electricity from nuclear (TWh) (Ridge): 0.9521143300217445 \n",
      "\n",
      "Mean Squared Error for Electricity from nuclear (TWh) (Ridge): 0.02283348294137548 \n",
      "\n",
      "R-squared score for Electricity from renewables (TWh) (Ridge): 0.3825441220784168 \n",
      "\n",
      "Mean Squared Error for Electricity from renewables (TWh) (Ridge): 0.009513211234277986 \n",
      "\n",
      "R-squared score for Low-carbon electricity (% electricity) (Ridge): 0.9395549838707824 \n",
      "\n",
      "Mean Squared Error for Low-carbon electricity (% electricity) (Ridge): 2.773534475528676e-05 \n",
      "\n",
      "The train score for Ridge model is 0.8294261405899502\n",
      "The test score for Ridge model is 0.8062188231311815\n"
     ]
    }
   ],
   "source": [
    "# Predictions\n",
    "predictions_ridge = ridge.predict(X_test_sc)\n",
    "\n",
    "# Calculate scores for each variable\n",
    "scores_r2_ridge = [r2_score(y_test.iloc[:, i], predictions_ridge[:, i]) for i in range(len(y_features))]\n",
    "scores_mse_ridge = [mean_squared_error(y_test.iloc[:, i], predictions_ridge[:, i]) for i in range(len(y_features))]\n",
    "\n",
    "# Display scores for each variable\n",
    "for i, feature in enumerate(y_features):\n",
    "    print(f\"R-squared score for {feature} (Ridge): {scores_r2_ridge[i]} \\n\")\n",
    "    print(f\"Mean Squared Error for {feature} (Ridge): {scores_mse_ridge[i]} \\n\")\n",
    "\n",
    "# Display overall scores\n",
    "train_score_ridge = ridge.score(X_train_sc, y_train)\n",
    "test_score_ridge = ridge.score(X_test_sc, y_test)\n",
    "print(\"The train score for Ridge model is {}\".format(train_score_ridge))\n",
    "print(\"The test score for Ridge model is {}\".format(test_score_ridge))"
   ]
  },
  {
   "cell_type": "markdown",
   "id": "bfffbcde-693a-46cb-8bf9-cec105761f21",
   "metadata": {},
   "source": [
    "## KNN Regression "
   ]
  },
  {
   "cell_type": "code",
   "execution_count": 81,
   "id": "55cca3ba-59b3-46a7-a8ea-0ca04a05cc9c",
   "metadata": {},
   "outputs": [],
   "source": [
    "# KNeighborsRegressor()\n",
    "knn = MultiOutputRegressor(KNeighborsRegressor(n_neighbors=15))"
   ]
  },
  {
   "cell_type": "code",
   "execution_count": 82,
   "id": "47944164-eb61-4c47-a292-2a451d0499ce",
   "metadata": {},
   "outputs": [],
   "source": [
    "ss = StandardScaler()\n",
    "X_train_sc = ss.fit_transform(X_train)\n",
    "X_test_sc = ss.transform(X_test)"
   ]
  },
  {
   "cell_type": "code",
   "execution_count": 83,
   "id": "fe7e1634-b015-4723-979b-b2a398db023d",
   "metadata": {},
   "outputs": [
    {
     "data": {
      "text/html": [
       "<style>#sk-container-id-13 {color: black;}#sk-container-id-13 pre{padding: 0;}#sk-container-id-13 div.sk-toggleable {background-color: white;}#sk-container-id-13 label.sk-toggleable__label {cursor: pointer;display: block;width: 100%;margin-bottom: 0;padding: 0.3em;box-sizing: border-box;text-align: center;}#sk-container-id-13 label.sk-toggleable__label-arrow:before {content: \"▸\";float: left;margin-right: 0.25em;color: #696969;}#sk-container-id-13 label.sk-toggleable__label-arrow:hover:before {color: black;}#sk-container-id-13 div.sk-estimator:hover label.sk-toggleable__label-arrow:before {color: black;}#sk-container-id-13 div.sk-toggleable__content {max-height: 0;max-width: 0;overflow: hidden;text-align: left;background-color: #f0f8ff;}#sk-container-id-13 div.sk-toggleable__content pre {margin: 0.2em;color: black;border-radius: 0.25em;background-color: #f0f8ff;}#sk-container-id-13 input.sk-toggleable__control:checked~div.sk-toggleable__content {max-height: 200px;max-width: 100%;overflow: auto;}#sk-container-id-13 input.sk-toggleable__control:checked~label.sk-toggleable__label-arrow:before {content: \"▾\";}#sk-container-id-13 div.sk-estimator input.sk-toggleable__control:checked~label.sk-toggleable__label {background-color: #d4ebff;}#sk-container-id-13 div.sk-label input.sk-toggleable__control:checked~label.sk-toggleable__label {background-color: #d4ebff;}#sk-container-id-13 input.sk-hidden--visually {border: 0;clip: rect(1px 1px 1px 1px);clip: rect(1px, 1px, 1px, 1px);height: 1px;margin: -1px;overflow: hidden;padding: 0;position: absolute;width: 1px;}#sk-container-id-13 div.sk-estimator {font-family: monospace;background-color: #f0f8ff;border: 1px dotted black;border-radius: 0.25em;box-sizing: border-box;margin-bottom: 0.5em;}#sk-container-id-13 div.sk-estimator:hover {background-color: #d4ebff;}#sk-container-id-13 div.sk-parallel-item::after {content: \"\";width: 100%;border-bottom: 1px solid gray;flex-grow: 1;}#sk-container-id-13 div.sk-label:hover label.sk-toggleable__label {background-color: #d4ebff;}#sk-container-id-13 div.sk-serial::before {content: \"\";position: absolute;border-left: 1px solid gray;box-sizing: border-box;top: 0;bottom: 0;left: 50%;z-index: 0;}#sk-container-id-13 div.sk-serial {display: flex;flex-direction: column;align-items: center;background-color: white;padding-right: 0.2em;padding-left: 0.2em;position: relative;}#sk-container-id-13 div.sk-item {position: relative;z-index: 1;}#sk-container-id-13 div.sk-parallel {display: flex;align-items: stretch;justify-content: center;background-color: white;position: relative;}#sk-container-id-13 div.sk-item::before, #sk-container-id-13 div.sk-parallel-item::before {content: \"\";position: absolute;border-left: 1px solid gray;box-sizing: border-box;top: 0;bottom: 0;left: 50%;z-index: -1;}#sk-container-id-13 div.sk-parallel-item {display: flex;flex-direction: column;z-index: 1;position: relative;background-color: white;}#sk-container-id-13 div.sk-parallel-item:first-child::after {align-self: flex-end;width: 50%;}#sk-container-id-13 div.sk-parallel-item:last-child::after {align-self: flex-start;width: 50%;}#sk-container-id-13 div.sk-parallel-item:only-child::after {width: 0;}#sk-container-id-13 div.sk-dashed-wrapped {border: 1px dashed gray;margin: 0 0.4em 0.5em 0.4em;box-sizing: border-box;padding-bottom: 0.4em;background-color: white;}#sk-container-id-13 div.sk-label label {font-family: monospace;font-weight: bold;display: inline-block;line-height: 1.2em;}#sk-container-id-13 div.sk-label-container {text-align: center;}#sk-container-id-13 div.sk-container {/* jupyter's `normalize.less` sets `[hidden] { display: none; }` but bootstrap.min.css set `[hidden] { display: none !important; }` so we also need the `!important` here to be able to override the default hidden behavior on the sphinx rendered scikit-learn.org. See: https://github.com/scikit-learn/scikit-learn/issues/21755 */display: inline-block !important;position: relative;}#sk-container-id-13 div.sk-text-repr-fallback {display: none;}</style><div id=\"sk-container-id-13\" class=\"sk-top-container\"><div class=\"sk-text-repr-fallback\"><pre>MultiOutputRegressor(estimator=KNeighborsRegressor(n_neighbors=15))</pre><b>In a Jupyter environment, please rerun this cell to show the HTML representation or trust the notebook. <br />On GitHub, the HTML representation is unable to render, please try loading this page with nbviewer.org.</b></div><div class=\"sk-container\" hidden><div class=\"sk-item sk-dashed-wrapped\"><div class=\"sk-label-container\"><div class=\"sk-label sk-toggleable\"><input class=\"sk-toggleable__control sk-hidden--visually\" id=\"sk-estimator-id-37\" type=\"checkbox\" ><label for=\"sk-estimator-id-37\" class=\"sk-toggleable__label sk-toggleable__label-arrow\">MultiOutputRegressor</label><div class=\"sk-toggleable__content\"><pre>MultiOutputRegressor(estimator=KNeighborsRegressor(n_neighbors=15))</pre></div></div></div><div class=\"sk-parallel\"><div class=\"sk-parallel-item\"><div class=\"sk-item\"><div class=\"sk-label-container\"><div class=\"sk-label sk-toggleable\"><input class=\"sk-toggleable__control sk-hidden--visually\" id=\"sk-estimator-id-38\" type=\"checkbox\" ><label for=\"sk-estimator-id-38\" class=\"sk-toggleable__label sk-toggleable__label-arrow\">estimator: KNeighborsRegressor</label><div class=\"sk-toggleable__content\"><pre>KNeighborsRegressor(n_neighbors=15)</pre></div></div></div><div class=\"sk-serial\"><div class=\"sk-item\"><div class=\"sk-estimator sk-toggleable\"><input class=\"sk-toggleable__control sk-hidden--visually\" id=\"sk-estimator-id-39\" type=\"checkbox\" ><label for=\"sk-estimator-id-39\" class=\"sk-toggleable__label sk-toggleable__label-arrow\">KNeighborsRegressor</label><div class=\"sk-toggleable__content\"><pre>KNeighborsRegressor(n_neighbors=15)</pre></div></div></div></div></div></div></div></div></div></div>"
      ],
      "text/plain": [
       "MultiOutputRegressor(estimator=KNeighborsRegressor(n_neighbors=15))"
      ]
     },
     "execution_count": 83,
     "metadata": {},
     "output_type": "execute_result"
    }
   ],
   "source": [
    "knn.fit(X_train,y_train)"
   ]
  },
  {
   "cell_type": "code",
   "execution_count": 84,
   "id": "be9bd97b-3ca8-47d6-b971-58ba598bfa7d",
   "metadata": {},
   "outputs": [
    {
     "name": "stdout",
     "output_type": "stream",
     "text": [
      "R-squared score for Electricity from fossil fuels (TWh): -2.623343744281072 \n",
      "\n",
      "Mean Squared Error for Electricity from fossil fuels (TWh): 25.29069639625275\n",
      " \n",
      "R-squared score for Electricity from nuclear (TWh): -2.81908442312836 \n",
      "\n",
      "Mean Squared Error for Electricity from nuclear (TWh): 1.8210667004716101\n",
      " \n",
      "R-squared score for Electricity from renewables (TWh): -7.386150763608887 \n",
      "\n",
      "Mean Squared Error for Electricity from renewables (TWh): 0.12920635548123316\n",
      " \n",
      "R-squared score for Low-carbon electricity (% electricity): -4.260795859077295 \n",
      "\n",
      "Mean Squared Error for Low-carbon electricity (% electricity): 0.0024139291571495585\n",
      " \n"
     ]
    },
    {
     "name": "stderr",
     "output_type": "stream",
     "text": [
      "/Users/ben/miniforge3/lib/python3.10/site-packages/sklearn/base.py:464: UserWarning: X does not have valid feature names, but KNeighborsRegressor was fitted with feature names\n",
      "  warnings.warn(\n",
      "/Users/ben/miniforge3/lib/python3.10/site-packages/sklearn/base.py:464: UserWarning: X does not have valid feature names, but KNeighborsRegressor was fitted with feature names\n",
      "  warnings.warn(\n",
      "/Users/ben/miniforge3/lib/python3.10/site-packages/sklearn/base.py:464: UserWarning: X does not have valid feature names, but KNeighborsRegressor was fitted with feature names\n",
      "  warnings.warn(\n",
      "/Users/ben/miniforge3/lib/python3.10/site-packages/sklearn/base.py:464: UserWarning: X does not have valid feature names, but KNeighborsRegressor was fitted with feature names\n",
      "  warnings.warn(\n",
      "/Users/ben/miniforge3/lib/python3.10/site-packages/sklearn/base.py:464: UserWarning: X does not have valid feature names, but KNeighborsRegressor was fitted with feature names\n",
      "  warnings.warn(\n",
      "/Users/ben/miniforge3/lib/python3.10/site-packages/sklearn/base.py:464: UserWarning: X does not have valid feature names, but KNeighborsRegressor was fitted with feature names\n",
      "  warnings.warn(\n",
      "/Users/ben/miniforge3/lib/python3.10/site-packages/sklearn/base.py:464: UserWarning: X does not have valid feature names, but KNeighborsRegressor was fitted with feature names\n",
      "  warnings.warn(\n",
      "/Users/ben/miniforge3/lib/python3.10/site-packages/sklearn/base.py:464: UserWarning: X does not have valid feature names, but KNeighborsRegressor was fitted with feature names\n",
      "  warnings.warn(\n",
      "/Users/ben/miniforge3/lib/python3.10/site-packages/sklearn/base.py:464: UserWarning: X does not have valid feature names, but KNeighborsRegressor was fitted with feature names\n",
      "  warnings.warn(\n"
     ]
    },
    {
     "name": "stdout",
     "output_type": "stream",
     "text": [
      "The train score for KNN model is -4.826613888611487\n",
      "The test score for KNN model is -4.272343697523904\n"
     ]
    },
    {
     "name": "stderr",
     "output_type": "stream",
     "text": [
      "/Users/ben/miniforge3/lib/python3.10/site-packages/sklearn/base.py:464: UserWarning: X does not have valid feature names, but KNeighborsRegressor was fitted with feature names\n",
      "  warnings.warn(\n",
      "/Users/ben/miniforge3/lib/python3.10/site-packages/sklearn/base.py:464: UserWarning: X does not have valid feature names, but KNeighborsRegressor was fitted with feature names\n",
      "  warnings.warn(\n",
      "/Users/ben/miniforge3/lib/python3.10/site-packages/sklearn/base.py:464: UserWarning: X does not have valid feature names, but KNeighborsRegressor was fitted with feature names\n",
      "  warnings.warn(\n"
     ]
    }
   ],
   "source": [
    "#predict\n",
    "predictions_knn = knn.predict(X_test_sc)\n",
    "\n",
    "# Calculate scores for each variable\n",
    "scores_r2 = [r2_score(y_test.iloc[:, i], predictions_knn[:, i]) for i in range(len(y_features))]\n",
    "scores_mse = [mean_squared_error(y_test.iloc[:, i], predictions_knn[:, i]) for i in range(len(y_features))]\n",
    "\n",
    "# Display scores for each variable\n",
    "for i, feature in enumerate(y_features):\n",
    "    print(f\"R-squared score for {feature}: {scores_r2[i]} \\n\")\n",
    "    print(f\"Mean Squared Error for {feature}: {scores_mse[i]}\\n \")\n",
    "\n",
    "# Display overall scores\n",
    "train_score_knn = knn.score(X_train_sc, y_train)\n",
    "test_score_knn = knn.score(X_test_sc, y_test)\n",
    "print(\"The train score for KNN model is {}\".format(train_score_knn))\n",
    "print(\"The test score for KNN model is {}\".format(test_score_knn))"
   ]
  },
  {
   "cell_type": "code",
   "execution_count": 85,
   "id": "1debb032-70f9-4a42-8d03-35c1ab481566",
   "metadata": {},
   "outputs": [
    {
     "name": "stdout",
     "output_type": "stream",
     "text": [
      "Best Hyperparameters: {'estimator__n_neighbors': 5, 'estimator__p': 3, 'estimator__weights': 'distance'}\n"
     ]
    }
   ],
   "source": [
    "# Define the parameter grid to search\n",
    "param_grid = {\n",
    "    'estimator__n_neighbors': [5, 10, 15, 20, 25],\n",
    "    'estimator__weights': ['uniform', 'distance'],\n",
    "    'estimator__p': [1, 2, 3]  # Experiment with different values for p\n",
    "}\n",
    "\n",
    "# Create the KNN model with MultiOutputRegressor\n",
    "knn = MultiOutputRegressor(KNeighborsRegressor())\n",
    "\n",
    "# Create the GridSearchCV object\n",
    "grid_search = GridSearchCV(knn, param_grid, cv=5, scoring='neg_mean_squared_error', n_jobs=-1)\n",
    "\n",
    "# Fit the grid search to the data\n",
    "grid_search.fit(X_train_sc, y_train)\n",
    "\n",
    "# Get the best parameters\n",
    "best_params = grid_search.best_params_\n",
    "print(\"Best Hyperparameters:\", best_params)\n",
    "\n",
    "# Use the best model for predictions\n",
    "best_knn = grid_search.best_estimator_\n",
    "predictions_knn = best_knn.predict(X_test_sc)"
   ]
  },
  {
   "cell_type": "code",
   "execution_count": 86,
   "id": "8bde50cb-d3af-4830-829f-d528d163b9a5",
   "metadata": {},
   "outputs": [
    {
     "name": "stdout",
     "output_type": "stream",
     "text": [
      "R-squared score for Electricity from fossil fuels (TWh): 0.9154774027860599 \n",
      "\n",
      "Mean Squared Error for Electricity from fossil fuels (TWh): 0.5899620614617281\n",
      " \n",
      "R-squared score for Electricity from nuclear (TWh): 0.9156867365847401 \n",
      "\n",
      "Mean Squared Error for Electricity from nuclear (TWh): 0.04020337321787994\n",
      " \n",
      "R-squared score for Electricity from renewables (TWh): 0.30445183460627767 \n",
      "\n",
      "Mean Squared Error for Electricity from renewables (TWh): 0.010716387773776037\n",
      " \n",
      "R-squared score for Low-carbon electricity (% electricity): 0.8883246809413519 \n",
      "\n",
      "Mean Squared Error for Low-carbon electricity (% electricity): 5.124249562820562e-05\n",
      " \n",
      "The train score for the best KNN model is 1.0\n",
      "The test score for the best KNN model is 0.7559851637296073\n"
     ]
    }
   ],
   "source": [
    "# Calculate scores for each variable\n",
    "scores_r2 = [r2_score(y_test.iloc[:, i], predictions_knn[:, i]) for i in range(len(y_features))]\n",
    "scores_mse = [mean_squared_error(y_test.iloc[:, i], predictions_knn[:, i]) for i in range(len(y_features))]\n",
    "\n",
    "# Display scores for each variable\n",
    "for i, feature in enumerate(y_features):\n",
    "    print(f\"R-squared score for {feature}: {scores_r2[i]} \\n\")\n",
    "    print(f\"Mean Squared Error for {feature}: {scores_mse[i]}\\n \")\n",
    "\n",
    "# Display overall scores\n",
    "train_score_knn = best_knn.score(X_train_sc, y_train)\n",
    "test_score_knn = best_knn.score(X_test_sc, y_test)\n",
    "print(\"The train score for the best KNN model is {}\".format(train_score_knn))\n",
    "print(\"The test score for the best KNN model is {}\".format(test_score_knn))"
   ]
  },
  {
   "cell_type": "markdown",
   "id": "62b74a10-3828-4a6b-a887-dbc01a92c2dd",
   "metadata": {},
   "source": [
    "### More Models"
   ]
  },
  {
   "cell_type": "markdown",
   "id": "3470cb9f-6abc-4a1e-9453-482ecbafd48f",
   "metadata": {},
   "source": [
    "#### Decision Tree Regressor"
   ]
  },
  {
   "cell_type": "code",
   "execution_count": 89,
   "id": "fe1d017a-1670-4646-a6ae-3bcb6bda7779",
   "metadata": {},
   "outputs": [],
   "source": [
    "dtr = MultiOutputRegressor(DecisionTreeRegressor(random_state=42))"
   ]
  },
  {
   "cell_type": "code",
   "execution_count": 90,
   "id": "72f5c439-a5d4-463d-8656-4d5da38c9a64",
   "metadata": {},
   "outputs": [
    {
     "data": {
      "text/html": [
       "<style>#sk-container-id-14 {color: black;}#sk-container-id-14 pre{padding: 0;}#sk-container-id-14 div.sk-toggleable {background-color: white;}#sk-container-id-14 label.sk-toggleable__label {cursor: pointer;display: block;width: 100%;margin-bottom: 0;padding: 0.3em;box-sizing: border-box;text-align: center;}#sk-container-id-14 label.sk-toggleable__label-arrow:before {content: \"▸\";float: left;margin-right: 0.25em;color: #696969;}#sk-container-id-14 label.sk-toggleable__label-arrow:hover:before {color: black;}#sk-container-id-14 div.sk-estimator:hover label.sk-toggleable__label-arrow:before {color: black;}#sk-container-id-14 div.sk-toggleable__content {max-height: 0;max-width: 0;overflow: hidden;text-align: left;background-color: #f0f8ff;}#sk-container-id-14 div.sk-toggleable__content pre {margin: 0.2em;color: black;border-radius: 0.25em;background-color: #f0f8ff;}#sk-container-id-14 input.sk-toggleable__control:checked~div.sk-toggleable__content {max-height: 200px;max-width: 100%;overflow: auto;}#sk-container-id-14 input.sk-toggleable__control:checked~label.sk-toggleable__label-arrow:before {content: \"▾\";}#sk-container-id-14 div.sk-estimator input.sk-toggleable__control:checked~label.sk-toggleable__label {background-color: #d4ebff;}#sk-container-id-14 div.sk-label input.sk-toggleable__control:checked~label.sk-toggleable__label {background-color: #d4ebff;}#sk-container-id-14 input.sk-hidden--visually {border: 0;clip: rect(1px 1px 1px 1px);clip: rect(1px, 1px, 1px, 1px);height: 1px;margin: -1px;overflow: hidden;padding: 0;position: absolute;width: 1px;}#sk-container-id-14 div.sk-estimator {font-family: monospace;background-color: #f0f8ff;border: 1px dotted black;border-radius: 0.25em;box-sizing: border-box;margin-bottom: 0.5em;}#sk-container-id-14 div.sk-estimator:hover {background-color: #d4ebff;}#sk-container-id-14 div.sk-parallel-item::after {content: \"\";width: 100%;border-bottom: 1px solid gray;flex-grow: 1;}#sk-container-id-14 div.sk-label:hover label.sk-toggleable__label {background-color: #d4ebff;}#sk-container-id-14 div.sk-serial::before {content: \"\";position: absolute;border-left: 1px solid gray;box-sizing: border-box;top: 0;bottom: 0;left: 50%;z-index: 0;}#sk-container-id-14 div.sk-serial {display: flex;flex-direction: column;align-items: center;background-color: white;padding-right: 0.2em;padding-left: 0.2em;position: relative;}#sk-container-id-14 div.sk-item {position: relative;z-index: 1;}#sk-container-id-14 div.sk-parallel {display: flex;align-items: stretch;justify-content: center;background-color: white;position: relative;}#sk-container-id-14 div.sk-item::before, #sk-container-id-14 div.sk-parallel-item::before {content: \"\";position: absolute;border-left: 1px solid gray;box-sizing: border-box;top: 0;bottom: 0;left: 50%;z-index: -1;}#sk-container-id-14 div.sk-parallel-item {display: flex;flex-direction: column;z-index: 1;position: relative;background-color: white;}#sk-container-id-14 div.sk-parallel-item:first-child::after {align-self: flex-end;width: 50%;}#sk-container-id-14 div.sk-parallel-item:last-child::after {align-self: flex-start;width: 50%;}#sk-container-id-14 div.sk-parallel-item:only-child::after {width: 0;}#sk-container-id-14 div.sk-dashed-wrapped {border: 1px dashed gray;margin: 0 0.4em 0.5em 0.4em;box-sizing: border-box;padding-bottom: 0.4em;background-color: white;}#sk-container-id-14 div.sk-label label {font-family: monospace;font-weight: bold;display: inline-block;line-height: 1.2em;}#sk-container-id-14 div.sk-label-container {text-align: center;}#sk-container-id-14 div.sk-container {/* jupyter's `normalize.less` sets `[hidden] { display: none; }` but bootstrap.min.css set `[hidden] { display: none !important; }` so we also need the `!important` here to be able to override the default hidden behavior on the sphinx rendered scikit-learn.org. See: https://github.com/scikit-learn/scikit-learn/issues/21755 */display: inline-block !important;position: relative;}#sk-container-id-14 div.sk-text-repr-fallback {display: none;}</style><div id=\"sk-container-id-14\" class=\"sk-top-container\"><div class=\"sk-text-repr-fallback\"><pre>MultiOutputRegressor(estimator=DecisionTreeRegressor(random_state=42))</pre><b>In a Jupyter environment, please rerun this cell to show the HTML representation or trust the notebook. <br />On GitHub, the HTML representation is unable to render, please try loading this page with nbviewer.org.</b></div><div class=\"sk-container\" hidden><div class=\"sk-item sk-dashed-wrapped\"><div class=\"sk-label-container\"><div class=\"sk-label sk-toggleable\"><input class=\"sk-toggleable__control sk-hidden--visually\" id=\"sk-estimator-id-40\" type=\"checkbox\" ><label for=\"sk-estimator-id-40\" class=\"sk-toggleable__label sk-toggleable__label-arrow\">MultiOutputRegressor</label><div class=\"sk-toggleable__content\"><pre>MultiOutputRegressor(estimator=DecisionTreeRegressor(random_state=42))</pre></div></div></div><div class=\"sk-parallel\"><div class=\"sk-parallel-item\"><div class=\"sk-item\"><div class=\"sk-label-container\"><div class=\"sk-label sk-toggleable\"><input class=\"sk-toggleable__control sk-hidden--visually\" id=\"sk-estimator-id-41\" type=\"checkbox\" ><label for=\"sk-estimator-id-41\" class=\"sk-toggleable__label sk-toggleable__label-arrow\">estimator: DecisionTreeRegressor</label><div class=\"sk-toggleable__content\"><pre>DecisionTreeRegressor(random_state=42)</pre></div></div></div><div class=\"sk-serial\"><div class=\"sk-item\"><div class=\"sk-estimator sk-toggleable\"><input class=\"sk-toggleable__control sk-hidden--visually\" id=\"sk-estimator-id-42\" type=\"checkbox\" ><label for=\"sk-estimator-id-42\" class=\"sk-toggleable__label sk-toggleable__label-arrow\">DecisionTreeRegressor</label><div class=\"sk-toggleable__content\"><pre>DecisionTreeRegressor(random_state=42)</pre></div></div></div></div></div></div></div></div></div></div>"
      ],
      "text/plain": [
       "MultiOutputRegressor(estimator=DecisionTreeRegressor(random_state=42))"
      ]
     },
     "execution_count": 90,
     "metadata": {},
     "output_type": "execute_result"
    }
   ],
   "source": [
    "dtr.fit(X_train_sc, y_train)"
   ]
  },
  {
   "cell_type": "code",
   "execution_count": 91,
   "id": "72951840-7176-49d7-8861-3a61c6f39868",
   "metadata": {},
   "outputs": [
    {
     "name": "stdout",
     "output_type": "stream",
     "text": [
      "R-squared score for Electricity from fossil fuels (TWh): 1.0 \n",
      "\n",
      "Mean Squared Error for Electricity from fossil fuels (TWh): 6.052501152523774e-28\n",
      " \n",
      "R-squared score for Electricity from nuclear (TWh): 1.0 \n",
      "\n",
      "Mean Squared Error for Electricity from nuclear (TWh): 1.972339235443503e-29\n",
      " \n",
      "R-squared score for Electricity from renewables (TWh): 1.0 \n",
      "\n",
      "Mean Squared Error for Electricity from renewables (TWh): 2.5402475499399985e-29\n",
      " \n",
      "R-squared score for Low-carbon electricity (% electricity): 1.0 \n",
      "\n",
      "Mean Squared Error for Low-carbon electricity (% electricity): 1.2368328453819195e-31\n",
      " \n",
      "The train score for DTR model is 1.0\n",
      "The test score for DTR model is 1.0\n"
     ]
    }
   ],
   "source": [
    "#predict\n",
    "predictions_dtr = dtr.predict(X_test_sc)\n",
    "\n",
    "# Calculate scores for each variable\n",
    "scores_r2 = [r2_score(y_test.iloc[:, i], predictions_dtr[:, i]) for i in range(len(y_features))]\n",
    "scores_mse = [mean_squared_error(y_test.iloc[:, i], predictions_dtr[:, i]) for i in range(len(y_features))]\n",
    "\n",
    "# Display scores for each variable\n",
    "for i, feature in enumerate(y_features):\n",
    "    print(f\"R-squared score for {feature}: {scores_r2[i]} \\n\")\n",
    "    print(f\"Mean Squared Error for {feature}: {scores_mse[i]}\\n \")\n",
    "\n",
    "# Display overall scores\n",
    "train_score_dtr = dtr.score(X_train_sc, y_train)\n",
    "test_score_dtr = dtr.score(X_test_sc, y_test)\n",
    "print(\"The train score for DTR model is {}\".format(train_score_dtr))\n",
    "print(\"The test score for DTR model is {}\".format(test_score_dtr))"
   ]
  },
  {
   "cell_type": "code",
   "execution_count": 92,
   "id": "6e49ae81-c079-4f1c-a108-e58e606e5807",
   "metadata": {},
   "outputs": [
    {
     "name": "stdout",
     "output_type": "stream",
     "text": [
      "Best Hyperparameters: {'estimator__max_depth': None, 'estimator__min_samples_leaf': 4, 'estimator__min_samples_split': 10}\n",
      "R-squared score for Electricity from fossil fuels (TWh): 1.0 \n",
      "\n",
      "Mean Squared Error for Electricity from fossil fuels (TWh): 5.713440541191518e-28\n",
      " \n",
      "R-squared score for Electricity from nuclear (TWh): 1.0 \n",
      "\n",
      "Mean Squared Error for Electricity from nuclear (TWh): 2.937901243986202e-29\n",
      " \n",
      "R-squared score for Electricity from renewables (TWh): 1.0 \n",
      "\n",
      "Mean Squared Error for Electricity from renewables (TWh): 2.451122688703492e-29\n",
      " \n",
      "R-squared score for Low-carbon electricity (% electricity): 1.0 \n",
      "\n",
      "Mean Squared Error for Low-carbon electricity (% electricity): 1.1924014986682077e-31\n",
      " \n",
      "The train score for the best DTR model is 1.0\n",
      "The test score for the best DTR model is 1.0\n"
     ]
    }
   ],
   "source": [
    "# Create a Decision Tree Regressor model with MultiOutputRegressor\n",
    "dtr = MultiOutputRegressor(DecisionTreeRegressor())\n",
    "\n",
    "# Define the parameter grid to search\n",
    "param_grid = {\n",
    "    'estimator__max_depth': [None, 5, 10, 15],\n",
    "    'estimator__min_samples_split': [2, 5, 10],\n",
    "    'estimator__min_samples_leaf': [1, 2, 4]\n",
    "}\n",
    "\n",
    "# Create the GridSearchCV object\n",
    "grid_search = GridSearchCV(dtr, param_grid, cv=5, scoring='neg_mean_squared_error', n_jobs=-1)\n",
    "\n",
    "# Fit the grid search to the data\n",
    "grid_search.fit(X_train_sc, y_train)\n",
    "\n",
    "# Get the best parameters\n",
    "best_params = grid_search.best_params_\n",
    "print(\"Best Hyperparameters:\", best_params)\n",
    "\n",
    "# Use the best model for predictions\n",
    "best_dtr = grid_search.best_estimator_\n",
    "predictions_dtr = best_dtr.predict(X_test_sc)\n",
    "\n",
    "# Calculate and display scores for each variable\n",
    "scores_r2 = [r2_score(y_test.iloc[:, i], predictions_dtr[:, i]) for i in range(len(y_features))]\n",
    "scores_mse = [mean_squared_error(y_test.iloc[:, i], predictions_dtr[:, i]) for i in range(len(y_features))]\n",
    "\n",
    "# Display scores for each variable\n",
    "for i, feature in enumerate(y_features):\n",
    "    print(f\"R-squared score for {feature}: {scores_r2[i]} \\n\")\n",
    "    print(f\"Mean Squared Error for {feature}: {scores_mse[i]}\\n \")\n",
    "\n",
    "# Display overall scores\n",
    "train_score_dtr = best_dtr.score(X_train_sc, y_train)\n",
    "test_score_dtr = best_dtr.score(X_test_sc, y_test)\n",
    "print(\"The train score for the best DTR model is {}\".format(train_score_dtr))\n",
    "print(\"The test score for the best DTR model is {}\".format(test_score_dtr))"
   ]
  },
  {
   "cell_type": "markdown",
   "id": "9da8a887-ca5d-4281-bef0-b396d961abed",
   "metadata": {},
   "source": [
    "#### Bagging Tree"
   ]
  },
  {
   "cell_type": "code",
   "execution_count": 95,
   "id": "93e0a988-e1b3-4837-8a30-aaaec05f9179",
   "metadata": {},
   "outputs": [
    {
     "name": "stdout",
     "output_type": "stream",
     "text": [
      "Best Hyperparameters: {'estimator__max_features': 1.0, 'estimator__max_samples': 0.5, 'estimator__n_estimators': 10}\n",
      "R-squared score for Electricity from fossil fuels (TWh): 1.0 \n",
      "\n",
      "Mean Squared Error for Electricity from fossil fuels (TWh): 8.179375507877319e-29\n",
      " \n",
      "R-squared score for Electricity from nuclear (TWh): 1.0 \n",
      "\n",
      "Mean Squared Error for Electricity from nuclear (TWh): 5.890321300593228e-30\n",
      " \n",
      "R-squared score for Electricity from renewables (TWh): 1.0 \n",
      "\n",
      "Mean Squared Error for Electricity from renewables (TWh): 1.679743702038517e-30\n",
      " \n",
      "R-squared score for Low-carbon electricity (% electricity): 1.0 \n",
      "\n",
      "Mean Squared Error for Low-carbon electricity (% electricity): 1.231515500465388e-32\n",
      " \n",
      "The train score for the best Bagging Regressor model is 1.0\n",
      "The test score for the best Bagging Regressor model is 1.0\n"
     ]
    }
   ],
   "source": [
    "# Create a BaggingRegressor model with MultiOutputRegressor\n",
    "br = MultiOutputRegressor(BaggingRegressor())\n",
    "\n",
    "# Define the parameter grid to search\n",
    "param_grid = {\n",
    "    'estimator__n_estimators': [10, 50, 100],\n",
    "    'estimator__max_samples': [0.5, 0.7, 1.0],\n",
    "    'estimator__max_features': [0.5, 0.7, 1.0]\n",
    "}\n",
    "\n",
    "# Create the GridSearchCV object\n",
    "grid_search = GridSearchCV(br, param_grid, cv=5, scoring='neg_mean_squared_error', n_jobs=-1)\n",
    "\n",
    "# Fit the grid search to the data\n",
    "grid_search.fit(X_train_sc, y_train)\n",
    "\n",
    "# Get the best parameters\n",
    "best_params_br = grid_search.best_params_\n",
    "print(\"Best Hyperparameters:\", best_params_br)\n",
    "\n",
    "# Use the best model for predictions\n",
    "best_br = grid_search.best_estimator_\n",
    "predictions_br = best_br.predict(X_test_sc)\n",
    "\n",
    "# Calculate and display scores for each variable\n",
    "scores_r2_br = [r2_score(y_test.iloc[:, i], predictions_br[:, i]) for i in range(len(y_features))]\n",
    "scores_mse_br = [mean_squared_error(y_test.iloc[:, i], predictions_br[:, i]) for i in range(len(y_features))]\n",
    "\n",
    "# Display scores for each variable\n",
    "for i, feature in enumerate(y_features):\n",
    "    print(f\"R-squared score for {feature}: {scores_r2_br[i]} \\n\")\n",
    "    print(f\"Mean Squared Error for {feature}: {scores_mse_br[i]}\\n \")\n",
    "\n",
    "# Display overall scores\n",
    "train_score_br = best_br.score(X_train_sc, y_train)\n",
    "test_score_br = best_br.score(X_test_sc, y_test)\n",
    "print(\"The train score for the best Bagging Regressor model is {}\".format(train_score_br))\n",
    "print(\"The test score for the best Bagging Regressor model is {}\".format(test_score_br))"
   ]
  },
  {
   "cell_type": "markdown",
   "id": "b4534b76-87cd-4ea8-9f4f-135ba9cfaaca",
   "metadata": {},
   "source": [
    "#### Random Forest"
   ]
  },
  {
   "cell_type": "code",
   "execution_count": 104,
   "id": "275accf0-be89-4811-ae96-d6d403671923",
   "metadata": {},
   "outputs": [
    {
     "name": "stderr",
     "output_type": "stream",
     "text": [
      "/Users/ben/miniforge3/lib/python3.10/site-packages/sklearn/model_selection/_validation.py:425: FitFailedWarning: \n",
      "640 fits failed out of a total of 960.\n",
      "The score on these train-test partitions for these parameters will be set to nan.\n",
      "If these failures are not expected, you can try to debug them by setting error_score='raise'.\n",
      "\n",
      "Below are more details about the failures:\n",
      "--------------------------------------------------------------------------------\n",
      "331 fits failed with the following error:\n",
      "Traceback (most recent call last):\n",
      "  File \"/Users/ben/miniforge3/lib/python3.10/site-packages/sklearn/model_selection/_validation.py\", line 732, in _fit_and_score\n",
      "    estimator.fit(X_train, y_train, **fit_params)\n",
      "  File \"/Users/ben/miniforge3/lib/python3.10/site-packages/sklearn/base.py\", line 1151, in wrapper\n",
      "    return fit_method(estimator, *args, **kwargs)\n",
      "  File \"/Users/ben/miniforge3/lib/python3.10/site-packages/sklearn/multioutput.py\", line 273, in fit\n",
      "    self.estimators_ = Parallel(n_jobs=self.n_jobs)(\n",
      "  File \"/Users/ben/miniforge3/lib/python3.10/site-packages/sklearn/utils/parallel.py\", line 65, in __call__\n",
      "    return super().__call__(iterable_with_config)\n",
      "  File \"/Users/ben/miniforge3/lib/python3.10/site-packages/joblib/parallel.py\", line 1085, in __call__\n",
      "    if self.dispatch_one_batch(iterator):\n",
      "  File \"/Users/ben/miniforge3/lib/python3.10/site-packages/joblib/parallel.py\", line 901, in dispatch_one_batch\n",
      "    self._dispatch(tasks)\n",
      "  File \"/Users/ben/miniforge3/lib/python3.10/site-packages/joblib/parallel.py\", line 819, in _dispatch\n",
      "    job = self._backend.apply_async(batch, callback=cb)\n",
      "  File \"/Users/ben/miniforge3/lib/python3.10/site-packages/joblib/_parallel_backends.py\", line 208, in apply_async\n",
      "    result = ImmediateResult(func)\n",
      "  File \"/Users/ben/miniforge3/lib/python3.10/site-packages/joblib/_parallel_backends.py\", line 597, in __init__\n",
      "    self.results = batch()\n",
      "  File \"/Users/ben/miniforge3/lib/python3.10/site-packages/joblib/parallel.py\", line 288, in __call__\n",
      "    return [func(*args, **kwargs)\n",
      "  File \"/Users/ben/miniforge3/lib/python3.10/site-packages/joblib/parallel.py\", line 288, in <listcomp>\n",
      "    return [func(*args, **kwargs)\n",
      "  File \"/Users/ben/miniforge3/lib/python3.10/site-packages/sklearn/utils/parallel.py\", line 127, in __call__\n",
      "    return self.function(*args, **kwargs)\n",
      "  File \"/Users/ben/miniforge3/lib/python3.10/site-packages/sklearn/multioutput.py\", line 60, in _fit_estimator\n",
      "    estimator.fit(X, y, **fit_params)\n",
      "  File \"/Users/ben/miniforge3/lib/python3.10/site-packages/sklearn/base.py\", line 1144, in wrapper\n",
      "    estimator._validate_params()\n",
      "  File \"/Users/ben/miniforge3/lib/python3.10/site-packages/sklearn/base.py\", line 637, in _validate_params\n",
      "    validate_parameter_constraints(\n",
      "  File \"/Users/ben/miniforge3/lib/python3.10/site-packages/sklearn/utils/_param_validation.py\", line 95, in validate_parameter_constraints\n",
      "    raise InvalidParameterError(\n",
      "sklearn.utils._param_validation.InvalidParameterError: The 'max_features' parameter of RandomForestRegressor must be an int in the range [1, inf), a float in the range (0.0, 1.0], a str among {'log2', 'sqrt'} or None. Got 'auto' instead.\n",
      "\n",
      "--------------------------------------------------------------------------------\n",
      "149 fits failed with the following error:\n",
      "Traceback (most recent call last):\n",
      "  File \"/Users/ben/miniforge3/lib/python3.10/site-packages/sklearn/model_selection/_validation.py\", line 732, in _fit_and_score\n",
      "    estimator.fit(X_train, y_train, **fit_params)\n",
      "  File \"/Users/ben/miniforge3/lib/python3.10/site-packages/sklearn/base.py\", line 1151, in wrapper\n",
      "    return fit_method(estimator, *args, **kwargs)\n",
      "  File \"/Users/ben/miniforge3/lib/python3.10/site-packages/sklearn/multioutput.py\", line 273, in fit\n",
      "    self.estimators_ = Parallel(n_jobs=self.n_jobs)(\n",
      "  File \"/Users/ben/miniforge3/lib/python3.10/site-packages/sklearn/utils/parallel.py\", line 65, in __call__\n",
      "    return super().__call__(iterable_with_config)\n",
      "  File \"/Users/ben/miniforge3/lib/python3.10/site-packages/joblib/parallel.py\", line 1085, in __call__\n",
      "    if self.dispatch_one_batch(iterator):\n",
      "  File \"/Users/ben/miniforge3/lib/python3.10/site-packages/joblib/parallel.py\", line 901, in dispatch_one_batch\n",
      "    self._dispatch(tasks)\n",
      "  File \"/Users/ben/miniforge3/lib/python3.10/site-packages/joblib/parallel.py\", line 819, in _dispatch\n",
      "    job = self._backend.apply_async(batch, callback=cb)\n",
      "  File \"/Users/ben/miniforge3/lib/python3.10/site-packages/joblib/_parallel_backends.py\", line 208, in apply_async\n",
      "    result = ImmediateResult(func)\n",
      "  File \"/Users/ben/miniforge3/lib/python3.10/site-packages/joblib/_parallel_backends.py\", line 597, in __init__\n",
      "    self.results = batch()\n",
      "  File \"/Users/ben/miniforge3/lib/python3.10/site-packages/joblib/parallel.py\", line 288, in __call__\n",
      "    return [func(*args, **kwargs)\n",
      "  File \"/Users/ben/miniforge3/lib/python3.10/site-packages/joblib/parallel.py\", line 288, in <listcomp>\n",
      "    return [func(*args, **kwargs)\n",
      "  File \"/Users/ben/miniforge3/lib/python3.10/site-packages/sklearn/utils/parallel.py\", line 127, in __call__\n",
      "    return self.function(*args, **kwargs)\n",
      "  File \"/Users/ben/miniforge3/lib/python3.10/site-packages/sklearn/multioutput.py\", line 60, in _fit_estimator\n",
      "    estimator.fit(X, y, **fit_params)\n",
      "  File \"/Users/ben/miniforge3/lib/python3.10/site-packages/sklearn/base.py\", line 1144, in wrapper\n",
      "    estimator._validate_params()\n",
      "  File \"/Users/ben/miniforge3/lib/python3.10/site-packages/sklearn/base.py\", line 637, in _validate_params\n",
      "    validate_parameter_constraints(\n",
      "  File \"/Users/ben/miniforge3/lib/python3.10/site-packages/sklearn/utils/_param_validation.py\", line 95, in validate_parameter_constraints\n",
      "    raise InvalidParameterError(\n",
      "sklearn.utils._param_validation.InvalidParameterError: The 'max_features' parameter of RandomForestRegressor must be an int in the range [1, inf), a float in the range (0.0, 1.0], a str among {'sqrt', 'log2'} or None. Got 'auto' instead.\n",
      "\n",
      "--------------------------------------------------------------------------------\n",
      "160 fits failed with the following error:\n",
      "Traceback (most recent call last):\n",
      "  File \"/Users/ben/miniforge3/lib/python3.10/site-packages/sklearn/model_selection/_validation.py\", line 732, in _fit_and_score\n",
      "    estimator.fit(X_train, y_train, **fit_params)\n",
      "  File \"/Users/ben/miniforge3/lib/python3.10/site-packages/sklearn/base.py\", line 1151, in wrapper\n",
      "    return fit_method(estimator, *args, **kwargs)\n",
      "  File \"/Users/ben/miniforge3/lib/python3.10/site-packages/sklearn/multioutput.py\", line 273, in fit\n",
      "    self.estimators_ = Parallel(n_jobs=self.n_jobs)(\n",
      "  File \"/Users/ben/miniforge3/lib/python3.10/site-packages/sklearn/utils/parallel.py\", line 65, in __call__\n",
      "    return super().__call__(iterable_with_config)\n",
      "  File \"/Users/ben/miniforge3/lib/python3.10/site-packages/joblib/parallel.py\", line 1085, in __call__\n",
      "    if self.dispatch_one_batch(iterator):\n",
      "  File \"/Users/ben/miniforge3/lib/python3.10/site-packages/joblib/parallel.py\", line 901, in dispatch_one_batch\n",
      "    self._dispatch(tasks)\n",
      "  File \"/Users/ben/miniforge3/lib/python3.10/site-packages/joblib/parallel.py\", line 819, in _dispatch\n",
      "    job = self._backend.apply_async(batch, callback=cb)\n",
      "  File \"/Users/ben/miniforge3/lib/python3.10/site-packages/joblib/_parallel_backends.py\", line 208, in apply_async\n",
      "    result = ImmediateResult(func)\n",
      "  File \"/Users/ben/miniforge3/lib/python3.10/site-packages/joblib/_parallel_backends.py\", line 597, in __init__\n",
      "    self.results = batch()\n",
      "  File \"/Users/ben/miniforge3/lib/python3.10/site-packages/joblib/parallel.py\", line 288, in __call__\n",
      "    return [func(*args, **kwargs)\n",
      "  File \"/Users/ben/miniforge3/lib/python3.10/site-packages/joblib/parallel.py\", line 288, in <listcomp>\n",
      "    return [func(*args, **kwargs)\n",
      "  File \"/Users/ben/miniforge3/lib/python3.10/site-packages/sklearn/utils/parallel.py\", line 127, in __call__\n",
      "    return self.function(*args, **kwargs)\n",
      "  File \"/Users/ben/miniforge3/lib/python3.10/site-packages/sklearn/multioutput.py\", line 60, in _fit_estimator\n",
      "    estimator.fit(X, y, **fit_params)\n",
      "  File \"/Users/ben/miniforge3/lib/python3.10/site-packages/sklearn/base.py\", line 1144, in wrapper\n",
      "    estimator._validate_params()\n",
      "  File \"/Users/ben/miniforge3/lib/python3.10/site-packages/sklearn/base.py\", line 637, in _validate_params\n",
      "    validate_parameter_constraints(\n",
      "  File \"/Users/ben/miniforge3/lib/python3.10/site-packages/sklearn/utils/_param_validation.py\", line 95, in validate_parameter_constraints\n",
      "    raise InvalidParameterError(\n",
      "sklearn.utils._param_validation.InvalidParameterError: The 'min_samples_split' parameter of RandomForestRegressor must be an int in the range [2, inf) or a float in the range (0.0, 1.0]. Got 1 instead.\n",
      "\n",
      "  warnings.warn(some_fits_failed_message, FitFailedWarning)\n",
      "/Users/ben/miniforge3/lib/python3.10/site-packages/sklearn/model_selection/_search.py:976: UserWarning: One or more of the test scores are non-finite: [        nan         nan         nan         nan         nan         nan\n",
      "         nan         nan         nan         nan         nan         nan\n",
      "         nan         nan         nan         nan         nan         nan\n",
      "         nan         nan         nan         nan         nan         nan\n",
      "         nan         nan         nan         nan -0.03624038 -0.03101812\n",
      " -0.02890045 -0.02664569 -0.04011314 -0.03451684 -0.03240927 -0.02869781\n",
      "         nan         nan         nan         nan -0.04273077 -0.03584592\n",
      " -0.03460959 -0.03066124 -0.04137431 -0.03470604 -0.033816   -0.03025963\n",
      "         nan         nan         nan         nan         nan         nan\n",
      "         nan         nan         nan         nan         nan         nan\n",
      "         nan         nan         nan         nan         nan         nan\n",
      "         nan         nan         nan         nan         nan         nan\n",
      "         nan         nan         nan         nan -0.82935785 -0.79713597\n",
      " -0.79807471 -0.72116705 -0.82935785 -0.79713597 -0.79807471 -0.72116705\n",
      "         nan         nan         nan         nan -0.82935785 -0.79713597\n",
      " -0.79807471 -0.72116705 -0.82935785 -0.79713597 -0.79807471 -0.72116705\n",
      "         nan         nan         nan         nan         nan         nan\n",
      "         nan         nan         nan         nan         nan         nan\n",
      "         nan         nan         nan         nan         nan         nan\n",
      "         nan         nan         nan         nan         nan         nan\n",
      "         nan         nan         nan         nan -0.36412212 -0.39238023\n",
      " -0.45995607 -0.41465524 -0.36412212 -0.39238023 -0.45995607 -0.41465524\n",
      "         nan         nan         nan         nan -0.36412212 -0.39238023\n",
      " -0.45995607 -0.41465524 -0.36412212 -0.39238023 -0.45995607 -0.41465524\n",
      "         nan         nan         nan         nan         nan         nan\n",
      "         nan         nan         nan         nan         nan         nan\n",
      "         nan         nan         nan         nan         nan         nan\n",
      "         nan         nan         nan         nan         nan         nan\n",
      "         nan         nan         nan         nan -0.17740671 -0.14959666\n",
      " -0.14904586 -0.13365285 -0.18540178 -0.1492921  -0.1496137  -0.13468996\n",
      "         nan         nan         nan         nan -0.18175503 -0.14816758\n",
      " -0.14783801 -0.13318207 -0.18532643 -0.14888741 -0.1487525  -0.13414189]\n",
      "  warnings.warn(\n"
     ]
    },
    {
     "name": "stdout",
     "output_type": "stream",
     "text": [
      "Best Hyperparameters: {'estimator__max_depth': None, 'estimator__max_features': 'sqrt', 'estimator__min_samples_leaf': 1, 'estimator__min_samples_split': 2, 'estimator__n_estimators': 100}\n",
      "R-squared score for Electricity from fossil fuels (TWh): 0.9869769812968648 \n",
      "\n",
      "Mean Squared Error for Electricity from fossil fuels (TWh): 0.09089979737737046\n",
      " \n",
      "R-squared score for Electricity from nuclear (TWh): 0.9895124063442164 \n",
      "\n",
      "Mean Squared Error for Electricity from nuclear (TWh): 0.005000834089700572\n",
      " \n",
      "R-squared score for Electricity from renewables (TWh): 0.9042215097433823 \n",
      "\n",
      "Mean Squared Error for Electricity from renewables (TWh): 0.0014756698285527663\n",
      " \n",
      "R-squared score for Low-carbon electricity (% electricity): 0.9880154795394802 \n",
      "\n",
      "Mean Squared Error for Low-carbon electricity (% electricity): 5.4991267764528375e-06\n",
      " \n",
      "The train score for the best RandomForest model is 0.9948940603045757\n",
      "The test score for the best RandomForest model is 0.967181594230986\n"
     ]
    }
   ],
   "source": [
    "# Create a RandomForestRegressor model with MultiOutputRegressor\n",
    "rf = MultiOutputRegressor(RandomForestRegressor(random_state=42))\n",
    "\n",
    "# Define the parameter grid to search\n",
    "param_grid = {\n",
    "    'estimator__n_estimators': [10, 25, 50, 100],\n",
    "    'estimator__max_depth': [None, 1, 2, 5],\n",
    "    'estimator__min_samples_split': [1, 2, 5],\n",
    "    'estimator__min_samples_leaf': [1, 2],\n",
    "    'estimator__max_features': ['auto', 'sqrt']\n",
    "}\n",
    "\n",
    "# Create the GridSearchCV object\n",
    "grid_search_rf = GridSearchCV(rf, param_grid, cv=5, scoring='neg_mean_squared_error', n_jobs=-1)\n",
    "\n",
    "# Fit the grid search to the data\n",
    "grid_search_rf.fit(X_train_sc, y_train)\n",
    "\n",
    "# Get the best parameters\n",
    "best_params_rf = grid_search_rf.best_params_\n",
    "print(\"Best Hyperparameters:\", best_params_rf)\n",
    "\n",
    "# Use the best model for predictions\n",
    "best_rf = grid_search_rf.best_estimator_\n",
    "predictions_rf = best_rf.predict(X_test_sc)\n",
    "\n",
    "# Calculate and display scores for each variable\n",
    "scores_r2_rf = [r2_score(y_test.iloc[:, i], predictions_rf[:, i]) for i in range(len(y_features))]\n",
    "scores_mse_rf = [mean_squared_error(y_test.iloc[:, i], predictions_rf[:, i]) for i in range(len(y_features))]\n",
    "\n",
    "# Display scores for each variable\n",
    "for i, feature in enumerate(y_features):\n",
    "    print(f\"R-squared score for {feature}: {scores_r2_rf[i]} \\n\")\n",
    "    print(f\"Mean Squared Error for {feature}: {scores_mse_rf[i]}\\n \")\n",
    "\n",
    "# Display overall scores\n",
    "train_score_rf = best_rf.score(X_train_sc, y_train)\n",
    "test_score_rf = best_rf.score(X_test_sc, y_test)\n",
    "print(\"The train score for the best RandomForest model is {}\".format(train_score_rf))\n",
    "print(\"The test score for the best RandomForest model is {}\".format(test_score_rf))"
   ]
  },
  {
   "cell_type": "markdown",
   "id": "565eba6a-236f-44ef-9afa-9e14abe92ab6",
   "metadata": {},
   "source": [
    "#### ADA Boost"
   ]
  },
  {
   "cell_type": "code",
   "execution_count": 100,
   "id": "54b43729-8582-49eb-9f3f-38ab5714bd3c",
   "metadata": {},
   "outputs": [
    {
     "name": "stdout",
     "output_type": "stream",
     "text": [
      "Best Hyperparameters: {'estimator__learning_rate': 1.0, 'estimator__loss': 'exponential', 'estimator__n_estimators': 50}\n",
      "R-squared score for Electricity from fossil fuels (TWh): 0.9938006939521971 \n",
      "\n",
      "Mean Squared Error for Electricity from fossil fuels (TWh): 0.04327074056109046\n",
      " \n",
      "R-squared score for Electricity from nuclear (TWh): 0.9964139387040841 \n",
      "\n",
      "Mean Squared Error for Electricity from nuclear (TWh): 0.0017099535093526867\n",
      " \n",
      "R-squared score for Electricity from renewables (TWh): 0.9054122865882823 \n",
      "\n",
      "Mean Squared Error for Electricity from renewables (TWh): 0.0014573233975550526\n",
      " \n",
      "R-squared score for Low-carbon electricity (% electricity): 0.9952593880016455 \n",
      "\n",
      "Mean Squared Error for Low-carbon electricity (% electricity): 2.1752415094791734e-06\n",
      " \n",
      "The train score for the best AdaBoostRegressor model is 0.9717907526804168\n",
      "The test score for the best AdaBoostRegressor model is 0.9727215768115521\n"
     ]
    }
   ],
   "source": [
    "# Create an AdaBoostRegressor model with MultiOutputRegressor\n",
    "abr = MultiOutputRegressor(AdaBoostRegressor(random_state=42))\n",
    "\n",
    "# Define the parameter grid to search\n",
    "param_grid = {\n",
    "    'estimator__n_estimators': [50, 100, 200],\n",
    "    'estimator__learning_rate': [0.001, 0.01, 0.1, 1.0],\n",
    "    'estimator__loss': ['linear', 'square', 'exponential']\n",
    "}\n",
    "\n",
    "# Create the GridSearchCV object\n",
    "grid_search_abr = GridSearchCV(abr, param_grid, cv=3, scoring='neg_mean_squared_error', n_jobs=-1)\n",
    "\n",
    "# Fit the grid search to the data\n",
    "grid_search_abr.fit(X_train_sc, y_train)\n",
    "\n",
    "# Get the best parameters\n",
    "best_params_abr = grid_search_abr.best_params_\n",
    "print(\"Best Hyperparameters:\", best_params_abr)\n",
    "\n",
    "# Use the best model for predictions\n",
    "best_abr = grid_search_abr.best_estimator_\n",
    "predictions_abr = best_abr.predict(X_test_sc)\n",
    "\n",
    "# Calculate and display scores for each variable\n",
    "scores_r2_abr = [r2_score(y_test.iloc[:, i], predictions_abr[:, i]) for i in range(len(y_features))]\n",
    "scores_mse_abr = [mean_squared_error(y_test.iloc[:, i], predictions_abr[:, i]) for i in range(len(y_features))]\n",
    "\n",
    "# Display scores for each variable\n",
    "for i, feature in enumerate(y_features):\n",
    "    print(f\"R-squared score for {feature}: {scores_r2_abr[i]} \\n\")\n",
    "    print(f\"Mean Squared Error for {feature}: {scores_mse_abr[i]}\\n \")\n",
    "\n",
    "# Display overall scores\n",
    "train_score_abr = best_abr.score(X_train_sc, y_train)\n",
    "test_score_abr = best_abr.score(X_test_sc, y_test)\n",
    "print(\"The train score for the best AdaBoostRegressor model is {}\".format(train_score_abr))\n",
    "print(\"The test score for the best AdaBoostRegressor model is {}\".format(test_score_abr))"
   ]
  },
  {
   "cell_type": "markdown",
   "id": "4727a856-a656-43de-ab94-e2e66df02df8",
   "metadata": {},
   "source": [
    "#### Support Vector Machine"
   ]
  },
  {
   "cell_type": "code",
   "execution_count": 103,
   "id": "c468e476-8f84-4992-af62-66d2334aa49c",
   "metadata": {},
   "outputs": [
    {
     "name": "stdout",
     "output_type": "stream",
     "text": [
      "Best Hyperparameters: {'estimator__C': 10, 'estimator__degree': 2, 'estimator__epsilon': 0.1, 'estimator__kernel': 'rbf'}\n",
      "R-squared score for Electricity from fossil fuels (TWh): 0.962802516717281 \n",
      "\n",
      "Mean Squared Error for Electricity from fossil fuels (TWh): 0.25963593928750794\n",
      " \n",
      "R-squared score for Electricity from nuclear (TWh): 0.9612455926001813 \n",
      "\n",
      "Mean Squared Error for Electricity from nuclear (TWh): 0.018479392700753744\n",
      " \n",
      "R-squared score for Electricity from renewables (TWh): 0.3359602468765217 \n",
      "\n",
      "Mean Squared Error for Electricity from renewables (TWh): 0.010230934169232627\n",
      " \n",
      "R-squared score for Low-carbon electricity (% electricity): -0.21643205076663707 \n",
      "\n",
      "Mean Squared Error for Low-carbon electricity (% electricity): 0.0005581628471612727\n",
      " \n",
      "The train score for the best SVR model is 0.5688587174354891\n",
      "The test score for the best SVR model is 0.5108940763568366\n"
     ]
    }
   ],
   "source": [
    "# Create an SVR model with MultiOutputRegressor\n",
    "svr = MultiOutputRegressor(SVR())\n",
    "\n",
    "# Define the parameter grid to search\n",
    "param_grid = {\n",
    "    'estimator__C': [0.001, 0.01, 0.1, 1, 10],\n",
    "    'estimator__kernel': ['linear', 'rbf', 'poly'],\n",
    "    'estimator__degree': [2, 3],\n",
    "    'estimator__epsilon': [0.1, 0.2, 0.5]\n",
    "}\n",
    "\n",
    "# Create the GridSearchCV object\n",
    "grid_search_svr = GridSearchCV(svr, param_grid, cv=3, scoring='neg_mean_squared_error', n_jobs=-1)\n",
    "\n",
    "# Fit the grid search to the data\n",
    "grid_search_svr.fit(X_train_sc, y_train)\n",
    "\n",
    "# Get the best parameters\n",
    "best_params_svr = grid_search_svr.best_params_\n",
    "print(\"Best Hyperparameters:\", best_params_svr)\n",
    "\n",
    "# Use the best model for predictions\n",
    "best_svr = grid_search_svr.best_estimator_\n",
    "predictions_svr = best_svr.predict(X_test_sc)\n",
    "\n",
    "# Calculate and display scores for each variable\n",
    "scores_r2_svr = [r2_score(y_test.iloc[:, i], predictions_svr[:, i]) for i in range(len(y_features))]\n",
    "scores_mse_svr = [mean_squared_error(y_test.iloc[:, i], predictions_svr[:, i]) for i in range(len(y_features))]\n",
    "\n",
    "# Display scores for each variable\n",
    "for i, feature in enumerate(y_features):\n",
    "    print(f\"R-squared score for {feature}: {scores_r2_svr[i]} \\n\")\n",
    "    print(f\"Mean Squared Error for {feature}: {scores_mse_svr[i]}\\n \")\n",
    "\n",
    "# Display overall scores\n",
    "train_score_svr = best_svr.score(X_train_sc, y_train)\n",
    "test_score_svr = best_svr.score(X_test_sc, y_test)\n",
    "print(\"The train score for the best SVR model is {}\".format(train_score_svr))\n",
    "print(\"The test score for the best SVR model is {}\".format(test_score_svr))"
   ]
  },
  {
   "cell_type": "code",
   "execution_count": null,
   "id": "2712472b-cd67-4b3d-bcf3-32bf861a3ccf",
   "metadata": {},
   "outputs": [],
   "source": []
  },
  {
   "cell_type": "code",
   "execution_count": null,
   "id": "e8d8cb8d-5505-4d65-8d14-9201870f55dc",
   "metadata": {},
   "outputs": [],
   "source": []
  },
  {
   "cell_type": "code",
   "execution_count": null,
   "id": "81dcd892-23bc-4fc5-b2bf-bad3441d5e3f",
   "metadata": {},
   "outputs": [],
   "source": []
  },
  {
   "cell_type": "code",
   "execution_count": null,
   "id": "dce3787a-f202-4e94-90d3-172649392473",
   "metadata": {},
   "outputs": [],
   "source": []
  }
 ],
 "metadata": {
  "kernelspec": {
   "display_name": "Python 3 (ipykernel)",
   "language": "python",
   "name": "python3"
  },
  "language_info": {
   "codemirror_mode": {
    "name": "ipython",
    "version": 3
   },
   "file_extension": ".py",
   "mimetype": "text/x-python",
   "name": "python",
   "nbconvert_exporter": "python",
   "pygments_lexer": "ipython3",
   "version": "3.10.13"
  }
 },
 "nbformat": 4,
 "nbformat_minor": 5
}
