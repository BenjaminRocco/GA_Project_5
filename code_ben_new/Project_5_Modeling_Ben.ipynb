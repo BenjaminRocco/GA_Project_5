{
 "cells": [
  {
   "cell_type": "markdown",
   "id": "63d0a08c-1085-423c-aad7-0235528bc912",
   "metadata": {},
   "source": [
    "## Import Libaries and Packages"
   ]
  },
  {
   "cell_type": "code",
   "execution_count": 231,
   "id": "507b0264-af29-4392-bde4-e6af34c556d0",
   "metadata": {},
   "outputs": [],
   "source": [
    "import math\n",
    "import pandas as pd\n",
    "import numpy as np\n",
    "import matplotlib.pyplot as plt\n",
    "from sklearn.model_selection import train_test_split, GridSearchCV, cross_val_score\n",
    "from sklearn.svm import SVR\n",
    "from imblearn.over_sampling import RandomOverSampler\n",
    "from sklearn.ensemble import BaggingRegressor, RandomForestRegressor\n",
    "from sklearn.neighbors import KNeighborsRegressor\n",
    "from sklearn.linear_model import LinearRegression, Ridge, RidgeCV, Lasso, LassoCV, ElasticNet\n",
    "from sklearn.preprocessing import PolynomialFeatures, StandardScaler\n",
    "from sklearn.metrics import mean_absolute_error, mean_squared_error, r2_score\n",
    "from sklearn.ensemble import AdaBoostRegressor\n",
    "from sklearn.tree import DecisionTreeRegressor\n",
    "from sklearn.pipeline import Pipeline, FeatureUnion, make_pipeline\n",
    "from sklearn.multioutput import MultiOutputRegressor\n",
    "from sklearn.feature_selection import SelectKBest, f_regression\n",
    "\n",
    "import warnings\n",
    "warnings.simplefilter(action='ignore', category=FutureWarning);"
   ]
  },
  {
   "cell_type": "code",
   "execution_count": 232,
   "id": "686cde72-4f6f-4ec4-867b-a4c9260accba",
   "metadata": {},
   "outputs": [],
   "source": [
    "df = pd.read_csv('/Users/ben/Desktop/DSI_GA_Materials/project_5/data/Energy_CO2_1970to2021.csv')"
   ]
  },
  {
   "cell_type": "code",
   "execution_count": 233,
   "id": "9e7f62f8-b8c6-4df4-a13c-6760eadbda40",
   "metadata": {},
   "outputs": [],
   "source": [
    "df.set_index('Year', inplace=True)"
   ]
  },
  {
   "cell_type": "code",
   "execution_count": 234,
   "id": "77a7bfa6-5b1e-457f-a4cf-285316c14fa1",
   "metadata": {},
   "outputs": [
    {
     "data": {
      "text/html": [
       "<div>\n",
       "<style scoped>\n",
       "    .dataframe tbody tr th:only-of-type {\n",
       "        vertical-align: middle;\n",
       "    }\n",
       "\n",
       "    .dataframe tbody tr th {\n",
       "        vertical-align: top;\n",
       "    }\n",
       "\n",
       "    .dataframe thead th {\n",
       "        text-align: right;\n",
       "    }\n",
       "</style>\n",
       "<table border=\"1\" class=\"dataframe\">\n",
       "  <thead>\n",
       "    <tr style=\"text-align: right;\">\n",
       "      <th></th>\n",
       "      <th>State</th>\n",
       "      <th>CO2_Value</th>\n",
       "      <th>Coal_Value</th>\n",
       "      <th>Natural_Gas_Value</th>\n",
       "      <th>Nuclear_Energy_Value</th>\n",
       "      <th>Petroleum_Energy_Value</th>\n",
       "      <th>Renewable_Energy_Value</th>\n",
       "    </tr>\n",
       "    <tr>\n",
       "      <th>Year</th>\n",
       "      <th></th>\n",
       "      <th></th>\n",
       "      <th></th>\n",
       "      <th></th>\n",
       "      <th></th>\n",
       "      <th></th>\n",
       "      <th></th>\n",
       "    </tr>\n",
       "  </thead>\n",
       "  <tbody>\n",
       "    <tr>\n",
       "      <th>1970</th>\n",
       "      <td>Alabama</td>\n",
       "      <td>29.7</td>\n",
       "      <td>675,603</td>\n",
       "      <td>307,750</td>\n",
       "      <td>0</td>\n",
       "      <td>352,050</td>\n",
       "      <td>132,471</td>\n",
       "    </tr>\n",
       "    <tr>\n",
       "      <th>1970</th>\n",
       "      <td>Alaska</td>\n",
       "      <td>37.3</td>\n",
       "      <td>13,159</td>\n",
       "      <td>64,045</td>\n",
       "      <td>0</td>\n",
       "      <td>95,999</td>\n",
       "      <td>8,835</td>\n",
       "    </tr>\n",
       "    <tr>\n",
       "      <th>1970</th>\n",
       "      <td>Arizona</td>\n",
       "      <td>13.9</td>\n",
       "      <td>8,623</td>\n",
       "      <td>204,383</td>\n",
       "      <td>0</td>\n",
       "      <td>213,298</td>\n",
       "      <td>68,919</td>\n",
       "    </tr>\n",
       "    <tr>\n",
       "      <th>1970</th>\n",
       "      <td>Arkansas</td>\n",
       "      <td>18.7</td>\n",
       "      <td>0</td>\n",
       "      <td>383,478</td>\n",
       "      <td>0</td>\n",
       "      <td>246,630</td>\n",
       "      <td>56,933</td>\n",
       "    </tr>\n",
       "    <tr>\n",
       "      <th>1970</th>\n",
       "      <td>California</td>\n",
       "      <td>14.7</td>\n",
       "      <td>61,812</td>\n",
       "      <td>2,241,295</td>\n",
       "      <td>34,375</td>\n",
       "      <td>2,502,535</td>\n",
       "      <td>521,978</td>\n",
       "    </tr>\n",
       "    <tr>\n",
       "      <th>...</th>\n",
       "      <td>...</td>\n",
       "      <td>...</td>\n",
       "      <td>...</td>\n",
       "      <td>...</td>\n",
       "      <td>...</td>\n",
       "      <td>...</td>\n",
       "      <td>...</td>\n",
       "    </tr>\n",
       "    <tr>\n",
       "      <th>2021</th>\n",
       "      <td>Virginia</td>\n",
       "      <td>11.3</td>\n",
       "      <td>68,603</td>\n",
       "      <td>699,927</td>\n",
       "      <td>298,458</td>\n",
       "      <td>789,358</td>\n",
       "      <td>189,262</td>\n",
       "    </tr>\n",
       "    <tr>\n",
       "      <th>2021</th>\n",
       "      <td>Washington</td>\n",
       "      <td>9.5</td>\n",
       "      <td>36,943</td>\n",
       "      <td>382,807</td>\n",
       "      <td>88,909</td>\n",
       "      <td>712,349</td>\n",
       "      <td>850,547</td>\n",
       "    </tr>\n",
       "    <tr>\n",
       "      <th>2021</th>\n",
       "      <td>West Virginia</td>\n",
       "      <td>49.5</td>\n",
       "      <td>633,582</td>\n",
       "      <td>279,133</td>\n",
       "      <td>0</td>\n",
       "      <td>205,121</td>\n",
       "      <td>48,756</td>\n",
       "    </tr>\n",
       "    <tr>\n",
       "      <th>2021</th>\n",
       "      <td>Wisconsin</td>\n",
       "      <td>15.7</td>\n",
       "      <td>286,760</td>\n",
       "      <td>559,535</td>\n",
       "      <td>104,149</td>\n",
       "      <td>533,212</td>\n",
       "      <td>178,716</td>\n",
       "    </tr>\n",
       "    <tr>\n",
       "      <th>2021</th>\n",
       "      <td>Wyoming</td>\n",
       "      <td>94.3</td>\n",
       "      <td>376,971</td>\n",
       "      <td>161,354</td>\n",
       "      <td>0</td>\n",
       "      <td>146,812</td>\n",
       "      <td>91,943</td>\n",
       "    </tr>\n",
       "  </tbody>\n",
       "</table>\n",
       "<p>2652 rows × 7 columns</p>\n",
       "</div>"
      ],
      "text/plain": [
       "              State  CO2_Value Coal_Value Natural_Gas_Value  \\\n",
       "Year                                                          \n",
       "1970        Alabama       29.7    675,603           307,750   \n",
       "1970         Alaska       37.3     13,159            64,045   \n",
       "1970        Arizona       13.9      8,623           204,383   \n",
       "1970       Arkansas       18.7          0           383,478   \n",
       "1970     California       14.7     61,812         2,241,295   \n",
       "...             ...        ...        ...               ...   \n",
       "2021       Virginia       11.3     68,603           699,927   \n",
       "2021     Washington        9.5     36,943           382,807   \n",
       "2021  West Virginia       49.5    633,582           279,133   \n",
       "2021      Wisconsin       15.7    286,760           559,535   \n",
       "2021        Wyoming       94.3    376,971           161,354   \n",
       "\n",
       "     Nuclear_Energy_Value Petroleum_Energy_Value Renewable_Energy_Value  \n",
       "Year                                                                     \n",
       "1970                    0                352,050                132,471  \n",
       "1970                    0                 95,999                  8,835  \n",
       "1970                    0                213,298                 68,919  \n",
       "1970                    0                246,630                 56,933  \n",
       "1970               34,375              2,502,535                521,978  \n",
       "...                   ...                    ...                    ...  \n",
       "2021              298,458                789,358                189,262  \n",
       "2021               88,909                712,349                850,547  \n",
       "2021                    0                205,121                 48,756  \n",
       "2021              104,149                533,212                178,716  \n",
       "2021                    0                146,812                 91,943  \n",
       "\n",
       "[2652 rows x 7 columns]"
      ]
     },
     "execution_count": 234,
     "metadata": {},
     "output_type": "execute_result"
    }
   ],
   "source": [
    "df"
   ]
  },
  {
   "cell_type": "code",
   "execution_count": 235,
   "id": "e97d2a4c-1b20-4b36-a700-b285ac3097cb",
   "metadata": {},
   "outputs": [
    {
     "data": {
      "text/plain": [
       "State                      object\n",
       "CO2_Value                 float64\n",
       "Coal_Value                 object\n",
       "Natural_Gas_Value          object\n",
       "Nuclear_Energy_Value       object\n",
       "Petroleum_Energy_Value     object\n",
       "Renewable_Energy_Value     object\n",
       "dtype: object"
      ]
     },
     "execution_count": 235,
     "metadata": {},
     "output_type": "execute_result"
    }
   ],
   "source": [
    "df.dtypes"
   ]
  },
  {
   "cell_type": "code",
   "execution_count": 236,
   "id": "b4166475-87b7-4599-bffa-ac472332af01",
   "metadata": {},
   "outputs": [],
   "source": [
    "def comma_drop(int_str):\n",
    "    try:\n",
    "        # Remove the ',' from string and convert to float\n",
    "        comma_drop_value = float(str(int_str).replace(',',''))\n",
    "\n",
    "        return comma_drop_value\n",
    "\n",
    "    except ValueError:\n",
    "        # Handle the case where the input is not a valid number with '%' symbol\n",
    "        print(\"Error: Invalid input. Please provide a valid integer string.\")\n",
    "        return None"
   ]
  },
  {
   "cell_type": "code",
   "execution_count": 237,
   "id": "9ef4556b-3a62-4657-a363-dbfd520c93c7",
   "metadata": {},
   "outputs": [],
   "source": [
    "df.iloc[0:2653, 2:7] = df.iloc[0:2653, 2:7].map(comma_drop)\n"
   ]
  },
  {
   "cell_type": "code",
   "execution_count": 238,
   "id": "5166e5d3-c565-4dad-9803-9bf00ec5dd35",
   "metadata": {},
   "outputs": [
    {
     "data": {
      "text/html": [
       "<div>\n",
       "<style scoped>\n",
       "    .dataframe tbody tr th:only-of-type {\n",
       "        vertical-align: middle;\n",
       "    }\n",
       "\n",
       "    .dataframe tbody tr th {\n",
       "        vertical-align: top;\n",
       "    }\n",
       "\n",
       "    .dataframe thead th {\n",
       "        text-align: right;\n",
       "    }\n",
       "</style>\n",
       "<table border=\"1\" class=\"dataframe\">\n",
       "  <thead>\n",
       "    <tr style=\"text-align: right;\">\n",
       "      <th></th>\n",
       "      <th>State</th>\n",
       "      <th>CO2_Value</th>\n",
       "      <th>Coal_Value</th>\n",
       "      <th>Natural_Gas_Value</th>\n",
       "      <th>Nuclear_Energy_Value</th>\n",
       "      <th>Petroleum_Energy_Value</th>\n",
       "      <th>Renewable_Energy_Value</th>\n",
       "    </tr>\n",
       "    <tr>\n",
       "      <th>Year</th>\n",
       "      <th></th>\n",
       "      <th></th>\n",
       "      <th></th>\n",
       "      <th></th>\n",
       "      <th></th>\n",
       "      <th></th>\n",
       "      <th></th>\n",
       "    </tr>\n",
       "  </thead>\n",
       "  <tbody>\n",
       "    <tr>\n",
       "      <th>1970</th>\n",
       "      <td>Alabama</td>\n",
       "      <td>29.7</td>\n",
       "      <td>675603.0</td>\n",
       "      <td>307750.0</td>\n",
       "      <td>0.0</td>\n",
       "      <td>352050.0</td>\n",
       "      <td>132471.0</td>\n",
       "    </tr>\n",
       "    <tr>\n",
       "      <th>1970</th>\n",
       "      <td>Alaska</td>\n",
       "      <td>37.3</td>\n",
       "      <td>13159.0</td>\n",
       "      <td>64045.0</td>\n",
       "      <td>0.0</td>\n",
       "      <td>95999.0</td>\n",
       "      <td>8835.0</td>\n",
       "    </tr>\n",
       "    <tr>\n",
       "      <th>1970</th>\n",
       "      <td>Arizona</td>\n",
       "      <td>13.9</td>\n",
       "      <td>8623.0</td>\n",
       "      <td>204383.0</td>\n",
       "      <td>0.0</td>\n",
       "      <td>213298.0</td>\n",
       "      <td>68919.0</td>\n",
       "    </tr>\n",
       "    <tr>\n",
       "      <th>1970</th>\n",
       "      <td>Arkansas</td>\n",
       "      <td>18.7</td>\n",
       "      <td>0.0</td>\n",
       "      <td>383478.0</td>\n",
       "      <td>0.0</td>\n",
       "      <td>246630.0</td>\n",
       "      <td>56933.0</td>\n",
       "    </tr>\n",
       "    <tr>\n",
       "      <th>1970</th>\n",
       "      <td>California</td>\n",
       "      <td>14.7</td>\n",
       "      <td>61812.0</td>\n",
       "      <td>2241295.0</td>\n",
       "      <td>34375.0</td>\n",
       "      <td>2502535.0</td>\n",
       "      <td>521978.0</td>\n",
       "    </tr>\n",
       "    <tr>\n",
       "      <th>...</th>\n",
       "      <td>...</td>\n",
       "      <td>...</td>\n",
       "      <td>...</td>\n",
       "      <td>...</td>\n",
       "      <td>...</td>\n",
       "      <td>...</td>\n",
       "      <td>...</td>\n",
       "    </tr>\n",
       "    <tr>\n",
       "      <th>2021</th>\n",
       "      <td>Virginia</td>\n",
       "      <td>11.3</td>\n",
       "      <td>68603.0</td>\n",
       "      <td>699927.0</td>\n",
       "      <td>298458.0</td>\n",
       "      <td>789358.0</td>\n",
       "      <td>189262.0</td>\n",
       "    </tr>\n",
       "    <tr>\n",
       "      <th>2021</th>\n",
       "      <td>Washington</td>\n",
       "      <td>9.5</td>\n",
       "      <td>36943.0</td>\n",
       "      <td>382807.0</td>\n",
       "      <td>88909.0</td>\n",
       "      <td>712349.0</td>\n",
       "      <td>850547.0</td>\n",
       "    </tr>\n",
       "    <tr>\n",
       "      <th>2021</th>\n",
       "      <td>West Virginia</td>\n",
       "      <td>49.5</td>\n",
       "      <td>633582.0</td>\n",
       "      <td>279133.0</td>\n",
       "      <td>0.0</td>\n",
       "      <td>205121.0</td>\n",
       "      <td>48756.0</td>\n",
       "    </tr>\n",
       "    <tr>\n",
       "      <th>2021</th>\n",
       "      <td>Wisconsin</td>\n",
       "      <td>15.7</td>\n",
       "      <td>286760.0</td>\n",
       "      <td>559535.0</td>\n",
       "      <td>104149.0</td>\n",
       "      <td>533212.0</td>\n",
       "      <td>178716.0</td>\n",
       "    </tr>\n",
       "    <tr>\n",
       "      <th>2021</th>\n",
       "      <td>Wyoming</td>\n",
       "      <td>94.3</td>\n",
       "      <td>376971.0</td>\n",
       "      <td>161354.0</td>\n",
       "      <td>0.0</td>\n",
       "      <td>146812.0</td>\n",
       "      <td>91943.0</td>\n",
       "    </tr>\n",
       "  </tbody>\n",
       "</table>\n",
       "<p>2652 rows × 7 columns</p>\n",
       "</div>"
      ],
      "text/plain": [
       "              State  CO2_Value Coal_Value Natural_Gas_Value  \\\n",
       "Year                                                          \n",
       "1970        Alabama       29.7   675603.0          307750.0   \n",
       "1970         Alaska       37.3    13159.0           64045.0   \n",
       "1970        Arizona       13.9     8623.0          204383.0   \n",
       "1970       Arkansas       18.7        0.0          383478.0   \n",
       "1970     California       14.7    61812.0         2241295.0   \n",
       "...             ...        ...        ...               ...   \n",
       "2021       Virginia       11.3    68603.0          699927.0   \n",
       "2021     Washington        9.5    36943.0          382807.0   \n",
       "2021  West Virginia       49.5   633582.0          279133.0   \n",
       "2021      Wisconsin       15.7   286760.0          559535.0   \n",
       "2021        Wyoming       94.3   376971.0          161354.0   \n",
       "\n",
       "     Nuclear_Energy_Value Petroleum_Energy_Value Renewable_Energy_Value  \n",
       "Year                                                                     \n",
       "1970                  0.0               352050.0               132471.0  \n",
       "1970                  0.0                95999.0                 8835.0  \n",
       "1970                  0.0               213298.0                68919.0  \n",
       "1970                  0.0               246630.0                56933.0  \n",
       "1970              34375.0              2502535.0               521978.0  \n",
       "...                   ...                    ...                    ...  \n",
       "2021             298458.0               789358.0               189262.0  \n",
       "2021              88909.0               712349.0               850547.0  \n",
       "2021                  0.0               205121.0                48756.0  \n",
       "2021             104149.0               533212.0               178716.0  \n",
       "2021                  0.0               146812.0                91943.0  \n",
       "\n",
       "[2652 rows x 7 columns]"
      ]
     },
     "execution_count": 238,
     "metadata": {},
     "output_type": "execute_result"
    }
   ],
   "source": [
    "df"
   ]
  },
  {
   "cell_type": "code",
   "execution_count": 239,
   "id": "82101800-952a-4731-a8e3-95785cdc8246",
   "metadata": {},
   "outputs": [],
   "source": [
    "df['Coal_Value'] = df['Coal_Value'].astype(float)\n",
    "df['Natural_Gas_Value'] = df['Natural_Gas_Value'].astype(float)\n",
    "df['Nuclear_Energy_Value'] = df['Nuclear_Energy_Value'].astype(float)\n",
    "df['Petroleum_Energy_Value'] = df['Petroleum_Energy_Value'].astype(float)\n",
    "df['Renewable_Energy_Value'] = df['Renewable_Energy_Value'].astype(float)"
   ]
  },
  {
   "cell_type": "code",
   "execution_count": 240,
   "id": "dc8e953a-4fe2-4a46-84a6-71c53101444c",
   "metadata": {},
   "outputs": [
    {
     "data": {
      "text/plain": [
       "State                      object\n",
       "CO2_Value                 float64\n",
       "Coal_Value                float64\n",
       "Natural_Gas_Value         float64\n",
       "Nuclear_Energy_Value      float64\n",
       "Petroleum_Energy_Value    float64\n",
       "Renewable_Energy_Value    float64\n",
       "dtype: object"
      ]
     },
     "execution_count": 240,
     "metadata": {},
     "output_type": "execute_result"
    }
   ],
   "source": [
    "df.dtypes\n"
   ]
  },
  {
   "cell_type": "markdown",
   "id": "556d594f-a038-4df6-b01e-056719d9a0d1",
   "metadata": {},
   "source": [
    "## Import and Investigate the Data"
   ]
  },
  {
   "cell_type": "markdown",
   "id": "f256e190-61a8-492f-8857-78de981c55f2",
   "metadata": {},
   "source": [
    "### Renewable energy amounts are by number of pollution observations, these are approximations based on the pollution amounts. Approximations make renewable, fossil fuel, energy usage uniform across states in order to get a rough estimate for totals upon the test set. "
   ]
  },
  {
   "cell_type": "markdown",
   "id": "dfbbdd43-b97a-4707-b495-4a657367337e",
   "metadata": {},
   "source": [
    "## Modeling Section"
   ]
  },
  {
   "cell_type": "markdown",
   "id": "e471d868-faba-494f-9ebc-37cf3efdc9c3",
   "metadata": {},
   "source": [
    "### Define features and perform train-test split"
   ]
  },
  {
   "cell_type": "code",
   "execution_count": 241,
   "id": "4964be99-cc3f-4d9c-a4bf-c1163c433801",
   "metadata": {},
   "outputs": [],
   "source": [
    "df = pd.get_dummies(df, columns=['State'], prefix='State')"
   ]
  },
  {
   "cell_type": "code",
   "execution_count": 242,
   "id": "14367994-0daa-438c-9121-c62d68043250",
   "metadata": {},
   "outputs": [
    {
     "data": {
      "text/html": [
       "<div>\n",
       "<style scoped>\n",
       "    .dataframe tbody tr th:only-of-type {\n",
       "        vertical-align: middle;\n",
       "    }\n",
       "\n",
       "    .dataframe tbody tr th {\n",
       "        vertical-align: top;\n",
       "    }\n",
       "\n",
       "    .dataframe thead th {\n",
       "        text-align: right;\n",
       "    }\n",
       "</style>\n",
       "<table border=\"1\" class=\"dataframe\">\n",
       "  <thead>\n",
       "    <tr style=\"text-align: right;\">\n",
       "      <th></th>\n",
       "      <th>CO2_Value</th>\n",
       "      <th>Coal_Value</th>\n",
       "      <th>Natural_Gas_Value</th>\n",
       "      <th>Nuclear_Energy_Value</th>\n",
       "      <th>Petroleum_Energy_Value</th>\n",
       "      <th>Renewable_Energy_Value</th>\n",
       "      <th>State_Alabama</th>\n",
       "      <th>State_Alaska</th>\n",
       "      <th>State_Arizona</th>\n",
       "      <th>State_Arkansas</th>\n",
       "      <th>...</th>\n",
       "      <th>State_South Dakota</th>\n",
       "      <th>State_Tennessee</th>\n",
       "      <th>State_Texas</th>\n",
       "      <th>State_Utah</th>\n",
       "      <th>State_Vermont</th>\n",
       "      <th>State_Virginia</th>\n",
       "      <th>State_Washington</th>\n",
       "      <th>State_West Virginia</th>\n",
       "      <th>State_Wisconsin</th>\n",
       "      <th>State_Wyoming</th>\n",
       "    </tr>\n",
       "    <tr>\n",
       "      <th>Year</th>\n",
       "      <th></th>\n",
       "      <th></th>\n",
       "      <th></th>\n",
       "      <th></th>\n",
       "      <th></th>\n",
       "      <th></th>\n",
       "      <th></th>\n",
       "      <th></th>\n",
       "      <th></th>\n",
       "      <th></th>\n",
       "      <th></th>\n",
       "      <th></th>\n",
       "      <th></th>\n",
       "      <th></th>\n",
       "      <th></th>\n",
       "      <th></th>\n",
       "      <th></th>\n",
       "      <th></th>\n",
       "      <th></th>\n",
       "      <th></th>\n",
       "      <th></th>\n",
       "    </tr>\n",
       "  </thead>\n",
       "  <tbody>\n",
       "    <tr>\n",
       "      <th>1970</th>\n",
       "      <td>29.7</td>\n",
       "      <td>675603.0</td>\n",
       "      <td>307750.0</td>\n",
       "      <td>0.0</td>\n",
       "      <td>352050.0</td>\n",
       "      <td>132471.0</td>\n",
       "      <td>True</td>\n",
       "      <td>False</td>\n",
       "      <td>False</td>\n",
       "      <td>False</td>\n",
       "      <td>...</td>\n",
       "      <td>False</td>\n",
       "      <td>False</td>\n",
       "      <td>False</td>\n",
       "      <td>False</td>\n",
       "      <td>False</td>\n",
       "      <td>False</td>\n",
       "      <td>False</td>\n",
       "      <td>False</td>\n",
       "      <td>False</td>\n",
       "      <td>False</td>\n",
       "    </tr>\n",
       "    <tr>\n",
       "      <th>1970</th>\n",
       "      <td>37.3</td>\n",
       "      <td>13159.0</td>\n",
       "      <td>64045.0</td>\n",
       "      <td>0.0</td>\n",
       "      <td>95999.0</td>\n",
       "      <td>8835.0</td>\n",
       "      <td>False</td>\n",
       "      <td>True</td>\n",
       "      <td>False</td>\n",
       "      <td>False</td>\n",
       "      <td>...</td>\n",
       "      <td>False</td>\n",
       "      <td>False</td>\n",
       "      <td>False</td>\n",
       "      <td>False</td>\n",
       "      <td>False</td>\n",
       "      <td>False</td>\n",
       "      <td>False</td>\n",
       "      <td>False</td>\n",
       "      <td>False</td>\n",
       "      <td>False</td>\n",
       "    </tr>\n",
       "    <tr>\n",
       "      <th>1970</th>\n",
       "      <td>13.9</td>\n",
       "      <td>8623.0</td>\n",
       "      <td>204383.0</td>\n",
       "      <td>0.0</td>\n",
       "      <td>213298.0</td>\n",
       "      <td>68919.0</td>\n",
       "      <td>False</td>\n",
       "      <td>False</td>\n",
       "      <td>True</td>\n",
       "      <td>False</td>\n",
       "      <td>...</td>\n",
       "      <td>False</td>\n",
       "      <td>False</td>\n",
       "      <td>False</td>\n",
       "      <td>False</td>\n",
       "      <td>False</td>\n",
       "      <td>False</td>\n",
       "      <td>False</td>\n",
       "      <td>False</td>\n",
       "      <td>False</td>\n",
       "      <td>False</td>\n",
       "    </tr>\n",
       "    <tr>\n",
       "      <th>1970</th>\n",
       "      <td>18.7</td>\n",
       "      <td>0.0</td>\n",
       "      <td>383478.0</td>\n",
       "      <td>0.0</td>\n",
       "      <td>246630.0</td>\n",
       "      <td>56933.0</td>\n",
       "      <td>False</td>\n",
       "      <td>False</td>\n",
       "      <td>False</td>\n",
       "      <td>True</td>\n",
       "      <td>...</td>\n",
       "      <td>False</td>\n",
       "      <td>False</td>\n",
       "      <td>False</td>\n",
       "      <td>False</td>\n",
       "      <td>False</td>\n",
       "      <td>False</td>\n",
       "      <td>False</td>\n",
       "      <td>False</td>\n",
       "      <td>False</td>\n",
       "      <td>False</td>\n",
       "    </tr>\n",
       "    <tr>\n",
       "      <th>1970</th>\n",
       "      <td>14.7</td>\n",
       "      <td>61812.0</td>\n",
       "      <td>2241295.0</td>\n",
       "      <td>34375.0</td>\n",
       "      <td>2502535.0</td>\n",
       "      <td>521978.0</td>\n",
       "      <td>False</td>\n",
       "      <td>False</td>\n",
       "      <td>False</td>\n",
       "      <td>False</td>\n",
       "      <td>...</td>\n",
       "      <td>False</td>\n",
       "      <td>False</td>\n",
       "      <td>False</td>\n",
       "      <td>False</td>\n",
       "      <td>False</td>\n",
       "      <td>False</td>\n",
       "      <td>False</td>\n",
       "      <td>False</td>\n",
       "      <td>False</td>\n",
       "      <td>False</td>\n",
       "    </tr>\n",
       "    <tr>\n",
       "      <th>...</th>\n",
       "      <td>...</td>\n",
       "      <td>...</td>\n",
       "      <td>...</td>\n",
       "      <td>...</td>\n",
       "      <td>...</td>\n",
       "      <td>...</td>\n",
       "      <td>...</td>\n",
       "      <td>...</td>\n",
       "      <td>...</td>\n",
       "      <td>...</td>\n",
       "      <td>...</td>\n",
       "      <td>...</td>\n",
       "      <td>...</td>\n",
       "      <td>...</td>\n",
       "      <td>...</td>\n",
       "      <td>...</td>\n",
       "      <td>...</td>\n",
       "      <td>...</td>\n",
       "      <td>...</td>\n",
       "      <td>...</td>\n",
       "      <td>...</td>\n",
       "    </tr>\n",
       "    <tr>\n",
       "      <th>2021</th>\n",
       "      <td>11.3</td>\n",
       "      <td>68603.0</td>\n",
       "      <td>699927.0</td>\n",
       "      <td>298458.0</td>\n",
       "      <td>789358.0</td>\n",
       "      <td>189262.0</td>\n",
       "      <td>False</td>\n",
       "      <td>False</td>\n",
       "      <td>False</td>\n",
       "      <td>False</td>\n",
       "      <td>...</td>\n",
       "      <td>False</td>\n",
       "      <td>False</td>\n",
       "      <td>False</td>\n",
       "      <td>False</td>\n",
       "      <td>False</td>\n",
       "      <td>True</td>\n",
       "      <td>False</td>\n",
       "      <td>False</td>\n",
       "      <td>False</td>\n",
       "      <td>False</td>\n",
       "    </tr>\n",
       "    <tr>\n",
       "      <th>2021</th>\n",
       "      <td>9.5</td>\n",
       "      <td>36943.0</td>\n",
       "      <td>382807.0</td>\n",
       "      <td>88909.0</td>\n",
       "      <td>712349.0</td>\n",
       "      <td>850547.0</td>\n",
       "      <td>False</td>\n",
       "      <td>False</td>\n",
       "      <td>False</td>\n",
       "      <td>False</td>\n",
       "      <td>...</td>\n",
       "      <td>False</td>\n",
       "      <td>False</td>\n",
       "      <td>False</td>\n",
       "      <td>False</td>\n",
       "      <td>False</td>\n",
       "      <td>False</td>\n",
       "      <td>True</td>\n",
       "      <td>False</td>\n",
       "      <td>False</td>\n",
       "      <td>False</td>\n",
       "    </tr>\n",
       "    <tr>\n",
       "      <th>2021</th>\n",
       "      <td>49.5</td>\n",
       "      <td>633582.0</td>\n",
       "      <td>279133.0</td>\n",
       "      <td>0.0</td>\n",
       "      <td>205121.0</td>\n",
       "      <td>48756.0</td>\n",
       "      <td>False</td>\n",
       "      <td>False</td>\n",
       "      <td>False</td>\n",
       "      <td>False</td>\n",
       "      <td>...</td>\n",
       "      <td>False</td>\n",
       "      <td>False</td>\n",
       "      <td>False</td>\n",
       "      <td>False</td>\n",
       "      <td>False</td>\n",
       "      <td>False</td>\n",
       "      <td>False</td>\n",
       "      <td>True</td>\n",
       "      <td>False</td>\n",
       "      <td>False</td>\n",
       "    </tr>\n",
       "    <tr>\n",
       "      <th>2021</th>\n",
       "      <td>15.7</td>\n",
       "      <td>286760.0</td>\n",
       "      <td>559535.0</td>\n",
       "      <td>104149.0</td>\n",
       "      <td>533212.0</td>\n",
       "      <td>178716.0</td>\n",
       "      <td>False</td>\n",
       "      <td>False</td>\n",
       "      <td>False</td>\n",
       "      <td>False</td>\n",
       "      <td>...</td>\n",
       "      <td>False</td>\n",
       "      <td>False</td>\n",
       "      <td>False</td>\n",
       "      <td>False</td>\n",
       "      <td>False</td>\n",
       "      <td>False</td>\n",
       "      <td>False</td>\n",
       "      <td>False</td>\n",
       "      <td>True</td>\n",
       "      <td>False</td>\n",
       "    </tr>\n",
       "    <tr>\n",
       "      <th>2021</th>\n",
       "      <td>94.3</td>\n",
       "      <td>376971.0</td>\n",
       "      <td>161354.0</td>\n",
       "      <td>0.0</td>\n",
       "      <td>146812.0</td>\n",
       "      <td>91943.0</td>\n",
       "      <td>False</td>\n",
       "      <td>False</td>\n",
       "      <td>False</td>\n",
       "      <td>False</td>\n",
       "      <td>...</td>\n",
       "      <td>False</td>\n",
       "      <td>False</td>\n",
       "      <td>False</td>\n",
       "      <td>False</td>\n",
       "      <td>False</td>\n",
       "      <td>False</td>\n",
       "      <td>False</td>\n",
       "      <td>False</td>\n",
       "      <td>False</td>\n",
       "      <td>True</td>\n",
       "    </tr>\n",
       "  </tbody>\n",
       "</table>\n",
       "<p>2652 rows × 57 columns</p>\n",
       "</div>"
      ],
      "text/plain": [
       "      CO2_Value  Coal_Value  Natural_Gas_Value  Nuclear_Energy_Value  \\\n",
       "Year                                                                   \n",
       "1970       29.7    675603.0           307750.0                   0.0   \n",
       "1970       37.3     13159.0            64045.0                   0.0   \n",
       "1970       13.9      8623.0           204383.0                   0.0   \n",
       "1970       18.7         0.0           383478.0                   0.0   \n",
       "1970       14.7     61812.0          2241295.0               34375.0   \n",
       "...         ...         ...                ...                   ...   \n",
       "2021       11.3     68603.0           699927.0              298458.0   \n",
       "2021        9.5     36943.0           382807.0               88909.0   \n",
       "2021       49.5    633582.0           279133.0                   0.0   \n",
       "2021       15.7    286760.0           559535.0              104149.0   \n",
       "2021       94.3    376971.0           161354.0                   0.0   \n",
       "\n",
       "      Petroleum_Energy_Value  Renewable_Energy_Value  State_Alabama  \\\n",
       "Year                                                                  \n",
       "1970                352050.0                132471.0           True   \n",
       "1970                 95999.0                  8835.0          False   \n",
       "1970                213298.0                 68919.0          False   \n",
       "1970                246630.0                 56933.0          False   \n",
       "1970               2502535.0                521978.0          False   \n",
       "...                      ...                     ...            ...   \n",
       "2021                789358.0                189262.0          False   \n",
       "2021                712349.0                850547.0          False   \n",
       "2021                205121.0                 48756.0          False   \n",
       "2021                533212.0                178716.0          False   \n",
       "2021                146812.0                 91943.0          False   \n",
       "\n",
       "      State_Alaska  State_Arizona  State_Arkansas  ...  State_South Dakota  \\\n",
       "Year                                               ...                       \n",
       "1970         False          False           False  ...               False   \n",
       "1970          True          False           False  ...               False   \n",
       "1970         False           True           False  ...               False   \n",
       "1970         False          False            True  ...               False   \n",
       "1970         False          False           False  ...               False   \n",
       "...            ...            ...             ...  ...                 ...   \n",
       "2021         False          False           False  ...               False   \n",
       "2021         False          False           False  ...               False   \n",
       "2021         False          False           False  ...               False   \n",
       "2021         False          False           False  ...               False   \n",
       "2021         False          False           False  ...               False   \n",
       "\n",
       "      State_Tennessee  State_Texas  State_Utah  State_Vermont  State_Virginia  \\\n",
       "Year                                                                            \n",
       "1970            False        False       False          False           False   \n",
       "1970            False        False       False          False           False   \n",
       "1970            False        False       False          False           False   \n",
       "1970            False        False       False          False           False   \n",
       "1970            False        False       False          False           False   \n",
       "...               ...          ...         ...            ...             ...   \n",
       "2021            False        False       False          False            True   \n",
       "2021            False        False       False          False           False   \n",
       "2021            False        False       False          False           False   \n",
       "2021            False        False       False          False           False   \n",
       "2021            False        False       False          False           False   \n",
       "\n",
       "      State_Washington  State_West Virginia  State_Wisconsin  State_Wyoming  \n",
       "Year                                                                         \n",
       "1970             False                False            False          False  \n",
       "1970             False                False            False          False  \n",
       "1970             False                False            False          False  \n",
       "1970             False                False            False          False  \n",
       "1970             False                False            False          False  \n",
       "...                ...                  ...              ...            ...  \n",
       "2021             False                False            False          False  \n",
       "2021              True                False            False          False  \n",
       "2021             False                 True            False          False  \n",
       "2021             False                False             True          False  \n",
       "2021             False                False            False           True  \n",
       "\n",
       "[2652 rows x 57 columns]"
      ]
     },
     "execution_count": 242,
     "metadata": {},
     "output_type": "execute_result"
    }
   ],
   "source": [
    "df"
   ]
  },
  {
   "cell_type": "code",
   "execution_count": 243,
   "id": "1393fb89-e4e3-4558-bc99-476e3f2a2f2c",
   "metadata": {},
   "outputs": [],
   "source": [
    "X_features = ['Coal_Value',\t'Natural_Gas_Value','Nuclear_Energy_Value','Petroleum_Energy_Value','Renewable_Energy_Value'] + list(df.columns[df.columns.str.startswith('State_')])\n"
   ]
  },
  {
   "cell_type": "code",
   "execution_count": 244,
   "id": "dce29d35-659b-4e64-ba18-b4ad41faf4d7",
   "metadata": {},
   "outputs": [],
   "source": [
    "X = df[X_features]\n",
    "y = df['CO2_Value']\n"
   ]
  },
  {
   "cell_type": "code",
   "execution_count": 245,
   "id": "47834a7d-c260-43d7-8eeb-268ffb43e306",
   "metadata": {},
   "outputs": [],
   "source": [
    "X_train, X_test, y_train, y_test = train_test_split(X, y, train_size=0.8, random_state=42)"
   ]
  },
  {
   "cell_type": "code",
   "execution_count": 246,
   "id": "aa3a7acc-d847-4080-a006-987de1ef6c3f",
   "metadata": {},
   "outputs": [
    {
     "data": {
      "text/plain": [
       "(2121, 56)"
      ]
     },
     "execution_count": 246,
     "metadata": {},
     "output_type": "execute_result"
    }
   ],
   "source": [
    "X_train.shape"
   ]
  },
  {
   "cell_type": "code",
   "execution_count": 247,
   "id": "8eddc4d0-a5ef-4a70-81e9-dcc0b0423d51",
   "metadata": {},
   "outputs": [
    {
     "data": {
      "text/plain": [
       "(531, 56)"
      ]
     },
     "execution_count": 247,
     "metadata": {},
     "output_type": "execute_result"
    }
   ],
   "source": [
    "X_test.shape"
   ]
  },
  {
   "cell_type": "markdown",
   "id": "7bee887a-6882-4b79-ab80-9ec5b0b9c66b",
   "metadata": {},
   "source": [
    "### Scale Data"
   ]
  },
  {
   "cell_type": "code",
   "execution_count": 248,
   "id": "1ddaada7-d900-469c-a1c0-ecc6a1bce9aa",
   "metadata": {},
   "outputs": [],
   "source": [
    "ss = StandardScaler()\n",
    "X_train_sc = ss.fit_transform(X_train)\n",
    "X_test_sc = ss.transform(X_test)"
   ]
  },
  {
   "cell_type": "markdown",
   "id": "772a986a-d569-4da5-b2c4-8dd9cc0b1395",
   "metadata": {},
   "source": [
    "### Start with Linear, Lasso, Ridge, Regressions"
   ]
  },
  {
   "cell_type": "code",
   "execution_count": 249,
   "id": "6d852172-17d6-4d60-bb8a-6071ab685c00",
   "metadata": {},
   "outputs": [],
   "source": [
    "lin = LinearRegression()"
   ]
  },
  {
   "cell_type": "code",
   "execution_count": 250,
   "id": "3986da80-484c-4f83-862b-26b8708edd90",
   "metadata": {},
   "outputs": [
    {
     "data": {
      "text/html": [
       "<style>#sk-container-id-29 {color: black;}#sk-container-id-29 pre{padding: 0;}#sk-container-id-29 div.sk-toggleable {background-color: white;}#sk-container-id-29 label.sk-toggleable__label {cursor: pointer;display: block;width: 100%;margin-bottom: 0;padding: 0.3em;box-sizing: border-box;text-align: center;}#sk-container-id-29 label.sk-toggleable__label-arrow:before {content: \"▸\";float: left;margin-right: 0.25em;color: #696969;}#sk-container-id-29 label.sk-toggleable__label-arrow:hover:before {color: black;}#sk-container-id-29 div.sk-estimator:hover label.sk-toggleable__label-arrow:before {color: black;}#sk-container-id-29 div.sk-toggleable__content {max-height: 0;max-width: 0;overflow: hidden;text-align: left;background-color: #f0f8ff;}#sk-container-id-29 div.sk-toggleable__content pre {margin: 0.2em;color: black;border-radius: 0.25em;background-color: #f0f8ff;}#sk-container-id-29 input.sk-toggleable__control:checked~div.sk-toggleable__content {max-height: 200px;max-width: 100%;overflow: auto;}#sk-container-id-29 input.sk-toggleable__control:checked~label.sk-toggleable__label-arrow:before {content: \"▾\";}#sk-container-id-29 div.sk-estimator input.sk-toggleable__control:checked~label.sk-toggleable__label {background-color: #d4ebff;}#sk-container-id-29 div.sk-label input.sk-toggleable__control:checked~label.sk-toggleable__label {background-color: #d4ebff;}#sk-container-id-29 input.sk-hidden--visually {border: 0;clip: rect(1px 1px 1px 1px);clip: rect(1px, 1px, 1px, 1px);height: 1px;margin: -1px;overflow: hidden;padding: 0;position: absolute;width: 1px;}#sk-container-id-29 div.sk-estimator {font-family: monospace;background-color: #f0f8ff;border: 1px dotted black;border-radius: 0.25em;box-sizing: border-box;margin-bottom: 0.5em;}#sk-container-id-29 div.sk-estimator:hover {background-color: #d4ebff;}#sk-container-id-29 div.sk-parallel-item::after {content: \"\";width: 100%;border-bottom: 1px solid gray;flex-grow: 1;}#sk-container-id-29 div.sk-label:hover label.sk-toggleable__label {background-color: #d4ebff;}#sk-container-id-29 div.sk-serial::before {content: \"\";position: absolute;border-left: 1px solid gray;box-sizing: border-box;top: 0;bottom: 0;left: 50%;z-index: 0;}#sk-container-id-29 div.sk-serial {display: flex;flex-direction: column;align-items: center;background-color: white;padding-right: 0.2em;padding-left: 0.2em;position: relative;}#sk-container-id-29 div.sk-item {position: relative;z-index: 1;}#sk-container-id-29 div.sk-parallel {display: flex;align-items: stretch;justify-content: center;background-color: white;position: relative;}#sk-container-id-29 div.sk-item::before, #sk-container-id-29 div.sk-parallel-item::before {content: \"\";position: absolute;border-left: 1px solid gray;box-sizing: border-box;top: 0;bottom: 0;left: 50%;z-index: -1;}#sk-container-id-29 div.sk-parallel-item {display: flex;flex-direction: column;z-index: 1;position: relative;background-color: white;}#sk-container-id-29 div.sk-parallel-item:first-child::after {align-self: flex-end;width: 50%;}#sk-container-id-29 div.sk-parallel-item:last-child::after {align-self: flex-start;width: 50%;}#sk-container-id-29 div.sk-parallel-item:only-child::after {width: 0;}#sk-container-id-29 div.sk-dashed-wrapped {border: 1px dashed gray;margin: 0 0.4em 0.5em 0.4em;box-sizing: border-box;padding-bottom: 0.4em;background-color: white;}#sk-container-id-29 div.sk-label label {font-family: monospace;font-weight: bold;display: inline-block;line-height: 1.2em;}#sk-container-id-29 div.sk-label-container {text-align: center;}#sk-container-id-29 div.sk-container {/* jupyter's `normalize.less` sets `[hidden] { display: none; }` but bootstrap.min.css set `[hidden] { display: none !important; }` so we also need the `!important` here to be able to override the default hidden behavior on the sphinx rendered scikit-learn.org. See: https://github.com/scikit-learn/scikit-learn/issues/21755 */display: inline-block !important;position: relative;}#sk-container-id-29 div.sk-text-repr-fallback {display: none;}</style><div id=\"sk-container-id-29\" class=\"sk-top-container\"><div class=\"sk-text-repr-fallback\"><pre>LinearRegression()</pre><b>In a Jupyter environment, please rerun this cell to show the HTML representation or trust the notebook. <br />On GitHub, the HTML representation is unable to render, please try loading this page with nbviewer.org.</b></div><div class=\"sk-container\" hidden><div class=\"sk-item\"><div class=\"sk-estimator sk-toggleable\"><input class=\"sk-toggleable__control sk-hidden--visually\" id=\"sk-estimator-id-65\" type=\"checkbox\" checked><label for=\"sk-estimator-id-65\" class=\"sk-toggleable__label sk-toggleable__label-arrow\">LinearRegression</label><div class=\"sk-toggleable__content\"><pre>LinearRegression()</pre></div></div></div></div></div>"
      ],
      "text/plain": [
       "LinearRegression()"
      ]
     },
     "execution_count": 250,
     "metadata": {},
     "output_type": "execute_result"
    }
   ],
   "source": [
    "lin.fit(X_train_sc, y_train)"
   ]
  },
  {
   "cell_type": "code",
   "execution_count": 251,
   "id": "2fae394d-0e82-4633-b3d7-1fcbe60c1bae",
   "metadata": {},
   "outputs": [],
   "source": [
    "predictions_lin_train = lin.predict(X_train_sc)\n",
    "predictions_lin = lin.predict(X_test_sc)"
   ]
  },
  {
   "cell_type": "code",
   "execution_count": 252,
   "id": "26f3b76e-d03d-4c4c-b91d-2b19b45168f8",
   "metadata": {},
   "outputs": [
    {
     "name": "stdout",
     "output_type": "stream",
     "text": [
      "The train score for Linear model is 0.9212459265286845\n",
      "The test score for Linear model is 0.9279017447120519\n"
     ]
    }
   ],
   "source": [
    "train_score_lin = lin.score(X_train_sc, y_train)\n",
    "test_score_lin = lin.score(X_test_sc, y_test)\n",
    "print(\"The train score for Linear model is {}\".format(train_score_lin))\n",
    "print(\"The test score for Linear model is {}\".format(test_score_lin))"
   ]
  },
  {
   "cell_type": "code",
   "execution_count": 253,
   "id": "1dbbda2a-c95d-4383-b77a-34deb5eab1ff",
   "metadata": {},
   "outputs": [
    {
     "name": "stdout",
     "output_type": "stream",
     "text": [
      "The Linear model train root mean squared error (RMSE) is 4.729673584307714\n",
      "The Linear model test mean squared error is (RMSE) 4.793009188716111\n"
     ]
    }
   ],
   "source": [
    "mean_squared_error(y_train, predictions_lin_train)\n",
    "mean_squared_error(y_test, predictions_lin)\n",
    "print(\"The Linear model train root mean squared error (RMSE) is {}\".format(math.sqrt(mean_squared_error(y_train, predictions_lin_train))))\n",
    "print(\"The Linear model test mean squared error is (RMSE) {}\".format(math.sqrt(mean_squared_error(y_test, predictions_lin))))"
   ]
  },
  {
   "cell_type": "code",
   "execution_count": 254,
   "id": "02d59a4a-6b58-4ef1-a63c-150250e2c70b",
   "metadata": {},
   "outputs": [
    {
     "data": {
      "text/html": [
       "<style>#sk-container-id-30 {color: black;}#sk-container-id-30 pre{padding: 0;}#sk-container-id-30 div.sk-toggleable {background-color: white;}#sk-container-id-30 label.sk-toggleable__label {cursor: pointer;display: block;width: 100%;margin-bottom: 0;padding: 0.3em;box-sizing: border-box;text-align: center;}#sk-container-id-30 label.sk-toggleable__label-arrow:before {content: \"▸\";float: left;margin-right: 0.25em;color: #696969;}#sk-container-id-30 label.sk-toggleable__label-arrow:hover:before {color: black;}#sk-container-id-30 div.sk-estimator:hover label.sk-toggleable__label-arrow:before {color: black;}#sk-container-id-30 div.sk-toggleable__content {max-height: 0;max-width: 0;overflow: hidden;text-align: left;background-color: #f0f8ff;}#sk-container-id-30 div.sk-toggleable__content pre {margin: 0.2em;color: black;border-radius: 0.25em;background-color: #f0f8ff;}#sk-container-id-30 input.sk-toggleable__control:checked~div.sk-toggleable__content {max-height: 200px;max-width: 100%;overflow: auto;}#sk-container-id-30 input.sk-toggleable__control:checked~label.sk-toggleable__label-arrow:before {content: \"▾\";}#sk-container-id-30 div.sk-estimator input.sk-toggleable__control:checked~label.sk-toggleable__label {background-color: #d4ebff;}#sk-container-id-30 div.sk-label input.sk-toggleable__control:checked~label.sk-toggleable__label {background-color: #d4ebff;}#sk-container-id-30 input.sk-hidden--visually {border: 0;clip: rect(1px 1px 1px 1px);clip: rect(1px, 1px, 1px, 1px);height: 1px;margin: -1px;overflow: hidden;padding: 0;position: absolute;width: 1px;}#sk-container-id-30 div.sk-estimator {font-family: monospace;background-color: #f0f8ff;border: 1px dotted black;border-radius: 0.25em;box-sizing: border-box;margin-bottom: 0.5em;}#sk-container-id-30 div.sk-estimator:hover {background-color: #d4ebff;}#sk-container-id-30 div.sk-parallel-item::after {content: \"\";width: 100%;border-bottom: 1px solid gray;flex-grow: 1;}#sk-container-id-30 div.sk-label:hover label.sk-toggleable__label {background-color: #d4ebff;}#sk-container-id-30 div.sk-serial::before {content: \"\";position: absolute;border-left: 1px solid gray;box-sizing: border-box;top: 0;bottom: 0;left: 50%;z-index: 0;}#sk-container-id-30 div.sk-serial {display: flex;flex-direction: column;align-items: center;background-color: white;padding-right: 0.2em;padding-left: 0.2em;position: relative;}#sk-container-id-30 div.sk-item {position: relative;z-index: 1;}#sk-container-id-30 div.sk-parallel {display: flex;align-items: stretch;justify-content: center;background-color: white;position: relative;}#sk-container-id-30 div.sk-item::before, #sk-container-id-30 div.sk-parallel-item::before {content: \"\";position: absolute;border-left: 1px solid gray;box-sizing: border-box;top: 0;bottom: 0;left: 50%;z-index: -1;}#sk-container-id-30 div.sk-parallel-item {display: flex;flex-direction: column;z-index: 1;position: relative;background-color: white;}#sk-container-id-30 div.sk-parallel-item:first-child::after {align-self: flex-end;width: 50%;}#sk-container-id-30 div.sk-parallel-item:last-child::after {align-self: flex-start;width: 50%;}#sk-container-id-30 div.sk-parallel-item:only-child::after {width: 0;}#sk-container-id-30 div.sk-dashed-wrapped {border: 1px dashed gray;margin: 0 0.4em 0.5em 0.4em;box-sizing: border-box;padding-bottom: 0.4em;background-color: white;}#sk-container-id-30 div.sk-label label {font-family: monospace;font-weight: bold;display: inline-block;line-height: 1.2em;}#sk-container-id-30 div.sk-label-container {text-align: center;}#sk-container-id-30 div.sk-container {/* jupyter's `normalize.less` sets `[hidden] { display: none; }` but bootstrap.min.css set `[hidden] { display: none !important; }` so we also need the `!important` here to be able to override the default hidden behavior on the sphinx rendered scikit-learn.org. See: https://github.com/scikit-learn/scikit-learn/issues/21755 */display: inline-block !important;position: relative;}#sk-container-id-30 div.sk-text-repr-fallback {display: none;}</style><div id=\"sk-container-id-30\" class=\"sk-top-container\"><div class=\"sk-text-repr-fallback\"><pre>Lasso()</pre><b>In a Jupyter environment, please rerun this cell to show the HTML representation or trust the notebook. <br />On GitHub, the HTML representation is unable to render, please try loading this page with nbviewer.org.</b></div><div class=\"sk-container\" hidden><div class=\"sk-item\"><div class=\"sk-estimator sk-toggleable\"><input class=\"sk-toggleable__control sk-hidden--visually\" id=\"sk-estimator-id-66\" type=\"checkbox\" checked><label for=\"sk-estimator-id-66\" class=\"sk-toggleable__label sk-toggleable__label-arrow\">Lasso</label><div class=\"sk-toggleable__content\"><pre>Lasso()</pre></div></div></div></div></div>"
      ],
      "text/plain": [
       "Lasso()"
      ]
     },
     "execution_count": 254,
     "metadata": {},
     "output_type": "execute_result"
    }
   ],
   "source": [
    "# Lasso\n",
    "lasso = Lasso()\n",
    "\n",
    "lasso.fit(X_train_sc,y_train)"
   ]
  },
  {
   "cell_type": "code",
   "execution_count": 255,
   "id": "46de1554-dde2-40f4-a676-9e63ee94e18b",
   "metadata": {},
   "outputs": [
    {
     "name": "stdout",
     "output_type": "stream",
     "text": [
      "The train score for Lasso model is 0.8339998268856855\n",
      "The test score for Lasso model is 0.8486543229661927\n"
     ]
    }
   ],
   "source": [
    "predictions_lasso_train = lasso.predict(X_train_sc)\n",
    "predictions_lasso = lasso.predict(X_test_sc)\n",
    "\n",
    "# Display overall scores\n",
    "train_score_lasso = lasso.score(X_train_sc, y_train)\n",
    "test_score_lasso = lasso.score(X_test_sc, y_test)\n",
    "print(\"The train score for Lasso model is {}\".format(train_score_lasso))\n",
    "print(\"The test score for Lasso model is {}\".format(test_score_lasso))"
   ]
  },
  {
   "cell_type": "code",
   "execution_count": 256,
   "id": "66055db7-7657-40b2-bfdf-bb94a7af7a27",
   "metadata": {},
   "outputs": [
    {
     "name": "stdout",
     "output_type": "stream",
     "text": [
      "The Lasso model train root mean squared error (RMSE) is 6.866713479967608\n",
      "The Lasso model test root mean squared error (RMSE) is 6.944338690446198\n"
     ]
    }
   ],
   "source": [
    "mean_squared_error(y_train, predictions_lasso_train)\n",
    "mean_squared_error(y_test, predictions_lasso)\n",
    "print(\"The Lasso model train root mean squared error (RMSE) is {}\".format(math.sqrt(mean_squared_error(y_train, predictions_lasso_train))))\n",
    "print(\"The Lasso model test root mean squared error (RMSE) is {}\".format(math.sqrt(mean_squared_error(y_test, predictions_lasso))))"
   ]
  },
  {
   "cell_type": "code",
   "execution_count": 257,
   "id": "7d21bda2-7d83-4e2c-82a5-978ce2dddd76",
   "metadata": {},
   "outputs": [
    {
     "data": {
      "text/html": [
       "<style>#sk-container-id-31 {color: black;}#sk-container-id-31 pre{padding: 0;}#sk-container-id-31 div.sk-toggleable {background-color: white;}#sk-container-id-31 label.sk-toggleable__label {cursor: pointer;display: block;width: 100%;margin-bottom: 0;padding: 0.3em;box-sizing: border-box;text-align: center;}#sk-container-id-31 label.sk-toggleable__label-arrow:before {content: \"▸\";float: left;margin-right: 0.25em;color: #696969;}#sk-container-id-31 label.sk-toggleable__label-arrow:hover:before {color: black;}#sk-container-id-31 div.sk-estimator:hover label.sk-toggleable__label-arrow:before {color: black;}#sk-container-id-31 div.sk-toggleable__content {max-height: 0;max-width: 0;overflow: hidden;text-align: left;background-color: #f0f8ff;}#sk-container-id-31 div.sk-toggleable__content pre {margin: 0.2em;color: black;border-radius: 0.25em;background-color: #f0f8ff;}#sk-container-id-31 input.sk-toggleable__control:checked~div.sk-toggleable__content {max-height: 200px;max-width: 100%;overflow: auto;}#sk-container-id-31 input.sk-toggleable__control:checked~label.sk-toggleable__label-arrow:before {content: \"▾\";}#sk-container-id-31 div.sk-estimator input.sk-toggleable__control:checked~label.sk-toggleable__label {background-color: #d4ebff;}#sk-container-id-31 div.sk-label input.sk-toggleable__control:checked~label.sk-toggleable__label {background-color: #d4ebff;}#sk-container-id-31 input.sk-hidden--visually {border: 0;clip: rect(1px 1px 1px 1px);clip: rect(1px, 1px, 1px, 1px);height: 1px;margin: -1px;overflow: hidden;padding: 0;position: absolute;width: 1px;}#sk-container-id-31 div.sk-estimator {font-family: monospace;background-color: #f0f8ff;border: 1px dotted black;border-radius: 0.25em;box-sizing: border-box;margin-bottom: 0.5em;}#sk-container-id-31 div.sk-estimator:hover {background-color: #d4ebff;}#sk-container-id-31 div.sk-parallel-item::after {content: \"\";width: 100%;border-bottom: 1px solid gray;flex-grow: 1;}#sk-container-id-31 div.sk-label:hover label.sk-toggleable__label {background-color: #d4ebff;}#sk-container-id-31 div.sk-serial::before {content: \"\";position: absolute;border-left: 1px solid gray;box-sizing: border-box;top: 0;bottom: 0;left: 50%;z-index: 0;}#sk-container-id-31 div.sk-serial {display: flex;flex-direction: column;align-items: center;background-color: white;padding-right: 0.2em;padding-left: 0.2em;position: relative;}#sk-container-id-31 div.sk-item {position: relative;z-index: 1;}#sk-container-id-31 div.sk-parallel {display: flex;align-items: stretch;justify-content: center;background-color: white;position: relative;}#sk-container-id-31 div.sk-item::before, #sk-container-id-31 div.sk-parallel-item::before {content: \"\";position: absolute;border-left: 1px solid gray;box-sizing: border-box;top: 0;bottom: 0;left: 50%;z-index: -1;}#sk-container-id-31 div.sk-parallel-item {display: flex;flex-direction: column;z-index: 1;position: relative;background-color: white;}#sk-container-id-31 div.sk-parallel-item:first-child::after {align-self: flex-end;width: 50%;}#sk-container-id-31 div.sk-parallel-item:last-child::after {align-self: flex-start;width: 50%;}#sk-container-id-31 div.sk-parallel-item:only-child::after {width: 0;}#sk-container-id-31 div.sk-dashed-wrapped {border: 1px dashed gray;margin: 0 0.4em 0.5em 0.4em;box-sizing: border-box;padding-bottom: 0.4em;background-color: white;}#sk-container-id-31 div.sk-label label {font-family: monospace;font-weight: bold;display: inline-block;line-height: 1.2em;}#sk-container-id-31 div.sk-label-container {text-align: center;}#sk-container-id-31 div.sk-container {/* jupyter's `normalize.less` sets `[hidden] { display: none; }` but bootstrap.min.css set `[hidden] { display: none !important; }` so we also need the `!important` here to be able to override the default hidden behavior on the sphinx rendered scikit-learn.org. See: https://github.com/scikit-learn/scikit-learn/issues/21755 */display: inline-block !important;position: relative;}#sk-container-id-31 div.sk-text-repr-fallback {display: none;}</style><div id=\"sk-container-id-31\" class=\"sk-top-container\"><div class=\"sk-text-repr-fallback\"><pre>Ridge()</pre><b>In a Jupyter environment, please rerun this cell to show the HTML representation or trust the notebook. <br />On GitHub, the HTML representation is unable to render, please try loading this page with nbviewer.org.</b></div><div class=\"sk-container\" hidden><div class=\"sk-item\"><div class=\"sk-estimator sk-toggleable\"><input class=\"sk-toggleable__control sk-hidden--visually\" id=\"sk-estimator-id-67\" type=\"checkbox\" checked><label for=\"sk-estimator-id-67\" class=\"sk-toggleable__label sk-toggleable__label-arrow\">Ridge</label><div class=\"sk-toggleable__content\"><pre>Ridge()</pre></div></div></div></div></div>"
      ],
      "text/plain": [
       "Ridge()"
      ]
     },
     "execution_count": 257,
     "metadata": {},
     "output_type": "execute_result"
    }
   ],
   "source": [
    "# Ridge\n",
    "ridge = Ridge()\n",
    "\n",
    "ridge.fit(X_train_sc,y_train)"
   ]
  },
  {
   "cell_type": "code",
   "execution_count": 258,
   "id": "85b08a8c-5718-4606-93e4-5ea8fcac1d6c",
   "metadata": {},
   "outputs": [
    {
     "name": "stdout",
     "output_type": "stream",
     "text": [
      "The train score for Ridge model is 0.9212447374812631\n",
      "The test score for Ridge model is 0.9279286139837684\n"
     ]
    }
   ],
   "source": [
    "# Predictions\n",
    "predictions_ridge_train = ridge.predict(X_train_sc)\n",
    "predictions_ridge = ridge.predict(X_test_sc)\n",
    "\n",
    "# Display overall scores\n",
    "train_score_ridge = ridge.score(X_train_sc, y_train)\n",
    "test_score_ridge = ridge.score(X_test_sc, y_test)\n",
    "print(\"The train score for Ridge model is {}\".format(train_score_ridge))\n",
    "print(\"The test score for Ridge model is {}\".format(test_score_ridge))"
   ]
  },
  {
   "cell_type": "code",
   "execution_count": 259,
   "id": "0b66758f-5978-4f6b-bea5-24dc4d25fdaa",
   "metadata": {},
   "outputs": [
    {
     "name": "stdout",
     "output_type": "stream",
     "text": [
      "The Ridge model train root mean squared error (RMSE) is 4.729709289031957\n",
      "The Ridge model test root mean squared error (RMSE) is 4.7921159863308125\n"
     ]
    }
   ],
   "source": [
    "mean_squared_error(y_train, predictions_ridge_train)\n",
    "mean_squared_error(y_test, predictions_ridge)\n",
    "print(\"The Ridge model train root mean squared error (RMSE) is {}\".format(math.sqrt(mean_squared_error(y_train, predictions_ridge_train))))\n",
    "print(\"The Ridge model test root mean squared error (RMSE) is {}\".format(math.sqrt(mean_squared_error(y_test, predictions_ridge))))"
   ]
  },
  {
   "cell_type": "markdown",
   "id": "180df5b6-5ee9-4558-846e-8c21c0de04f6",
   "metadata": {},
   "source": [
    "## Polynomial Features"
   ]
  },
  {
   "cell_type": "code",
   "execution_count": 260,
   "id": "c78e03c2-73c8-45df-9089-b145644fab6f",
   "metadata": {},
   "outputs": [],
   "source": [
    "poly = PolynomialFeatures(degree=2,include_bias=False)"
   ]
  },
  {
   "cell_type": "code",
   "execution_count": 261,
   "id": "0f57a1e1-2c8c-4af8-8555-82fbe46c0499",
   "metadata": {},
   "outputs": [],
   "source": [
    "X_train_sc = poly.fit_transform(X_train_sc)\n",
    "\n",
    "X_test_sc = poly.transform(X_test_sc)"
   ]
  },
  {
   "cell_type": "code",
   "execution_count": 262,
   "id": "87958402-7986-4546-b990-e16db8c6de12",
   "metadata": {},
   "outputs": [
    {
     "data": {
      "text/html": [
       "<style>#sk-container-id-32 {color: black;}#sk-container-id-32 pre{padding: 0;}#sk-container-id-32 div.sk-toggleable {background-color: white;}#sk-container-id-32 label.sk-toggleable__label {cursor: pointer;display: block;width: 100%;margin-bottom: 0;padding: 0.3em;box-sizing: border-box;text-align: center;}#sk-container-id-32 label.sk-toggleable__label-arrow:before {content: \"▸\";float: left;margin-right: 0.25em;color: #696969;}#sk-container-id-32 label.sk-toggleable__label-arrow:hover:before {color: black;}#sk-container-id-32 div.sk-estimator:hover label.sk-toggleable__label-arrow:before {color: black;}#sk-container-id-32 div.sk-toggleable__content {max-height: 0;max-width: 0;overflow: hidden;text-align: left;background-color: #f0f8ff;}#sk-container-id-32 div.sk-toggleable__content pre {margin: 0.2em;color: black;border-radius: 0.25em;background-color: #f0f8ff;}#sk-container-id-32 input.sk-toggleable__control:checked~div.sk-toggleable__content {max-height: 200px;max-width: 100%;overflow: auto;}#sk-container-id-32 input.sk-toggleable__control:checked~label.sk-toggleable__label-arrow:before {content: \"▾\";}#sk-container-id-32 div.sk-estimator input.sk-toggleable__control:checked~label.sk-toggleable__label {background-color: #d4ebff;}#sk-container-id-32 div.sk-label input.sk-toggleable__control:checked~label.sk-toggleable__label {background-color: #d4ebff;}#sk-container-id-32 input.sk-hidden--visually {border: 0;clip: rect(1px 1px 1px 1px);clip: rect(1px, 1px, 1px, 1px);height: 1px;margin: -1px;overflow: hidden;padding: 0;position: absolute;width: 1px;}#sk-container-id-32 div.sk-estimator {font-family: monospace;background-color: #f0f8ff;border: 1px dotted black;border-radius: 0.25em;box-sizing: border-box;margin-bottom: 0.5em;}#sk-container-id-32 div.sk-estimator:hover {background-color: #d4ebff;}#sk-container-id-32 div.sk-parallel-item::after {content: \"\";width: 100%;border-bottom: 1px solid gray;flex-grow: 1;}#sk-container-id-32 div.sk-label:hover label.sk-toggleable__label {background-color: #d4ebff;}#sk-container-id-32 div.sk-serial::before {content: \"\";position: absolute;border-left: 1px solid gray;box-sizing: border-box;top: 0;bottom: 0;left: 50%;z-index: 0;}#sk-container-id-32 div.sk-serial {display: flex;flex-direction: column;align-items: center;background-color: white;padding-right: 0.2em;padding-left: 0.2em;position: relative;}#sk-container-id-32 div.sk-item {position: relative;z-index: 1;}#sk-container-id-32 div.sk-parallel {display: flex;align-items: stretch;justify-content: center;background-color: white;position: relative;}#sk-container-id-32 div.sk-item::before, #sk-container-id-32 div.sk-parallel-item::before {content: \"\";position: absolute;border-left: 1px solid gray;box-sizing: border-box;top: 0;bottom: 0;left: 50%;z-index: -1;}#sk-container-id-32 div.sk-parallel-item {display: flex;flex-direction: column;z-index: 1;position: relative;background-color: white;}#sk-container-id-32 div.sk-parallel-item:first-child::after {align-self: flex-end;width: 50%;}#sk-container-id-32 div.sk-parallel-item:last-child::after {align-self: flex-start;width: 50%;}#sk-container-id-32 div.sk-parallel-item:only-child::after {width: 0;}#sk-container-id-32 div.sk-dashed-wrapped {border: 1px dashed gray;margin: 0 0.4em 0.5em 0.4em;box-sizing: border-box;padding-bottom: 0.4em;background-color: white;}#sk-container-id-32 div.sk-label label {font-family: monospace;font-weight: bold;display: inline-block;line-height: 1.2em;}#sk-container-id-32 div.sk-label-container {text-align: center;}#sk-container-id-32 div.sk-container {/* jupyter's `normalize.less` sets `[hidden] { display: none; }` but bootstrap.min.css set `[hidden] { display: none !important; }` so we also need the `!important` here to be able to override the default hidden behavior on the sphinx rendered scikit-learn.org. See: https://github.com/scikit-learn/scikit-learn/issues/21755 */display: inline-block !important;position: relative;}#sk-container-id-32 div.sk-text-repr-fallback {display: none;}</style><div id=\"sk-container-id-32\" class=\"sk-top-container\"><div class=\"sk-text-repr-fallback\"><pre>LinearRegression()</pre><b>In a Jupyter environment, please rerun this cell to show the HTML representation or trust the notebook. <br />On GitHub, the HTML representation is unable to render, please try loading this page with nbviewer.org.</b></div><div class=\"sk-container\" hidden><div class=\"sk-item\"><div class=\"sk-estimator sk-toggleable\"><input class=\"sk-toggleable__control sk-hidden--visually\" id=\"sk-estimator-id-68\" type=\"checkbox\" checked><label for=\"sk-estimator-id-68\" class=\"sk-toggleable__label sk-toggleable__label-arrow\">LinearRegression</label><div class=\"sk-toggleable__content\"><pre>LinearRegression()</pre></div></div></div></div></div>"
      ],
      "text/plain": [
       "LinearRegression()"
      ]
     },
     "execution_count": 262,
     "metadata": {},
     "output_type": "execute_result"
    }
   ],
   "source": [
    "lin.fit(X_train_sc, y_train)"
   ]
  },
  {
   "cell_type": "code",
   "execution_count": 263,
   "id": "d0c27a32-676c-4928-b867-a810dbf926a8",
   "metadata": {},
   "outputs": [
    {
     "data": {
      "text/html": [
       "<style>#sk-container-id-33 {color: black;}#sk-container-id-33 pre{padding: 0;}#sk-container-id-33 div.sk-toggleable {background-color: white;}#sk-container-id-33 label.sk-toggleable__label {cursor: pointer;display: block;width: 100%;margin-bottom: 0;padding: 0.3em;box-sizing: border-box;text-align: center;}#sk-container-id-33 label.sk-toggleable__label-arrow:before {content: \"▸\";float: left;margin-right: 0.25em;color: #696969;}#sk-container-id-33 label.sk-toggleable__label-arrow:hover:before {color: black;}#sk-container-id-33 div.sk-estimator:hover label.sk-toggleable__label-arrow:before {color: black;}#sk-container-id-33 div.sk-toggleable__content {max-height: 0;max-width: 0;overflow: hidden;text-align: left;background-color: #f0f8ff;}#sk-container-id-33 div.sk-toggleable__content pre {margin: 0.2em;color: black;border-radius: 0.25em;background-color: #f0f8ff;}#sk-container-id-33 input.sk-toggleable__control:checked~div.sk-toggleable__content {max-height: 200px;max-width: 100%;overflow: auto;}#sk-container-id-33 input.sk-toggleable__control:checked~label.sk-toggleable__label-arrow:before {content: \"▾\";}#sk-container-id-33 div.sk-estimator input.sk-toggleable__control:checked~label.sk-toggleable__label {background-color: #d4ebff;}#sk-container-id-33 div.sk-label input.sk-toggleable__control:checked~label.sk-toggleable__label {background-color: #d4ebff;}#sk-container-id-33 input.sk-hidden--visually {border: 0;clip: rect(1px 1px 1px 1px);clip: rect(1px, 1px, 1px, 1px);height: 1px;margin: -1px;overflow: hidden;padding: 0;position: absolute;width: 1px;}#sk-container-id-33 div.sk-estimator {font-family: monospace;background-color: #f0f8ff;border: 1px dotted black;border-radius: 0.25em;box-sizing: border-box;margin-bottom: 0.5em;}#sk-container-id-33 div.sk-estimator:hover {background-color: #d4ebff;}#sk-container-id-33 div.sk-parallel-item::after {content: \"\";width: 100%;border-bottom: 1px solid gray;flex-grow: 1;}#sk-container-id-33 div.sk-label:hover label.sk-toggleable__label {background-color: #d4ebff;}#sk-container-id-33 div.sk-serial::before {content: \"\";position: absolute;border-left: 1px solid gray;box-sizing: border-box;top: 0;bottom: 0;left: 50%;z-index: 0;}#sk-container-id-33 div.sk-serial {display: flex;flex-direction: column;align-items: center;background-color: white;padding-right: 0.2em;padding-left: 0.2em;position: relative;}#sk-container-id-33 div.sk-item {position: relative;z-index: 1;}#sk-container-id-33 div.sk-parallel {display: flex;align-items: stretch;justify-content: center;background-color: white;position: relative;}#sk-container-id-33 div.sk-item::before, #sk-container-id-33 div.sk-parallel-item::before {content: \"\";position: absolute;border-left: 1px solid gray;box-sizing: border-box;top: 0;bottom: 0;left: 50%;z-index: -1;}#sk-container-id-33 div.sk-parallel-item {display: flex;flex-direction: column;z-index: 1;position: relative;background-color: white;}#sk-container-id-33 div.sk-parallel-item:first-child::after {align-self: flex-end;width: 50%;}#sk-container-id-33 div.sk-parallel-item:last-child::after {align-self: flex-start;width: 50%;}#sk-container-id-33 div.sk-parallel-item:only-child::after {width: 0;}#sk-container-id-33 div.sk-dashed-wrapped {border: 1px dashed gray;margin: 0 0.4em 0.5em 0.4em;box-sizing: border-box;padding-bottom: 0.4em;background-color: white;}#sk-container-id-33 div.sk-label label {font-family: monospace;font-weight: bold;display: inline-block;line-height: 1.2em;}#sk-container-id-33 div.sk-label-container {text-align: center;}#sk-container-id-33 div.sk-container {/* jupyter's `normalize.less` sets `[hidden] { display: none; }` but bootstrap.min.css set `[hidden] { display: none !important; }` so we also need the `!important` here to be able to override the default hidden behavior on the sphinx rendered scikit-learn.org. See: https://github.com/scikit-learn/scikit-learn/issues/21755 */display: inline-block !important;position: relative;}#sk-container-id-33 div.sk-text-repr-fallback {display: none;}</style><div id=\"sk-container-id-33\" class=\"sk-top-container\"><div class=\"sk-text-repr-fallback\"><pre>Lasso()</pre><b>In a Jupyter environment, please rerun this cell to show the HTML representation or trust the notebook. <br />On GitHub, the HTML representation is unable to render, please try loading this page with nbviewer.org.</b></div><div class=\"sk-container\" hidden><div class=\"sk-item\"><div class=\"sk-estimator sk-toggleable\"><input class=\"sk-toggleable__control sk-hidden--visually\" id=\"sk-estimator-id-69\" type=\"checkbox\" checked><label for=\"sk-estimator-id-69\" class=\"sk-toggleable__label sk-toggleable__label-arrow\">Lasso</label><div class=\"sk-toggleable__content\"><pre>Lasso()</pre></div></div></div></div></div>"
      ],
      "text/plain": [
       "Lasso()"
      ]
     },
     "execution_count": 263,
     "metadata": {},
     "output_type": "execute_result"
    }
   ],
   "source": [
    "lasso.fit(X_train_sc, y_train)"
   ]
  },
  {
   "cell_type": "code",
   "execution_count": 264,
   "id": "14c3f324-abac-4ee0-a7d5-0ceac0bbadec",
   "metadata": {},
   "outputs": [
    {
     "data": {
      "text/html": [
       "<style>#sk-container-id-34 {color: black;}#sk-container-id-34 pre{padding: 0;}#sk-container-id-34 div.sk-toggleable {background-color: white;}#sk-container-id-34 label.sk-toggleable__label {cursor: pointer;display: block;width: 100%;margin-bottom: 0;padding: 0.3em;box-sizing: border-box;text-align: center;}#sk-container-id-34 label.sk-toggleable__label-arrow:before {content: \"▸\";float: left;margin-right: 0.25em;color: #696969;}#sk-container-id-34 label.sk-toggleable__label-arrow:hover:before {color: black;}#sk-container-id-34 div.sk-estimator:hover label.sk-toggleable__label-arrow:before {color: black;}#sk-container-id-34 div.sk-toggleable__content {max-height: 0;max-width: 0;overflow: hidden;text-align: left;background-color: #f0f8ff;}#sk-container-id-34 div.sk-toggleable__content pre {margin: 0.2em;color: black;border-radius: 0.25em;background-color: #f0f8ff;}#sk-container-id-34 input.sk-toggleable__control:checked~div.sk-toggleable__content {max-height: 200px;max-width: 100%;overflow: auto;}#sk-container-id-34 input.sk-toggleable__control:checked~label.sk-toggleable__label-arrow:before {content: \"▾\";}#sk-container-id-34 div.sk-estimator input.sk-toggleable__control:checked~label.sk-toggleable__label {background-color: #d4ebff;}#sk-container-id-34 div.sk-label input.sk-toggleable__control:checked~label.sk-toggleable__label {background-color: #d4ebff;}#sk-container-id-34 input.sk-hidden--visually {border: 0;clip: rect(1px 1px 1px 1px);clip: rect(1px, 1px, 1px, 1px);height: 1px;margin: -1px;overflow: hidden;padding: 0;position: absolute;width: 1px;}#sk-container-id-34 div.sk-estimator {font-family: monospace;background-color: #f0f8ff;border: 1px dotted black;border-radius: 0.25em;box-sizing: border-box;margin-bottom: 0.5em;}#sk-container-id-34 div.sk-estimator:hover {background-color: #d4ebff;}#sk-container-id-34 div.sk-parallel-item::after {content: \"\";width: 100%;border-bottom: 1px solid gray;flex-grow: 1;}#sk-container-id-34 div.sk-label:hover label.sk-toggleable__label {background-color: #d4ebff;}#sk-container-id-34 div.sk-serial::before {content: \"\";position: absolute;border-left: 1px solid gray;box-sizing: border-box;top: 0;bottom: 0;left: 50%;z-index: 0;}#sk-container-id-34 div.sk-serial {display: flex;flex-direction: column;align-items: center;background-color: white;padding-right: 0.2em;padding-left: 0.2em;position: relative;}#sk-container-id-34 div.sk-item {position: relative;z-index: 1;}#sk-container-id-34 div.sk-parallel {display: flex;align-items: stretch;justify-content: center;background-color: white;position: relative;}#sk-container-id-34 div.sk-item::before, #sk-container-id-34 div.sk-parallel-item::before {content: \"\";position: absolute;border-left: 1px solid gray;box-sizing: border-box;top: 0;bottom: 0;left: 50%;z-index: -1;}#sk-container-id-34 div.sk-parallel-item {display: flex;flex-direction: column;z-index: 1;position: relative;background-color: white;}#sk-container-id-34 div.sk-parallel-item:first-child::after {align-self: flex-end;width: 50%;}#sk-container-id-34 div.sk-parallel-item:last-child::after {align-self: flex-start;width: 50%;}#sk-container-id-34 div.sk-parallel-item:only-child::after {width: 0;}#sk-container-id-34 div.sk-dashed-wrapped {border: 1px dashed gray;margin: 0 0.4em 0.5em 0.4em;box-sizing: border-box;padding-bottom: 0.4em;background-color: white;}#sk-container-id-34 div.sk-label label {font-family: monospace;font-weight: bold;display: inline-block;line-height: 1.2em;}#sk-container-id-34 div.sk-label-container {text-align: center;}#sk-container-id-34 div.sk-container {/* jupyter's `normalize.less` sets `[hidden] { display: none; }` but bootstrap.min.css set `[hidden] { display: none !important; }` so we also need the `!important` here to be able to override the default hidden behavior on the sphinx rendered scikit-learn.org. See: https://github.com/scikit-learn/scikit-learn/issues/21755 */display: inline-block !important;position: relative;}#sk-container-id-34 div.sk-text-repr-fallback {display: none;}</style><div id=\"sk-container-id-34\" class=\"sk-top-container\"><div class=\"sk-text-repr-fallback\"><pre>Ridge()</pre><b>In a Jupyter environment, please rerun this cell to show the HTML representation or trust the notebook. <br />On GitHub, the HTML representation is unable to render, please try loading this page with nbviewer.org.</b></div><div class=\"sk-container\" hidden><div class=\"sk-item\"><div class=\"sk-estimator sk-toggleable\"><input class=\"sk-toggleable__control sk-hidden--visually\" id=\"sk-estimator-id-70\" type=\"checkbox\" checked><label for=\"sk-estimator-id-70\" class=\"sk-toggleable__label sk-toggleable__label-arrow\">Ridge</label><div class=\"sk-toggleable__content\"><pre>Ridge()</pre></div></div></div></div></div>"
      ],
      "text/plain": [
       "Ridge()"
      ]
     },
     "execution_count": 264,
     "metadata": {},
     "output_type": "execute_result"
    }
   ],
   "source": [
    "ridge.fit(X_train_sc,y_train)"
   ]
  },
  {
   "cell_type": "code",
   "execution_count": 265,
   "id": "569f8448-c2d2-4ce0-a796-a491cf58449b",
   "metadata": {},
   "outputs": [
    {
     "name": "stdout",
     "output_type": "stream",
     "text": [
      "The train score for Lin model is 0.9957651284014981\n",
      "The test score for Lin model is 0.9944418810438017\n"
     ]
    }
   ],
   "source": [
    "predictions_lin_train = lin.predict(X_train_sc)\n",
    "predictions_lin = lin.predict(X_test_sc)\n",
    "\n",
    "# Display overall scores\n",
    "train_score_lin = lin.score(X_train_sc, y_train)\n",
    "test_score_lin = lin.score(X_test_sc, y_test)\n",
    "print(\"The train score for Lin model is {}\".format(train_score_lin))\n",
    "print(\"The test score for Lin model is {}\".format(test_score_lin))"
   ]
  },
  {
   "cell_type": "code",
   "execution_count": 266,
   "id": "dd95787b-e7c0-4362-a872-fc30b3b5c8ee",
   "metadata": {},
   "outputs": [
    {
     "name": "stdout",
     "output_type": "stream",
     "text": [
      "The Linear model train root mean squared error (RMSE) is 1.0967680221235012\n",
      "The Linear model test mean squared error is (RMSE) 1.3307908391667713\n"
     ]
    }
   ],
   "source": [
    "mean_squared_error(y_train, predictions_lin_train)\n",
    "mean_squared_error(y_test, predictions_lin)\n",
    "print(\"The Linear model train root mean squared error (RMSE) is {}\".format(math.sqrt(mean_squared_error(y_train, predictions_lin_train))))\n",
    "print(\"The Linear model test mean squared error is (RMSE) {}\".format(math.sqrt(mean_squared_error(y_test, predictions_lin))))"
   ]
  },
  {
   "cell_type": "code",
   "execution_count": 267,
   "id": "f7807331-0c87-4e7b-8fa5-13e78ffd2529",
   "metadata": {},
   "outputs": [
    {
     "name": "stdout",
     "output_type": "stream",
     "text": [
      "The train score for Lasso model is 0.9020492119638948\n",
      "The test score for Lasso model is 0.9113628540726311\n"
     ]
    }
   ],
   "source": [
    "#predict\n",
    "predictions_lasso_train = lasso.predict(X_train_sc)\n",
    "predictions_lasso = lasso.predict(X_test_sc)\n",
    "\n",
    "# Display overall scores\n",
    "train_score_lasso = lasso.score(X_train_sc, y_train)\n",
    "test_score_lasso = lasso.score(X_test_sc, y_test)\n",
    "print(\"The train score for Lasso model is {}\".format(train_score_lasso))\n",
    "print(\"The test score for Lasso model is {}\".format(test_score_lasso))"
   ]
  },
  {
   "cell_type": "code",
   "execution_count": 268,
   "id": "4274f189-d5a2-4beb-a464-a929c82b7553",
   "metadata": {},
   "outputs": [
    {
     "name": "stdout",
     "output_type": "stream",
     "text": [
      "The Lasso model train root mean squared error (RMSE) is 5.274710433817572\n",
      "The Lasso model test root mean squared error (RMSE) is 5.314394202920832\n"
     ]
    }
   ],
   "source": [
    "mean_squared_error(y_train, predictions_lasso_train)\n",
    "mean_squared_error(y_test, predictions_lasso)\n",
    "print(\"The Lasso model train root mean squared error (RMSE) is {}\".format(math.sqrt(mean_squared_error(y_train, predictions_lasso_train))))\n",
    "print(\"The Lasso model test root mean squared error (RMSE) is {}\".format(math.sqrt(mean_squared_error(y_test, predictions_lasso))))"
   ]
  },
  {
   "cell_type": "code",
   "execution_count": 269,
   "id": "370a1c5f-a731-4dd6-a368-f49aef051171",
   "metadata": {},
   "outputs": [
    {
     "name": "stdout",
     "output_type": "stream",
     "text": [
      "The train score for Ridge model is 0.994920181714507\n",
      "The test score for Ridge model is 0.9936021302940357\n"
     ]
    }
   ],
   "source": [
    "# Predictions\n",
    "predictions_ridge_train = ridge.predict(X_train_sc)\n",
    "predictions_ridge = ridge.predict(X_test_sc)\n",
    "\n",
    "# Display overall scores\n",
    "train_score_ridge = ridge.score(X_train_sc, y_train)\n",
    "test_score_ridge = ridge.score(X_test_sc, y_test)\n",
    "print(\"The train score for Ridge model is {}\".format(train_score_ridge))\n",
    "print(\"The test score for Ridge model is {}\".format(test_score_ridge))"
   ]
  },
  {
   "cell_type": "code",
   "execution_count": 270,
   "id": "5095186f-c630-4274-b82d-bb1de45e367f",
   "metadata": {},
   "outputs": [
    {
     "name": "stdout",
     "output_type": "stream",
     "text": [
      "The Ridge model train root mean squared error (RMSE) is 1.2012094619265186\n",
      "The Ridge model test root mean squared error (RMSE) is 1.4277875135293363\n"
     ]
    }
   ],
   "source": [
    "mean_squared_error(y_train, predictions_ridge_train)\n",
    "mean_squared_error(y_test, predictions_ridge)\n",
    "print(\"The Ridge model train root mean squared error (RMSE) is {}\".format(math.sqrt(mean_squared_error(y_train, predictions_ridge_train))))\n",
    "print(\"The Ridge model test root mean squared error (RMSE) is {}\".format(math.sqrt(mean_squared_error(y_test, predictions_ridge))))"
   ]
  },
  {
   "cell_type": "markdown",
   "id": "bfffbcde-693a-46cb-8bf9-cec105761f21",
   "metadata": {},
   "source": [
    "## KNN Regression "
   ]
  },
  {
   "cell_type": "code",
   "execution_count": 271,
   "id": "55cca3ba-59b3-46a7-a8ea-0ca04a05cc9c",
   "metadata": {},
   "outputs": [],
   "source": [
    "# KNeighborsRegressor()\n",
    "knn = KNeighborsRegressor(n_neighbors=15)"
   ]
  },
  {
   "cell_type": "code",
   "execution_count": 272,
   "id": "47944164-eb61-4c47-a292-2a451d0499ce",
   "metadata": {},
   "outputs": [],
   "source": [
    "ss = StandardScaler()\n",
    "X_train_sc = ss.fit_transform(X_train)\n",
    "X_test_sc = ss.transform(X_test)"
   ]
  },
  {
   "cell_type": "code",
   "execution_count": 273,
   "id": "fe7e1634-b015-4723-979b-b2a398db023d",
   "metadata": {},
   "outputs": [
    {
     "data": {
      "text/html": [
       "<style>#sk-container-id-35 {color: black;}#sk-container-id-35 pre{padding: 0;}#sk-container-id-35 div.sk-toggleable {background-color: white;}#sk-container-id-35 label.sk-toggleable__label {cursor: pointer;display: block;width: 100%;margin-bottom: 0;padding: 0.3em;box-sizing: border-box;text-align: center;}#sk-container-id-35 label.sk-toggleable__label-arrow:before {content: \"▸\";float: left;margin-right: 0.25em;color: #696969;}#sk-container-id-35 label.sk-toggleable__label-arrow:hover:before {color: black;}#sk-container-id-35 div.sk-estimator:hover label.sk-toggleable__label-arrow:before {color: black;}#sk-container-id-35 div.sk-toggleable__content {max-height: 0;max-width: 0;overflow: hidden;text-align: left;background-color: #f0f8ff;}#sk-container-id-35 div.sk-toggleable__content pre {margin: 0.2em;color: black;border-radius: 0.25em;background-color: #f0f8ff;}#sk-container-id-35 input.sk-toggleable__control:checked~div.sk-toggleable__content {max-height: 200px;max-width: 100%;overflow: auto;}#sk-container-id-35 input.sk-toggleable__control:checked~label.sk-toggleable__label-arrow:before {content: \"▾\";}#sk-container-id-35 div.sk-estimator input.sk-toggleable__control:checked~label.sk-toggleable__label {background-color: #d4ebff;}#sk-container-id-35 div.sk-label input.sk-toggleable__control:checked~label.sk-toggleable__label {background-color: #d4ebff;}#sk-container-id-35 input.sk-hidden--visually {border: 0;clip: rect(1px 1px 1px 1px);clip: rect(1px, 1px, 1px, 1px);height: 1px;margin: -1px;overflow: hidden;padding: 0;position: absolute;width: 1px;}#sk-container-id-35 div.sk-estimator {font-family: monospace;background-color: #f0f8ff;border: 1px dotted black;border-radius: 0.25em;box-sizing: border-box;margin-bottom: 0.5em;}#sk-container-id-35 div.sk-estimator:hover {background-color: #d4ebff;}#sk-container-id-35 div.sk-parallel-item::after {content: \"\";width: 100%;border-bottom: 1px solid gray;flex-grow: 1;}#sk-container-id-35 div.sk-label:hover label.sk-toggleable__label {background-color: #d4ebff;}#sk-container-id-35 div.sk-serial::before {content: \"\";position: absolute;border-left: 1px solid gray;box-sizing: border-box;top: 0;bottom: 0;left: 50%;z-index: 0;}#sk-container-id-35 div.sk-serial {display: flex;flex-direction: column;align-items: center;background-color: white;padding-right: 0.2em;padding-left: 0.2em;position: relative;}#sk-container-id-35 div.sk-item {position: relative;z-index: 1;}#sk-container-id-35 div.sk-parallel {display: flex;align-items: stretch;justify-content: center;background-color: white;position: relative;}#sk-container-id-35 div.sk-item::before, #sk-container-id-35 div.sk-parallel-item::before {content: \"\";position: absolute;border-left: 1px solid gray;box-sizing: border-box;top: 0;bottom: 0;left: 50%;z-index: -1;}#sk-container-id-35 div.sk-parallel-item {display: flex;flex-direction: column;z-index: 1;position: relative;background-color: white;}#sk-container-id-35 div.sk-parallel-item:first-child::after {align-self: flex-end;width: 50%;}#sk-container-id-35 div.sk-parallel-item:last-child::after {align-self: flex-start;width: 50%;}#sk-container-id-35 div.sk-parallel-item:only-child::after {width: 0;}#sk-container-id-35 div.sk-dashed-wrapped {border: 1px dashed gray;margin: 0 0.4em 0.5em 0.4em;box-sizing: border-box;padding-bottom: 0.4em;background-color: white;}#sk-container-id-35 div.sk-label label {font-family: monospace;font-weight: bold;display: inline-block;line-height: 1.2em;}#sk-container-id-35 div.sk-label-container {text-align: center;}#sk-container-id-35 div.sk-container {/* jupyter's `normalize.less` sets `[hidden] { display: none; }` but bootstrap.min.css set `[hidden] { display: none !important; }` so we also need the `!important` here to be able to override the default hidden behavior on the sphinx rendered scikit-learn.org. See: https://github.com/scikit-learn/scikit-learn/issues/21755 */display: inline-block !important;position: relative;}#sk-container-id-35 div.sk-text-repr-fallback {display: none;}</style><div id=\"sk-container-id-35\" class=\"sk-top-container\"><div class=\"sk-text-repr-fallback\"><pre>KNeighborsRegressor(n_neighbors=15)</pre><b>In a Jupyter environment, please rerun this cell to show the HTML representation or trust the notebook. <br />On GitHub, the HTML representation is unable to render, please try loading this page with nbviewer.org.</b></div><div class=\"sk-container\" hidden><div class=\"sk-item\"><div class=\"sk-estimator sk-toggleable\"><input class=\"sk-toggleable__control sk-hidden--visually\" id=\"sk-estimator-id-71\" type=\"checkbox\" checked><label for=\"sk-estimator-id-71\" class=\"sk-toggleable__label sk-toggleable__label-arrow\">KNeighborsRegressor</label><div class=\"sk-toggleable__content\"><pre>KNeighborsRegressor(n_neighbors=15)</pre></div></div></div></div></div>"
      ],
      "text/plain": [
       "KNeighborsRegressor(n_neighbors=15)"
      ]
     },
     "execution_count": 273,
     "metadata": {},
     "output_type": "execute_result"
    }
   ],
   "source": [
    "knn.fit(X_train,y_train)"
   ]
  },
  {
   "cell_type": "code",
   "execution_count": 274,
   "id": "be9bd97b-3ca8-47d6-b971-58ba598bfa7d",
   "metadata": {},
   "outputs": [
    {
     "name": "stderr",
     "output_type": "stream",
     "text": [
      "/Users/ben/miniforge3/lib/python3.10/site-packages/sklearn/base.py:464: UserWarning: X does not have valid feature names, but KNeighborsRegressor was fitted with feature names\n",
      "  warnings.warn(\n",
      "python3.10(54478) MallocStackLogging: can't turn off malloc stack logging because it was not enabled.\n"
     ]
    },
    {
     "name": "stdout",
     "output_type": "stream",
     "text": [
      "The train score for KNN model is -1.185926499939288\n",
      "The test score for KNN model is -1.1200782069766828\n"
     ]
    },
    {
     "name": "stderr",
     "output_type": "stream",
     "text": [
      "/Users/ben/miniforge3/lib/python3.10/site-packages/sklearn/base.py:464: UserWarning: X does not have valid feature names, but KNeighborsRegressor was fitted with feature names\n",
      "  warnings.warn(\n",
      "/Users/ben/miniforge3/lib/python3.10/site-packages/sklearn/base.py:464: UserWarning: X does not have valid feature names, but KNeighborsRegressor was fitted with feature names\n",
      "  warnings.warn(\n",
      "/Users/ben/miniforge3/lib/python3.10/site-packages/sklearn/base.py:464: UserWarning: X does not have valid feature names, but KNeighborsRegressor was fitted with feature names\n",
      "  warnings.warn(\n"
     ]
    }
   ],
   "source": [
    "#predict\n",
    "predictions_knn_train = knn.predict(X_train_sc)\n",
    "predictions_knn = knn.predict(X_test_sc)\n",
    "\n",
    "# Display overall scores\n",
    "train_score_knn = knn.score(X_train_sc, y_train)\n",
    "test_score_knn = knn.score(X_test_sc, y_test)\n",
    "print(\"The train score for KNN model is {}\".format(train_score_knn))\n",
    "print(\"The test score for KNN model is {}\".format(test_score_knn))"
   ]
  },
  {
   "cell_type": "code",
   "execution_count": 286,
   "id": "3f20d543-5fc2-4717-a3ad-fbe0751c4081",
   "metadata": {},
   "outputs": [
    {
     "name": "stdout",
     "output_type": "stream",
     "text": [
      "The KNN model train root mean squared error (RMSE) is 0.0\n",
      "The KNN model test root mean squared error (RMSE) is 1.2920279869833784\n"
     ]
    }
   ],
   "source": [
    "mean_squared_error(y_train, predictions_knn_train)\n",
    "mean_squared_error(y_test, predictions_knn)\n",
    "print(\"The KNN model train root mean squared error (RMSE) is {}\".format(math.sqrt(mean_squared_error(y_train, predictions_knn_train))))\n",
    "print(\"The KNN model test root mean squared error (RMSE) is {}\".format(math.sqrt(mean_squared_error(y_test, predictions_knn))))"
   ]
  },
  {
   "cell_type": "code",
   "execution_count": 280,
   "id": "1debb032-70f9-4a42-8d03-35c1ab481566",
   "metadata": {},
   "outputs": [
    {
     "name": "stdout",
     "output_type": "stream",
     "text": [
      "Best Hyperparameters: {'n_neighbors': 5, 'p': 1, 'weights': 'distance'}\n"
     ]
    }
   ],
   "source": [
    "# Define the parameter grid to search\n",
    "param_grid = {\n",
    "    'n_neighbors': [5, 10, 15, 20, 25],\n",
    "    'weights': ['uniform', 'distance'],\n",
    "    'p': [1, 2, 3]  # Experiment with different values for p\n",
    "}\n",
    "\n",
    "# Create the KNN model with MultiOutputRegressor\n",
    "knn = KNeighborsRegressor()\n",
    "\n",
    "# Create the GridSearchCV object\n",
    "grid_search = GridSearchCV(knn, param_grid, cv=5, scoring='neg_mean_squared_error', n_jobs=-1)\n",
    "\n",
    "# Fit the grid search to the data\n",
    "grid_search.fit(X_train_sc, y_train)\n",
    "\n",
    "# Get the best parameters\n",
    "best_params = grid_search.best_params_\n",
    "print(\"Best Hyperparameters:\", best_params)\n",
    "\n",
    "# Use the best model for predictions\n",
    "best_knn = grid_search.best_estimator_\n",
    "predictions_knn_train = best_knn.predict(X_train_sc)\n",
    "predictions_knn = best_knn.predict(X_test_sc)"
   ]
  },
  {
   "cell_type": "code",
   "execution_count": 281,
   "id": "8bde50cb-d3af-4830-829f-d528d163b9a5",
   "metadata": {},
   "outputs": [
    {
     "name": "stdout",
     "output_type": "stream",
     "text": [
      "The train score for the best KNN model is 1.0\n",
      "The test score for the best KNN model is 0.9947609556556071\n"
     ]
    }
   ],
   "source": [
    "# Display overall scores\n",
    "train_score_knn = best_knn.score(X_train_sc, y_train)\n",
    "test_score_knn = best_knn.score(X_test_sc, y_test)\n",
    "print(\"The train score for the best KNN model is {}\".format(train_score_knn))\n",
    "print(\"The test score for the best KNN model is {}\".format(test_score_knn))"
   ]
  },
  {
   "cell_type": "code",
   "execution_count": 285,
   "id": "fd34e94a-b88d-48cb-ad5b-ec488b8a26c2",
   "metadata": {},
   "outputs": [
    {
     "name": "stdout",
     "output_type": "stream",
     "text": [
      "The KNN model train root mean squared error (RMSE) is 0.0\n",
      "The KNN model test root mean squared error (RMSE) is 1.2920279869833784\n"
     ]
    }
   ],
   "source": [
    "mean_squared_error(y_train, predictions_knn_train)\n",
    "mean_squared_error(y_test, predictions_knn)\n",
    "print(\"The KNN model train root mean squared error (RMSE) is {}\".format(math.sqrt(mean_squared_error(y_train, predictions_knn_train))))\n",
    "print(\"The KNN model test root mean squared error (RMSE) is {}\".format(math.sqrt(mean_squared_error(y_test, predictions_knn))))"
   ]
  },
  {
   "cell_type": "markdown",
   "id": "62b74a10-3828-4a6b-a887-dbc01a92c2dd",
   "metadata": {},
   "source": [
    "### More Models"
   ]
  },
  {
   "cell_type": "markdown",
   "id": "3470cb9f-6abc-4a1e-9453-482ecbafd48f",
   "metadata": {},
   "source": [
    "#### Decision Tree Regressor"
   ]
  },
  {
   "cell_type": "code",
   "execution_count": 283,
   "id": "fe1d017a-1670-4646-a6ae-3bcb6bda7779",
   "metadata": {},
   "outputs": [],
   "source": [
    "dtr = DecisionTreeRegressor(random_state=42)"
   ]
  },
  {
   "cell_type": "code",
   "execution_count": 284,
   "id": "72f5c439-a5d4-463d-8656-4d5da38c9a64",
   "metadata": {},
   "outputs": [
    {
     "data": {
      "text/html": [
       "<style>#sk-container-id-36 {color: black;}#sk-container-id-36 pre{padding: 0;}#sk-container-id-36 div.sk-toggleable {background-color: white;}#sk-container-id-36 label.sk-toggleable__label {cursor: pointer;display: block;width: 100%;margin-bottom: 0;padding: 0.3em;box-sizing: border-box;text-align: center;}#sk-container-id-36 label.sk-toggleable__label-arrow:before {content: \"▸\";float: left;margin-right: 0.25em;color: #696969;}#sk-container-id-36 label.sk-toggleable__label-arrow:hover:before {color: black;}#sk-container-id-36 div.sk-estimator:hover label.sk-toggleable__label-arrow:before {color: black;}#sk-container-id-36 div.sk-toggleable__content {max-height: 0;max-width: 0;overflow: hidden;text-align: left;background-color: #f0f8ff;}#sk-container-id-36 div.sk-toggleable__content pre {margin: 0.2em;color: black;border-radius: 0.25em;background-color: #f0f8ff;}#sk-container-id-36 input.sk-toggleable__control:checked~div.sk-toggleable__content {max-height: 200px;max-width: 100%;overflow: auto;}#sk-container-id-36 input.sk-toggleable__control:checked~label.sk-toggleable__label-arrow:before {content: \"▾\";}#sk-container-id-36 div.sk-estimator input.sk-toggleable__control:checked~label.sk-toggleable__label {background-color: #d4ebff;}#sk-container-id-36 div.sk-label input.sk-toggleable__control:checked~label.sk-toggleable__label {background-color: #d4ebff;}#sk-container-id-36 input.sk-hidden--visually {border: 0;clip: rect(1px 1px 1px 1px);clip: rect(1px, 1px, 1px, 1px);height: 1px;margin: -1px;overflow: hidden;padding: 0;position: absolute;width: 1px;}#sk-container-id-36 div.sk-estimator {font-family: monospace;background-color: #f0f8ff;border: 1px dotted black;border-radius: 0.25em;box-sizing: border-box;margin-bottom: 0.5em;}#sk-container-id-36 div.sk-estimator:hover {background-color: #d4ebff;}#sk-container-id-36 div.sk-parallel-item::after {content: \"\";width: 100%;border-bottom: 1px solid gray;flex-grow: 1;}#sk-container-id-36 div.sk-label:hover label.sk-toggleable__label {background-color: #d4ebff;}#sk-container-id-36 div.sk-serial::before {content: \"\";position: absolute;border-left: 1px solid gray;box-sizing: border-box;top: 0;bottom: 0;left: 50%;z-index: 0;}#sk-container-id-36 div.sk-serial {display: flex;flex-direction: column;align-items: center;background-color: white;padding-right: 0.2em;padding-left: 0.2em;position: relative;}#sk-container-id-36 div.sk-item {position: relative;z-index: 1;}#sk-container-id-36 div.sk-parallel {display: flex;align-items: stretch;justify-content: center;background-color: white;position: relative;}#sk-container-id-36 div.sk-item::before, #sk-container-id-36 div.sk-parallel-item::before {content: \"\";position: absolute;border-left: 1px solid gray;box-sizing: border-box;top: 0;bottom: 0;left: 50%;z-index: -1;}#sk-container-id-36 div.sk-parallel-item {display: flex;flex-direction: column;z-index: 1;position: relative;background-color: white;}#sk-container-id-36 div.sk-parallel-item:first-child::after {align-self: flex-end;width: 50%;}#sk-container-id-36 div.sk-parallel-item:last-child::after {align-self: flex-start;width: 50%;}#sk-container-id-36 div.sk-parallel-item:only-child::after {width: 0;}#sk-container-id-36 div.sk-dashed-wrapped {border: 1px dashed gray;margin: 0 0.4em 0.5em 0.4em;box-sizing: border-box;padding-bottom: 0.4em;background-color: white;}#sk-container-id-36 div.sk-label label {font-family: monospace;font-weight: bold;display: inline-block;line-height: 1.2em;}#sk-container-id-36 div.sk-label-container {text-align: center;}#sk-container-id-36 div.sk-container {/* jupyter's `normalize.less` sets `[hidden] { display: none; }` but bootstrap.min.css set `[hidden] { display: none !important; }` so we also need the `!important` here to be able to override the default hidden behavior on the sphinx rendered scikit-learn.org. See: https://github.com/scikit-learn/scikit-learn/issues/21755 */display: inline-block !important;position: relative;}#sk-container-id-36 div.sk-text-repr-fallback {display: none;}</style><div id=\"sk-container-id-36\" class=\"sk-top-container\"><div class=\"sk-text-repr-fallback\"><pre>DecisionTreeRegressor(random_state=42)</pre><b>In a Jupyter environment, please rerun this cell to show the HTML representation or trust the notebook. <br />On GitHub, the HTML representation is unable to render, please try loading this page with nbviewer.org.</b></div><div class=\"sk-container\" hidden><div class=\"sk-item\"><div class=\"sk-estimator sk-toggleable\"><input class=\"sk-toggleable__control sk-hidden--visually\" id=\"sk-estimator-id-72\" type=\"checkbox\" checked><label for=\"sk-estimator-id-72\" class=\"sk-toggleable__label sk-toggleable__label-arrow\">DecisionTreeRegressor</label><div class=\"sk-toggleable__content\"><pre>DecisionTreeRegressor(random_state=42)</pre></div></div></div></div></div>"
      ],
      "text/plain": [
       "DecisionTreeRegressor(random_state=42)"
      ]
     },
     "execution_count": 284,
     "metadata": {},
     "output_type": "execute_result"
    }
   ],
   "source": [
    "dtr.fit(X_train_sc, y_train)"
   ]
  },
  {
   "cell_type": "code",
   "execution_count": 287,
   "id": "72951840-7176-49d7-8861-3a61c6f39868",
   "metadata": {},
   "outputs": [
    {
     "name": "stdout",
     "output_type": "stream",
     "text": [
      "The train score for DTR model is 1.0\n",
      "The test score for DTR model is 0.9880618496544075\n"
     ]
    }
   ],
   "source": [
    "#predict\n",
    "predictions_dtr_train = dtr.predict(X_train_sc)\n",
    "predictions_dtr = dtr.predict(X_test_sc)\n",
    "\n",
    "# Display overall scores\n",
    "train_score_dtr = dtr.score(X_train_sc, y_train)\n",
    "test_score_dtr = dtr.score(X_test_sc, y_test)\n",
    "print(\"The train score for DTR model is {}\".format(train_score_dtr))\n",
    "print(\"The test score for DTR model is {}\".format(test_score_dtr))"
   ]
  },
  {
   "cell_type": "code",
   "execution_count": 292,
   "id": "00e723cd-9d6f-4d21-9623-5aef99ef7550",
   "metadata": {},
   "outputs": [
    {
     "name": "stdout",
     "output_type": "stream",
     "text": [
      "The DTR model train root mean squared error (RMSE) is 6.680677472955323e-17\n",
      "The DTR model test root mean squared error (RMSE) is 1.9506064053004768\n"
     ]
    }
   ],
   "source": [
    "mean_squared_error(y_train, predictions_dtr_train)\n",
    "mean_squared_error(y_test, predictions_dtr)\n",
    "print(\"The DTR model train root mean squared error (RMSE) is {}\".format(math.sqrt(mean_squared_error(y_train, predictions_dtr_train))))\n",
    "print(\"The DTR model test root mean squared error (RMSE) is {}\".format(math.sqrt(mean_squared_error(y_test, predictions_dtr))))"
   ]
  },
  {
   "cell_type": "code",
   "execution_count": 289,
   "id": "6e49ae81-c079-4f1c-a108-e58e606e5807",
   "metadata": {},
   "outputs": [
    {
     "name": "stdout",
     "output_type": "stream",
     "text": [
      "Best Hyperparameters: {'max_depth': None, 'min_samples_leaf': 1, 'min_samples_split': 2}\n",
      "The train score for the best DTR model is 1.0\n",
      "The test score for the best DTR model is 0.9880588123219665\n"
     ]
    }
   ],
   "source": [
    "# Create a Decision Tree Regressor model with MultiOutputRegressor\n",
    "dtr = DecisionTreeRegressor()\n",
    "\n",
    "# Define the parameter grid to search\n",
    "param_grid = {\n",
    "    'max_depth': [None, 5, 10, 15],\n",
    "    'min_samples_split': [2, 5, 10],\n",
    "    'min_samples_leaf': [1, 2, 4]\n",
    "}\n",
    "\n",
    "# Create the GridSearchCV object\n",
    "grid_search = GridSearchCV(dtr, param_grid, cv=5, scoring='neg_mean_squared_error', n_jobs=-1)\n",
    "\n",
    "# Fit the grid search to the data\n",
    "grid_search.fit(X_train_sc, y_train)\n",
    "\n",
    "# Get the best parameters\n",
    "best_params = grid_search.best_params_\n",
    "print(\"Best Hyperparameters:\", best_params)\n",
    "\n",
    "# Use the best model for predictions\n",
    "best_dtr = grid_search.best_estimator_\n",
    "predictions_dtr_train = best_dtr.predict(X_train_sc)\n",
    "predictions_dtr = best_dtr.predict(X_test_sc)\n",
    "\n",
    "# Display overall scores\n",
    "train_score_dtr = best_dtr.score(X_train_sc, y_train)\n",
    "test_score_dtr = best_dtr.score(X_test_sc, y_test)\n",
    "print(\"The train score for the best DTR model is {}\".format(train_score_dtr))\n",
    "print(\"The test score for the best DTR model is {}\".format(test_score_dtr))"
   ]
  },
  {
   "cell_type": "code",
   "execution_count": 291,
   "id": "45fd40a2-f76d-4f1e-9cd5-22232b60ff78",
   "metadata": {},
   "outputs": [
    {
     "name": "stdout",
     "output_type": "stream",
     "text": [
      "The DTR model train root mean squared error (RMSE) is 6.680677472955323e-17\n",
      "The DTR model test root mean squared error (RMSE) is 1.9506064053004768\n"
     ]
    }
   ],
   "source": [
    "mean_squared_error(y_train, predictions_dtr_train)\n",
    "mean_squared_error(y_test, predictions_dtr)\n",
    "print(\"The DTR model train root mean squared error (RMSE) is {}\".format(math.sqrt(mean_squared_error(y_train, predictions_dtr_train))))\n",
    "print(\"The DTR model test root mean squared error (RMSE) is {}\".format(math.sqrt(mean_squared_error(y_test, predictions_dtr))))"
   ]
  },
  {
   "cell_type": "markdown",
   "id": "9da8a887-ca5d-4281-bef0-b396d961abed",
   "metadata": {},
   "source": [
    "#### Bagging Tree"
   ]
  },
  {
   "cell_type": "code",
   "execution_count": 294,
   "id": "93e0a988-e1b3-4837-8a30-aaaec05f9179",
   "metadata": {},
   "outputs": [
    {
     "name": "stdout",
     "output_type": "stream",
     "text": [
      "Best Hyperparameters: {'max_features': 1.0, 'max_samples': 1.0, 'n_estimators': 100}\n",
      "The train score for the best Bagging Regressor model is 0.9989159312285973\n",
      "The test score for the best Bagging Regressor model is 0.9952688242114469\n"
     ]
    }
   ],
   "source": [
    "# Create a BaggingRegressor model with MultiOutputRegressor\n",
    "br = BaggingRegressor()\n",
    "\n",
    "# Define the parameter grid to search\n",
    "param_grid = {\n",
    "    'n_estimators': [10, 50, 100],\n",
    "    'max_samples': [0.5, 0.7, 1.0],\n",
    "    'max_features': [0.5, 0.7, 1.0]\n",
    "}\n",
    "\n",
    "# Create the GridSearchCV object\n",
    "grid_search = GridSearchCV(br, param_grid, cv=5, scoring='neg_mean_squared_error', n_jobs=-1)\n",
    "\n",
    "# Fit the grid search to the data\n",
    "grid_search.fit(X_train_sc, y_train)\n",
    "\n",
    "# Get the best parameters\n",
    "best_params_br = grid_search.best_params_ \n",
    "print(\"Best Hyperparameters:\", best_params_br)\n",
    "\n",
    "# Use the best model for predictions\n",
    "best_br = grid_search.best_estimator_\n",
    "predictions_br_train = best_br.predict(X_train_sc)\n",
    "predictions_br = best_br.predict(X_test_sc)\n",
    "\n",
    "# Display overall scores\n",
    "train_score_br = best_br.score(X_train_sc, y_train)\n",
    "test_score_br = best_br.score(X_test_sc, y_test)\n",
    "print(\"The train score for the best Bagging Regressor model is {}\".format(train_score_br))\n",
    "print(\"The test score for the best Bagging Regressor model is {}\".format(test_score_br))"
   ]
  },
  {
   "cell_type": "code",
   "execution_count": 295,
   "id": "2973cf00-0889-4787-a02d-53723f345b64",
   "metadata": {},
   "outputs": [
    {
     "name": "stdout",
     "output_type": "stream",
     "text": [
      "The Bagging Regressor model train root mean squared error (RMSE) is 0.5549106665279538\n",
      "The Bagging Regressor model test root mean squared error (RMSE) is 1.2278079081372493\n"
     ]
    }
   ],
   "source": [
    "mean_squared_error(y_train, predictions_br_train)\n",
    "mean_squared_error(y_test, predictions_br)\n",
    "print(\"The Bagging Regressor model train root mean squared error (RMSE) is {}\".format(math.sqrt(mean_squared_error(y_train, predictions_br_train))))\n",
    "print(\"The Bagging Regressor model test root mean squared error (RMSE) is {}\".format(math.sqrt(mean_squared_error(y_test, predictions_br))))"
   ]
  },
  {
   "cell_type": "markdown",
   "id": "b4534b76-87cd-4ea8-9f4f-135ba9cfaaca",
   "metadata": {},
   "source": [
    "#### Random Forest"
   ]
  },
  {
   "cell_type": "code",
   "execution_count": 296,
   "id": "275accf0-be89-4811-ae96-d6d403671923",
   "metadata": {},
   "outputs": [
    {
     "name": "stderr",
     "output_type": "stream",
     "text": [
      "/Users/ben/miniforge3/lib/python3.10/site-packages/sklearn/model_selection/_validation.py:425: FitFailedWarning: \n",
      "640 fits failed out of a total of 960.\n",
      "The score on these train-test partitions for these parameters will be set to nan.\n",
      "If these failures are not expected, you can try to debug them by setting error_score='raise'.\n",
      "\n",
      "Below are more details about the failures:\n",
      "--------------------------------------------------------------------------------\n",
      "352 fits failed with the following error:\n",
      "Traceback (most recent call last):\n",
      "  File \"/Users/ben/miniforge3/lib/python3.10/site-packages/sklearn/model_selection/_validation.py\", line 732, in _fit_and_score\n",
      "    estimator.fit(X_train, y_train, **fit_params)\n",
      "  File \"/Users/ben/miniforge3/lib/python3.10/site-packages/sklearn/base.py\", line 1144, in wrapper\n",
      "    estimator._validate_params()\n",
      "  File \"/Users/ben/miniforge3/lib/python3.10/site-packages/sklearn/base.py\", line 637, in _validate_params\n",
      "    validate_parameter_constraints(\n",
      "  File \"/Users/ben/miniforge3/lib/python3.10/site-packages/sklearn/utils/_param_validation.py\", line 95, in validate_parameter_constraints\n",
      "    raise InvalidParameterError(\n",
      "sklearn.utils._param_validation.InvalidParameterError: The 'max_features' parameter of RandomForestRegressor must be an int in the range [1, inf), a float in the range (0.0, 1.0], a str among {'sqrt', 'log2'} or None. Got 'auto' instead.\n",
      "\n",
      "--------------------------------------------------------------------------------\n",
      "128 fits failed with the following error:\n",
      "Traceback (most recent call last):\n",
      "  File \"/Users/ben/miniforge3/lib/python3.10/site-packages/sklearn/model_selection/_validation.py\", line 732, in _fit_and_score\n",
      "    estimator.fit(X_train, y_train, **fit_params)\n",
      "  File \"/Users/ben/miniforge3/lib/python3.10/site-packages/sklearn/base.py\", line 1144, in wrapper\n",
      "    estimator._validate_params()\n",
      "  File \"/Users/ben/miniforge3/lib/python3.10/site-packages/sklearn/base.py\", line 637, in _validate_params\n",
      "    validate_parameter_constraints(\n",
      "  File \"/Users/ben/miniforge3/lib/python3.10/site-packages/sklearn/utils/_param_validation.py\", line 95, in validate_parameter_constraints\n",
      "    raise InvalidParameterError(\n",
      "sklearn.utils._param_validation.InvalidParameterError: The 'max_features' parameter of RandomForestRegressor must be an int in the range [1, inf), a float in the range (0.0, 1.0], a str among {'log2', 'sqrt'} or None. Got 'auto' instead.\n",
      "\n",
      "--------------------------------------------------------------------------------\n",
      "160 fits failed with the following error:\n",
      "Traceback (most recent call last):\n",
      "  File \"/Users/ben/miniforge3/lib/python3.10/site-packages/sklearn/model_selection/_validation.py\", line 732, in _fit_and_score\n",
      "    estimator.fit(X_train, y_train, **fit_params)\n",
      "  File \"/Users/ben/miniforge3/lib/python3.10/site-packages/sklearn/base.py\", line 1144, in wrapper\n",
      "    estimator._validate_params()\n",
      "  File \"/Users/ben/miniforge3/lib/python3.10/site-packages/sklearn/base.py\", line 637, in _validate_params\n",
      "    validate_parameter_constraints(\n",
      "  File \"/Users/ben/miniforge3/lib/python3.10/site-packages/sklearn/utils/_param_validation.py\", line 95, in validate_parameter_constraints\n",
      "    raise InvalidParameterError(\n",
      "sklearn.utils._param_validation.InvalidParameterError: The 'min_samples_split' parameter of RandomForestRegressor must be an int in the range [2, inf) or a float in the range (0.0, 1.0]. Got 1 instead.\n",
      "\n",
      "  warnings.warn(some_fits_failed_message, FitFailedWarning)\n",
      "/Users/ben/miniforge3/lib/python3.10/site-packages/sklearn/model_selection/_search.py:976: UserWarning: One or more of the test scores are non-finite: [          nan           nan           nan           nan           nan\n",
      "           nan           nan           nan           nan           nan\n",
      "           nan           nan           nan           nan           nan\n",
      "           nan           nan           nan           nan           nan\n",
      "           nan           nan           nan           nan           nan\n",
      "           nan           nan           nan   -6.89485596   -5.61468959\n",
      "   -4.42200624   -4.3554931    -6.28078572   -5.79257783   -5.14804415\n",
      "   -5.0010723            nan           nan           nan           nan\n",
      "   -9.56209902   -8.27137082   -7.63757608   -7.12886355  -11.01968364\n",
      "   -8.77328021   -8.32385263   -8.26966119           nan           nan\n",
      "           nan           nan           nan           nan           nan\n",
      "           nan           nan           nan           nan           nan\n",
      "           nan           nan           nan           nan           nan\n",
      "           nan           nan           nan           nan           nan\n",
      "           nan           nan           nan           nan           nan\n",
      "           nan -231.89114273 -245.36872067 -237.51192795 -230.66229923\n",
      " -231.89114273 -245.36872067 -237.51192795 -230.66229923           nan\n",
      "           nan           nan           nan -231.89114273 -245.36872067\n",
      " -237.51192795 -230.66229923 -231.89114273 -245.36872067 -237.51192795\n",
      " -230.66229923           nan           nan           nan           nan\n",
      "           nan           nan           nan           nan           nan\n",
      "           nan           nan           nan           nan           nan\n",
      "           nan           nan           nan           nan           nan\n",
      "           nan           nan           nan           nan           nan\n",
      "           nan           nan           nan           nan -172.31078638\n",
      " -190.8115017  -189.57826272 -176.71940416 -172.31078638 -190.8115017\n",
      " -189.57826272 -176.71940416           nan           nan           nan\n",
      "           nan -172.31078638 -190.80130027 -189.57203562 -176.73324193\n",
      " -172.31078638 -190.80130027 -189.57203562 -176.73324193           nan\n",
      "           nan           nan           nan           nan           nan\n",
      "           nan           nan           nan           nan           nan\n",
      "           nan           nan           nan           nan           nan\n",
      "           nan           nan           nan           nan           nan\n",
      "           nan           nan           nan           nan           nan\n",
      "           nan           nan  -75.33461747  -71.40832468  -78.190622\n",
      "  -73.27707219  -77.48090875  -71.78760131  -74.73718488  -72.49588664\n",
      "           nan           nan           nan           nan  -77.00295969\n",
      "  -72.88417661  -76.87787492  -73.70050903  -78.52807188  -73.42357843\n",
      "  -76.25575558  -73.55673097]\n",
      "  warnings.warn(\n"
     ]
    },
    {
     "name": "stdout",
     "output_type": "stream",
     "text": [
      "Best Hyperparameters: {'max_depth': None, 'max_features': 'sqrt', 'min_samples_leaf': 1, 'min_samples_split': 2, 'n_estimators': 100}\n",
      "The train score for the best RandomForest model is 0.9981620780564012\n",
      "The test score for the best RandomForest model is 0.9907277547633194\n"
     ]
    }
   ],
   "source": [
    "# Create a RandomForestRegressor model with MultiOutputRegressor\n",
    "rf = RandomForestRegressor(random_state=42)\n",
    "\n",
    "# Define the parameter grid to search\n",
    "param_grid = {\n",
    "    'n_estimators': [10, 25, 50, 100],\n",
    "    'max_depth': [None, 1, 2, 5],\n",
    "    'min_samples_split': [1, 2, 5],\n",
    "    'min_samples_leaf': [1, 2],\n",
    "    'max_features': ['auto', 'sqrt']\n",
    "}\n",
    "\n",
    "# Create the GridSearchCV object\n",
    "grid_search_rf = GridSearchCV(rf, param_grid, cv=5, scoring='neg_mean_squared_error', n_jobs=-1)\n",
    "\n",
    "# Fit the grid search to the data\n",
    "grid_search_rf.fit(X_train_sc, y_train)\n",
    "\n",
    "# Get the best parameters\n",
    "best_params_rf = grid_search_rf.best_params_\n",
    "print(\"Best Hyperparameters:\", best_params_rf)\n",
    "\n",
    "# Use the best model for predictions\n",
    "best_rf = grid_search_rf.best_estimator_\n",
    "predictions_rf_train = best_rf.predict(X_train_sc)\n",
    "predictions_rf = best_rf.predict(X_test_sc)\n",
    "\n",
    "# Display overall scores\n",
    "train_score_rf = best_rf.score(X_train_sc, y_train)\n",
    "test_score_rf = best_rf.score(X_test_sc, y_test)\n",
    "print(\"The train score for the best RandomForest model is {}\".format(train_score_rf))\n",
    "print(\"The test score for the best RandomForest model is {}\".format(test_score_rf))"
   ]
  },
  {
   "cell_type": "code",
   "execution_count": 298,
   "id": "8590bcf5-bb75-4608-8d18-029f943fbca8",
   "metadata": {},
   "outputs": [
    {
     "name": "stdout",
     "output_type": "stream",
     "text": [
      "The Random Forest model train root mean squared error (RMSE) is 0.722533832158648\n",
      "The Random Forest model test root mean squared error (RMSE) is 1.718851425629867\n"
     ]
    }
   ],
   "source": [
    "mean_squared_error(y_train, predictions_rf_train)\n",
    "mean_squared_error(y_test, predictions_rf)\n",
    "print(\"The Random Forest model train root mean squared error (RMSE) is {}\".format(math.sqrt(mean_squared_error(y_train, predictions_rf_train))))\n",
    "print(\"The Random Forest model test root mean squared error (RMSE) is {}\".format(math.sqrt(mean_squared_error(y_test, predictions_rf))))"
   ]
  },
  {
   "cell_type": "markdown",
   "id": "565eba6a-236f-44ef-9afa-9e14abe92ab6",
   "metadata": {},
   "source": [
    "#### ADA Boost"
   ]
  },
  {
   "cell_type": "code",
   "execution_count": 300,
   "id": "54b43729-8582-49eb-9f3f-38ab5714bd3c",
   "metadata": {},
   "outputs": [
    {
     "name": "stderr",
     "output_type": "stream",
     "text": [
      "python3.10(54746) MallocStackLogging: can't turn off malloc stack logging because it was not enabled.\n",
      "python3.10(54747) MallocStackLogging: can't turn off malloc stack logging because it was not enabled.\n",
      "python3.10(54748) MallocStackLogging: can't turn off malloc stack logging because it was not enabled.\n",
      "python3.10(54749) MallocStackLogging: can't turn off malloc stack logging because it was not enabled.\n",
      "python3.10(54750) MallocStackLogging: can't turn off malloc stack logging because it was not enabled.\n",
      "python3.10(54751) MallocStackLogging: can't turn off malloc stack logging because it was not enabled.\n",
      "python3.10(54752) MallocStackLogging: can't turn off malloc stack logging because it was not enabled.\n",
      "python3.10(54753) MallocStackLogging: can't turn off malloc stack logging because it was not enabled.\n"
     ]
    },
    {
     "name": "stdout",
     "output_type": "stream",
     "text": [
      "Best Hyperparameters: {'learning_rate': 1.0, 'loss': 'square', 'n_estimators': 50}\n",
      "The train score for the best AdaBoostRegressor model is 0.8300868198467096\n",
      "The test score for the best AdaBoostRegressor model is 0.8500276474643186\n"
     ]
    }
   ],
   "source": [
    "# Create an AdaBoostRegressor model with MultiOutputRegressor\n",
    "abr = AdaBoostRegressor(random_state=42)\n",
    "\n",
    "# Define the parameter grid to search\n",
    "param_grid = {\n",
    "    'n_estimators': [50, 100, 200],\n",
    "    'learning_rate': [0.001, 0.01, 0.1, 1.0],\n",
    "    'loss': ['linear', 'square', 'exponential']\n",
    "}\n",
    "\n",
    "# Create the GridSearchCV object\n",
    "grid_search_abr = GridSearchCV(abr, param_grid, cv=3, scoring='neg_mean_squared_error', n_jobs=-1)\n",
    "\n",
    "# Fit the grid search to the data\n",
    "grid_search_abr.fit(X_train_sc, y_train)\n",
    "\n",
    "# Get the best parameters\n",
    "best_params_abr = grid_search_abr.best_params_\n",
    "print(\"Best Hyperparameters:\", best_params_abr)\n",
    "\n",
    "# Use the best model for predictions\n",
    "best_abr = grid_search_abr.best_estimator_\n",
    "predictions_abr_train = best_abr.predict(X_train_sc)\n",
    "predictions_abr = best_abr.predict(X_test_sc)\n",
    "\n",
    "# Display overall scores\n",
    "train_score_abr = best_abr.score(X_train_sc, y_train)\n",
    "test_score_abr = best_abr.score(X_test_sc, y_test)\n",
    "print(\"The train score for the best AdaBoostRegressor model is {}\".format(train_score_abr))\n",
    "print(\"The test score for the best AdaBoostRegressor model is {}\".format(test_score_abr))"
   ]
  },
  {
   "cell_type": "code",
   "execution_count": 301,
   "id": "3c3c6963-3291-4028-914c-6b1327a68ecc",
   "metadata": {},
   "outputs": [
    {
     "name": "stdout",
     "output_type": "stream",
     "text": [
      "The ADA Boost model train root mean squared error (RMSE) is 6.947174219505573\n",
      "The ADA Boost model test root mean squared error (RMSE) is 6.912760108656165\n"
     ]
    }
   ],
   "source": [
    "mean_squared_error(y_train, predictions_abr_train)\n",
    "mean_squared_error(y_test, predictions_abr)\n",
    "print(\"The ADA Boost model train root mean squared error (RMSE) is {}\".format(math.sqrt(mean_squared_error(y_train, predictions_abr_train))))\n",
    "print(\"The ADA Boost model test root mean squared error (RMSE) is {}\".format(math.sqrt(mean_squared_error(y_test, predictions_abr))))"
   ]
  },
  {
   "cell_type": "markdown",
   "id": "4727a856-a656-43de-ab94-e2e66df02df8",
   "metadata": {},
   "source": [
    "#### Support Vector Machine"
   ]
  },
  {
   "cell_type": "code",
   "execution_count": 302,
   "id": "c468e476-8f84-4992-af62-66d2334aa49c",
   "metadata": {},
   "outputs": [
    {
     "name": "stdout",
     "output_type": "stream",
     "text": [
      "Best Hyperparameters: {'C': 10, 'degree': 2, 'epsilon': 0.5, 'kernel': 'rbf'}\n",
      "The train score for the best SVR model is 0.9301417778198422\n",
      "The test score for the best SVR model is 0.9431960326866551\n"
     ]
    }
   ],
   "source": [
    "# Create an SVR model with MultiOutputRegressor\n",
    "svr = SVR()\n",
    "\n",
    "# Define the parameter grid to search\n",
    "param_grid = {\n",
    "    'C': [0.001, 0.01, 0.1, 1, 10],\n",
    "    'kernel': ['linear', 'rbf', 'poly'],\n",
    "    'degree': [2, 3],\n",
    "    'epsilon': [0.1, 0.2, 0.5]\n",
    "}\n",
    "\n",
    "# Create the GridSearchCV object\n",
    "grid_search_svr = GridSearchCV(svr, param_grid, cv=3, scoring='neg_mean_squared_error', n_jobs=-1)\n",
    "\n",
    "# Fit the grid search to the data\n",
    "grid_search_svr.fit(X_train_sc, y_train)\n",
    "\n",
    "# Get the best parameters\n",
    "best_params_svr = grid_search_svr.best_params_\n",
    "print(\"Best Hyperparameters:\", best_params_svr)\n",
    "\n",
    "# Use the best model for predictions\n",
    "best_svr = grid_search_svr.best_estimator_\n",
    "predictions_svr_train = best_svr.predict(X_train_sc)\n",
    "predictions_svr = best_svr.predict(X_test_sc)\n",
    "\n",
    "# Display overall scores\n",
    "train_score_svr = best_svr.score(X_train_sc, y_train)\n",
    "test_score_svr = best_svr.score(X_test_sc, y_test)\n",
    "print(\"The train score for the best SVR model is {}\".format(train_score_svr))\n",
    "print(\"The test score for the best SVR model is {}\".format(test_score_svr))"
   ]
  },
  {
   "cell_type": "code",
   "execution_count": 304,
   "id": "285bb9c2-f675-4043-86dd-a07928f14e4a",
   "metadata": {},
   "outputs": [
    {
     "name": "stdout",
     "output_type": "stream",
     "text": [
      "The SVM Boost model train root mean squared error (RMSE) is 4.454545717462706\n",
      "The SVM Boost model test root mean squared error (RMSE) is 4.254369616076896\n"
     ]
    }
   ],
   "source": [
    "mean_squared_error(y_train, predictions_svr_train)\n",
    "mean_squared_error(y_test, predictions_svr)\n",
    "print(\"The SVM Boost model train root mean squared error (RMSE) is {}\".format(math.sqrt(mean_squared_error(y_train, predictions_svr_train))))\n",
    "print(\"The SVM Boost model test root mean squared error (RMSE) is {}\".format(math.sqrt(mean_squared_error(y_test, predictions_svr))))"
   ]
  }
 ],
 "metadata": {
  "kernelspec": {
   "display_name": "Python 3 (ipykernel)",
   "language": "python",
   "name": "python3"
  },
  "language_info": {
   "codemirror_mode": {
    "name": "ipython",
    "version": 3
   },
   "file_extension": ".py",
   "mimetype": "text/x-python",
   "name": "python",
   "nbconvert_exporter": "python",
   "pygments_lexer": "ipython3",
   "version": "3.10.13"
  }
 },
 "nbformat": 4,
 "nbformat_minor": 5
}
